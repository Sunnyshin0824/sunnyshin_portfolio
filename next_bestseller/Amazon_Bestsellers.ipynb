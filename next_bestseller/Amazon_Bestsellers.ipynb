{
 "cells": [
  {
   "cell_type": "markdown",
   "id": "8c761863",
   "metadata": {},
   "source": [
    "# Exploratory Data Analysis on Amazon Top 50 Bestselling Books"
   ]
  },
  {
   "cell_type": "markdown",
   "id": "949fcdc3",
   "metadata": {},
   "source": [
    "## 1.0 Importing Libraries"
   ]
  },
  {
   "cell_type": "code",
   "execution_count": 13,
   "id": "fbf17135",
   "metadata": {},
   "outputs": [],
   "source": [
    "import numpy as np\n",
    "import pandas as pd\n",
    "import seaborn as sns\n",
    "import matplotlib.pyplot as plt\n",
    "%matplotlib inline\n",
    "from plotly.subplots import make_subplots\n",
    "import plotly.graph_objects as go"
   ]
  },
  {
   "cell_type": "markdown",
   "id": "e158af66",
   "metadata": {},
   "source": [
    "## 2.0 Data description and cleaning"
   ]
  },
  {
   "cell_type": "markdown",
   "id": "5c9d52a1",
   "metadata": {},
   "source": [
    "### 2.1 Import data"
   ]
  },
  {
   "cell_type": "markdown",
   "id": "6113ff25",
   "metadata": {},
   "source": [
    "Import the Amazon Top 50 Bestselling Books from 2009 - 2019 dataset"
   ]
  },
  {
   "cell_type": "code",
   "execution_count": 14,
   "id": "b227d52a",
   "metadata": {},
   "outputs": [],
   "source": [
    "df = pd.read_csv('bestsellers with categories.csv', encoding = \"ISO-8859-1\")"
   ]
  },
  {
   "cell_type": "markdown",
   "id": "8ce1434c",
   "metadata": {},
   "source": [
    "### 2.2 Describe the data"
   ]
  },
  {
   "cell_type": "markdown",
   "id": "f6417711",
   "metadata": {},
   "source": [
    "Take a look at the data"
   ]
  },
  {
   "cell_type": "code",
   "execution_count": 4,
   "id": "020ce0aa",
   "metadata": {},
   "outputs": [
    {
     "data": {
      "text/html": [
       "<div>\n",
       "<style scoped>\n",
       "    .dataframe tbody tr th:only-of-type {\n",
       "        vertical-align: middle;\n",
       "    }\n",
       "\n",
       "    .dataframe tbody tr th {\n",
       "        vertical-align: top;\n",
       "    }\n",
       "\n",
       "    .dataframe thead th {\n",
       "        text-align: right;\n",
       "    }\n",
       "</style>\n",
       "<table border=\"1\" class=\"dataframe\">\n",
       "  <thead>\n",
       "    <tr style=\"text-align: right;\">\n",
       "      <th></th>\n",
       "      <th>Name</th>\n",
       "      <th>Author</th>\n",
       "      <th>User Rating</th>\n",
       "      <th>Reviews</th>\n",
       "      <th>Price</th>\n",
       "      <th>Year</th>\n",
       "      <th>Genre</th>\n",
       "    </tr>\n",
       "  </thead>\n",
       "  <tbody>\n",
       "    <tr>\n",
       "      <th>0</th>\n",
       "      <td>10-Day Green Smoothie Cleanse</td>\n",
       "      <td>JJ Smith</td>\n",
       "      <td>4.7</td>\n",
       "      <td>17350</td>\n",
       "      <td>8</td>\n",
       "      <td>2016</td>\n",
       "      <td>Non Fiction</td>\n",
       "    </tr>\n",
       "    <tr>\n",
       "      <th>1</th>\n",
       "      <td>11/22/63: A Novel</td>\n",
       "      <td>Stephen King</td>\n",
       "      <td>4.6</td>\n",
       "      <td>2052</td>\n",
       "      <td>22</td>\n",
       "      <td>2011</td>\n",
       "      <td>Fiction</td>\n",
       "    </tr>\n",
       "    <tr>\n",
       "      <th>2</th>\n",
       "      <td>12 Rules for Life: An Antidote to Chaos</td>\n",
       "      <td>Jordan B. Peterson</td>\n",
       "      <td>4.7</td>\n",
       "      <td>18979</td>\n",
       "      <td>15</td>\n",
       "      <td>2018</td>\n",
       "      <td>Non Fiction</td>\n",
       "    </tr>\n",
       "    <tr>\n",
       "      <th>3</th>\n",
       "      <td>1984 (Signet Classics)</td>\n",
       "      <td>George Orwell</td>\n",
       "      <td>4.7</td>\n",
       "      <td>21424</td>\n",
       "      <td>6</td>\n",
       "      <td>2017</td>\n",
       "      <td>Fiction</td>\n",
       "    </tr>\n",
       "    <tr>\n",
       "      <th>4</th>\n",
       "      <td>5,000 Awesome Facts (About Everything!) (Natio...</td>\n",
       "      <td>National Geographic Kids</td>\n",
       "      <td>4.8</td>\n",
       "      <td>7665</td>\n",
       "      <td>12</td>\n",
       "      <td>2019</td>\n",
       "      <td>Non Fiction</td>\n",
       "    </tr>\n",
       "  </tbody>\n",
       "</table>\n",
       "</div>"
      ],
      "text/plain": [
       "                                                Name  \\\n",
       "0                      10-Day Green Smoothie Cleanse   \n",
       "1                                  11/22/63: A Novel   \n",
       "2            12 Rules for Life: An Antidote to Chaos   \n",
       "3                             1984 (Signet Classics)   \n",
       "4  5,000 Awesome Facts (About Everything!) (Natio...   \n",
       "\n",
       "                     Author  User Rating  Reviews  Price  Year        Genre  \n",
       "0                  JJ Smith          4.7    17350      8  2016  Non Fiction  \n",
       "1              Stephen King          4.6     2052     22  2011      Fiction  \n",
       "2        Jordan B. Peterson          4.7    18979     15  2018  Non Fiction  \n",
       "3             George Orwell          4.7    21424      6  2017      Fiction  \n",
       "4  National Geographic Kids          4.8     7665     12  2019  Non Fiction  "
      ]
     },
     "execution_count": 4,
     "metadata": {},
     "output_type": "execute_result"
    }
   ],
   "source": [
    "df.head()"
   ]
  },
  {
   "cell_type": "code",
   "execution_count": 5,
   "id": "4da51a5d",
   "metadata": {},
   "outputs": [
    {
     "data": {
      "text/plain": [
       "(550, 7)"
      ]
     },
     "execution_count": 5,
     "metadata": {},
     "output_type": "execute_result"
    }
   ],
   "source": [
    "df.shape"
   ]
  },
  {
   "cell_type": "code",
   "execution_count": 9,
   "id": "f49e0dc3",
   "metadata": {
    "scrolled": true
   },
   "outputs": [
    {
     "data": {
      "text/plain": [
       "Name            object\n",
       "Author          object\n",
       "User Rating    float64\n",
       "Reviews          int64\n",
       "Price            int64\n",
       "Year             int64\n",
       "Genre           object\n",
       "dtype: object"
      ]
     },
     "execution_count": 9,
     "metadata": {},
     "output_type": "execute_result"
    }
   ],
   "source": [
    "df.dtypes"
   ]
  },
  {
   "cell_type": "markdown",
   "id": "76e92a31",
   "metadata": {},
   "source": [
    "The dataset has the variables correctly classified with four numeric columns (User Rating, Reviews, Prices, Year) and three alphanumeric variables."
   ]
  },
  {
   "cell_type": "code",
   "execution_count": 6,
   "id": "f39477f4",
   "metadata": {},
   "outputs": [
    {
     "data": {
      "text/html": [
       "<div>\n",
       "<style scoped>\n",
       "    .dataframe tbody tr th:only-of-type {\n",
       "        vertical-align: middle;\n",
       "    }\n",
       "\n",
       "    .dataframe tbody tr th {\n",
       "        vertical-align: top;\n",
       "    }\n",
       "\n",
       "    .dataframe thead th {\n",
       "        text-align: right;\n",
       "    }\n",
       "</style>\n",
       "<table border=\"1\" class=\"dataframe\">\n",
       "  <thead>\n",
       "    <tr style=\"text-align: right;\">\n",
       "      <th></th>\n",
       "      <th>User Rating</th>\n",
       "      <th>Reviews</th>\n",
       "      <th>Price</th>\n",
       "      <th>Year</th>\n",
       "    </tr>\n",
       "  </thead>\n",
       "  <tbody>\n",
       "    <tr>\n",
       "      <th>count</th>\n",
       "      <td>550.000000</td>\n",
       "      <td>550.000000</td>\n",
       "      <td>550.000000</td>\n",
       "      <td>550.000000</td>\n",
       "    </tr>\n",
       "    <tr>\n",
       "      <th>mean</th>\n",
       "      <td>4.618364</td>\n",
       "      <td>11953.281818</td>\n",
       "      <td>13.100000</td>\n",
       "      <td>2014.000000</td>\n",
       "    </tr>\n",
       "    <tr>\n",
       "      <th>std</th>\n",
       "      <td>0.226980</td>\n",
       "      <td>11731.132017</td>\n",
       "      <td>10.842262</td>\n",
       "      <td>3.165156</td>\n",
       "    </tr>\n",
       "    <tr>\n",
       "      <th>min</th>\n",
       "      <td>3.300000</td>\n",
       "      <td>37.000000</td>\n",
       "      <td>0.000000</td>\n",
       "      <td>2009.000000</td>\n",
       "    </tr>\n",
       "    <tr>\n",
       "      <th>25%</th>\n",
       "      <td>4.500000</td>\n",
       "      <td>4058.000000</td>\n",
       "      <td>7.000000</td>\n",
       "      <td>2011.000000</td>\n",
       "    </tr>\n",
       "    <tr>\n",
       "      <th>50%</th>\n",
       "      <td>4.700000</td>\n",
       "      <td>8580.000000</td>\n",
       "      <td>11.000000</td>\n",
       "      <td>2014.000000</td>\n",
       "    </tr>\n",
       "    <tr>\n",
       "      <th>75%</th>\n",
       "      <td>4.800000</td>\n",
       "      <td>17253.250000</td>\n",
       "      <td>16.000000</td>\n",
       "      <td>2017.000000</td>\n",
       "    </tr>\n",
       "    <tr>\n",
       "      <th>max</th>\n",
       "      <td>4.900000</td>\n",
       "      <td>87841.000000</td>\n",
       "      <td>105.000000</td>\n",
       "      <td>2019.000000</td>\n",
       "    </tr>\n",
       "  </tbody>\n",
       "</table>\n",
       "</div>"
      ],
      "text/plain": [
       "       User Rating       Reviews       Price         Year\n",
       "count   550.000000    550.000000  550.000000   550.000000\n",
       "mean      4.618364  11953.281818   13.100000  2014.000000\n",
       "std       0.226980  11731.132017   10.842262     3.165156\n",
       "min       3.300000     37.000000    0.000000  2009.000000\n",
       "25%       4.500000   4058.000000    7.000000  2011.000000\n",
       "50%       4.700000   8580.000000   11.000000  2014.000000\n",
       "75%       4.800000  17253.250000   16.000000  2017.000000\n",
       "max       4.900000  87841.000000  105.000000  2019.000000"
      ]
     },
     "execution_count": 6,
     "metadata": {},
     "output_type": "execute_result"
    }
   ],
   "source": [
    "df.describe()"
   ]
  },
  {
   "cell_type": "markdown",
   "id": "1dc082c4",
   "metadata": {},
   "source": [
    "The dataset contains 550 columns with the following seven features:\n",
    "- Name - the name of the book\n",
    "- Author - the author of the book\n",
    "- User Rating - average Amazon ratings of users\n",
    "- Reviews - total number of written reviews on Amazon \n",
    "- Price - Price of the book at 13/10/2020\n",
    "- Year - Year(s) it ranked on the bestseller\n",
    "- Genre - Fiction or non-fiction\n",
    "\n",
    "The prices of the books range from \\\\$0 to \\\\$105 with an average price of \\\\$13.10. The user ratings of the book range from 3.3 to 4.9 with an average rating of 4.6."
   ]
  },
  {
   "cell_type": "code",
   "execution_count": 89,
   "id": "bb075490",
   "metadata": {},
   "outputs": [
    {
     "data": {
      "text/html": [
       "<div>\n",
       "<style scoped>\n",
       "    .dataframe tbody tr th:only-of-type {\n",
       "        vertical-align: middle;\n",
       "    }\n",
       "\n",
       "    .dataframe tbody tr th {\n",
       "        vertical-align: top;\n",
       "    }\n",
       "\n",
       "    .dataframe thead th {\n",
       "        text-align: right;\n",
       "    }\n",
       "</style>\n",
       "<table border=\"1\" class=\"dataframe\">\n",
       "  <thead>\n",
       "    <tr style=\"text-align: right;\">\n",
       "      <th></th>\n",
       "      <th>Name</th>\n",
       "      <th>Author</th>\n",
       "      <th>Genre</th>\n",
       "    </tr>\n",
       "  </thead>\n",
       "  <tbody>\n",
       "    <tr>\n",
       "      <th>count</th>\n",
       "      <td>550</td>\n",
       "      <td>550</td>\n",
       "      <td>550</td>\n",
       "    </tr>\n",
       "    <tr>\n",
       "      <th>unique</th>\n",
       "      <td>351</td>\n",
       "      <td>248</td>\n",
       "      <td>2</td>\n",
       "    </tr>\n",
       "    <tr>\n",
       "      <th>top</th>\n",
       "      <td>Publication Manual of the American Psychologic...</td>\n",
       "      <td>Jeff Kinney</td>\n",
       "      <td>Non Fiction</td>\n",
       "    </tr>\n",
       "    <tr>\n",
       "      <th>freq</th>\n",
       "      <td>10</td>\n",
       "      <td>12</td>\n",
       "      <td>310</td>\n",
       "    </tr>\n",
       "  </tbody>\n",
       "</table>\n",
       "</div>"
      ],
      "text/plain": [
       "                                                     Name       Author  \\\n",
       "count                                                 550          550   \n",
       "unique                                                351          248   \n",
       "top     Publication Manual of the American Psychologic...  Jeff Kinney   \n",
       "freq                                                   10           12   \n",
       "\n",
       "              Genre  \n",
       "count           550  \n",
       "unique            2  \n",
       "top     Non Fiction  \n",
       "freq            310  "
      ]
     },
     "execution_count": 89,
     "metadata": {},
     "output_type": "execute_result"
    }
   ],
   "source": [
    "df.describe(include='O') "
   ]
  },
  {
   "cell_type": "markdown",
   "id": "dc0b5878",
   "metadata": {},
   "source": [
    "There are 351 unique books written by 248 unique authors. This indicates that some books were bestsellers in multiple years and some authors wrote multiple besteller books. The book that reoccurs most frequently is the Publication Manual of the American Psychological Association. Jeff Kinney is the author with the most bestselling books. <br> <br>  There are two uniqe genres in this dataset with Non-Fiction books topping the chart more frequently."
   ]
  },
  {
   "cell_type": "markdown",
   "id": "ab7b438b",
   "metadata": {},
   "source": [
    "### 2.3 Check for missing values"
   ]
  },
  {
   "cell_type": "code",
   "execution_count": 7,
   "id": "028001a1",
   "metadata": {},
   "outputs": [
    {
     "data": {
      "text/plain": [
       "Name           0\n",
       "Author         0\n",
       "User Rating    0\n",
       "Reviews        0\n",
       "Price          0\n",
       "Year           0\n",
       "Genre          0\n",
       "dtype: int64"
      ]
     },
     "execution_count": 7,
     "metadata": {},
     "output_type": "execute_result"
    }
   ],
   "source": [
    "df.isnull().sum()"
   ]
  },
  {
   "cell_type": "markdown",
   "id": "ecaf544e",
   "metadata": {},
   "source": [
    "There are no null values in the dataset."
   ]
  },
  {
   "cell_type": "markdown",
   "id": "33355547",
   "metadata": {},
   "source": [
    "### 2.4 Analysis of outliers"
   ]
  },
  {
   "cell_type": "code",
   "execution_count": 215,
   "id": "7c8e8c23",
   "metadata": {},
   "outputs": [
    {
     "data": {
      "text/html": [
       "<div>\n",
       "<style scoped>\n",
       "    .dataframe tbody tr th:only-of-type {\n",
       "        vertical-align: middle;\n",
       "    }\n",
       "\n",
       "    .dataframe tbody tr th {\n",
       "        vertical-align: top;\n",
       "    }\n",
       "\n",
       "    .dataframe thead th {\n",
       "        text-align: right;\n",
       "    }\n",
       "</style>\n",
       "<table border=\"1\" class=\"dataframe\">\n",
       "  <thead>\n",
       "    <tr style=\"text-align: right;\">\n",
       "      <th></th>\n",
       "      <th>Name</th>\n",
       "      <th>Author</th>\n",
       "      <th>User Rating</th>\n",
       "      <th>Reviews</th>\n",
       "      <th>Price</th>\n",
       "      <th>Year</th>\n",
       "      <th>Genre</th>\n",
       "    </tr>\n",
       "  </thead>\n",
       "  <tbody>\n",
       "    <tr>\n",
       "      <th>42</th>\n",
       "      <td>Cabin Fever (Diary of a Wimpy Kid, Book 6)</td>\n",
       "      <td>Jeff Kinney</td>\n",
       "      <td>4.8</td>\n",
       "      <td>4505</td>\n",
       "      <td>0</td>\n",
       "      <td>2011</td>\n",
       "      <td>Fiction</td>\n",
       "    </tr>\n",
       "    <tr>\n",
       "      <th>71</th>\n",
       "      <td>Diary of a Wimpy Kid: Hard Luck, Book 8</td>\n",
       "      <td>Jeff Kinney</td>\n",
       "      <td>4.8</td>\n",
       "      <td>6812</td>\n",
       "      <td>0</td>\n",
       "      <td>2013</td>\n",
       "      <td>Fiction</td>\n",
       "    </tr>\n",
       "    <tr>\n",
       "      <th>116</th>\n",
       "      <td>Frozen (Little Golden Book)</td>\n",
       "      <td>RH Disney</td>\n",
       "      <td>4.7</td>\n",
       "      <td>3642</td>\n",
       "      <td>0</td>\n",
       "      <td>2014</td>\n",
       "      <td>Fiction</td>\n",
       "    </tr>\n",
       "    <tr>\n",
       "      <th>193</th>\n",
       "      <td>JOURNEY TO THE ICE P</td>\n",
       "      <td>RH Disney</td>\n",
       "      <td>4.6</td>\n",
       "      <td>978</td>\n",
       "      <td>0</td>\n",
       "      <td>2014</td>\n",
       "      <td>Fiction</td>\n",
       "    </tr>\n",
       "    <tr>\n",
       "      <th>219</th>\n",
       "      <td>Little Blue Truck</td>\n",
       "      <td>Alice Schertle</td>\n",
       "      <td>4.9</td>\n",
       "      <td>1884</td>\n",
       "      <td>0</td>\n",
       "      <td>2014</td>\n",
       "      <td>Fiction</td>\n",
       "    </tr>\n",
       "    <tr>\n",
       "      <th>358</th>\n",
       "      <td>The Constitution of the United States</td>\n",
       "      <td>Delegates of the ConstitutionalÂ</td>\n",
       "      <td>4.8</td>\n",
       "      <td>2774</td>\n",
       "      <td>0</td>\n",
       "      <td>2016</td>\n",
       "      <td>Non Fiction</td>\n",
       "    </tr>\n",
       "    <tr>\n",
       "      <th>381</th>\n",
       "      <td>The Getaway</td>\n",
       "      <td>Jeff Kinney</td>\n",
       "      <td>4.8</td>\n",
       "      <td>5836</td>\n",
       "      <td>0</td>\n",
       "      <td>2017</td>\n",
       "      <td>Fiction</td>\n",
       "    </tr>\n",
       "    <tr>\n",
       "      <th>461</th>\n",
       "      <td>The Short Second Life of Bree Tanner: An Eclip...</td>\n",
       "      <td>Stephenie Meyer</td>\n",
       "      <td>4.6</td>\n",
       "      <td>2122</td>\n",
       "      <td>0</td>\n",
       "      <td>2010</td>\n",
       "      <td>Fiction</td>\n",
       "    </tr>\n",
       "    <tr>\n",
       "      <th>505</th>\n",
       "      <td>To Kill a Mockingbird</td>\n",
       "      <td>Harper Lee</td>\n",
       "      <td>4.8</td>\n",
       "      <td>26234</td>\n",
       "      <td>0</td>\n",
       "      <td>2013</td>\n",
       "      <td>Fiction</td>\n",
       "    </tr>\n",
       "    <tr>\n",
       "      <th>506</th>\n",
       "      <td>To Kill a Mockingbird</td>\n",
       "      <td>Harper Lee</td>\n",
       "      <td>4.8</td>\n",
       "      <td>26234</td>\n",
       "      <td>0</td>\n",
       "      <td>2014</td>\n",
       "      <td>Fiction</td>\n",
       "    </tr>\n",
       "    <tr>\n",
       "      <th>507</th>\n",
       "      <td>To Kill a Mockingbird</td>\n",
       "      <td>Harper Lee</td>\n",
       "      <td>4.8</td>\n",
       "      <td>26234</td>\n",
       "      <td>0</td>\n",
       "      <td>2015</td>\n",
       "      <td>Fiction</td>\n",
       "    </tr>\n",
       "    <tr>\n",
       "      <th>508</th>\n",
       "      <td>To Kill a Mockingbird</td>\n",
       "      <td>Harper Lee</td>\n",
       "      <td>4.8</td>\n",
       "      <td>26234</td>\n",
       "      <td>0</td>\n",
       "      <td>2016</td>\n",
       "      <td>Fiction</td>\n",
       "    </tr>\n",
       "  </tbody>\n",
       "</table>\n",
       "</div>"
      ],
      "text/plain": [
       "                                                  Name  \\\n",
       "42          Cabin Fever (Diary of a Wimpy Kid, Book 6)   \n",
       "71             Diary of a Wimpy Kid: Hard Luck, Book 8   \n",
       "116                        Frozen (Little Golden Book)   \n",
       "193                               JOURNEY TO THE ICE P   \n",
       "219                                  Little Blue Truck   \n",
       "358              The Constitution of the United States   \n",
       "381                                        The Getaway   \n",
       "461  The Short Second Life of Bree Tanner: An Eclip...   \n",
       "505                              To Kill a Mockingbird   \n",
       "506                              To Kill a Mockingbird   \n",
       "507                              To Kill a Mockingbird   \n",
       "508                              To Kill a Mockingbird   \n",
       "\n",
       "                                Author  User Rating  Reviews  Price  Year  \\\n",
       "42                         Jeff Kinney          4.8     4505      0  2011   \n",
       "71                         Jeff Kinney          4.8     6812      0  2013   \n",
       "116                          RH Disney          4.7     3642      0  2014   \n",
       "193                          RH Disney          4.6      978      0  2014   \n",
       "219                     Alice Schertle          4.9     1884      0  2014   \n",
       "358  Delegates of the ConstitutionalÂ\n",
       "          4.8     2774      0  2016   \n",
       "381                        Jeff Kinney          4.8     5836      0  2017   \n",
       "461                    Stephenie Meyer          4.6     2122      0  2010   \n",
       "505                         Harper Lee          4.8    26234      0  2013   \n",
       "506                         Harper Lee          4.8    26234      0  2014   \n",
       "507                         Harper Lee          4.8    26234      0  2015   \n",
       "508                         Harper Lee          4.8    26234      0  2016   \n",
       "\n",
       "           Genre  \n",
       "42       Fiction  \n",
       "71       Fiction  \n",
       "116      Fiction  \n",
       "193      Fiction  \n",
       "219      Fiction  \n",
       "358  Non Fiction  \n",
       "381      Fiction  \n",
       "461      Fiction  \n",
       "505      Fiction  \n",
       "506      Fiction  \n",
       "507      Fiction  \n",
       "508      Fiction  "
      ]
     },
     "execution_count": 215,
     "metadata": {},
     "output_type": "execute_result"
    }
   ],
   "source": [
    "## Check books that are priced at $0\n",
    "df[df['Price']==0]"
   ]
  },
  {
   "cell_type": "markdown",
   "id": "d03d0fdc-2942-48b5-8e50-f86a9384c2c8",
   "metadata": {},
   "source": [
    "This analysis revealed nine unique book titles with a price of $0. This anomaly could be explained by a discount, books that are listed at that price or an error in the data input."
   ]
  },
  {
   "cell_type": "markdown",
   "id": "65ca5acf-6bab-445e-aed9-05c972b2ee11",
   "metadata": {},
   "source": [
    "### 2.5 Analysis of low user rating"
   ]
  },
  {
   "cell_type": "code",
   "execution_count": 216,
   "id": "0f4613a2",
   "metadata": {},
   "outputs": [
    {
     "data": {
      "text/html": [
       "<div>\n",
       "<style scoped>\n",
       "    .dataframe tbody tr th:only-of-type {\n",
       "        vertical-align: middle;\n",
       "    }\n",
       "\n",
       "    .dataframe tbody tr th {\n",
       "        vertical-align: top;\n",
       "    }\n",
       "\n",
       "    .dataframe thead th {\n",
       "        text-align: right;\n",
       "    }\n",
       "</style>\n",
       "<table border=\"1\" class=\"dataframe\">\n",
       "  <thead>\n",
       "    <tr style=\"text-align: right;\">\n",
       "      <th></th>\n",
       "      <th>Name</th>\n",
       "      <th>Author</th>\n",
       "      <th>User Rating</th>\n",
       "      <th>Reviews</th>\n",
       "      <th>Price</th>\n",
       "      <th>Year</th>\n",
       "      <th>Genre</th>\n",
       "    </tr>\n",
       "  </thead>\n",
       "  <tbody>\n",
       "    <tr>\n",
       "      <th>22</th>\n",
       "      <td>Allegiant</td>\n",
       "      <td>Veronica Roth</td>\n",
       "      <td>3.9</td>\n",
       "      <td>6310</td>\n",
       "      <td>13</td>\n",
       "      <td>2013</td>\n",
       "      <td>Fiction</td>\n",
       "    </tr>\n",
       "    <tr>\n",
       "      <th>106</th>\n",
       "      <td>Fifty Shades of Grey: Book One of the Fifty Sh...</td>\n",
       "      <td>E L James</td>\n",
       "      <td>3.8</td>\n",
       "      <td>47265</td>\n",
       "      <td>14</td>\n",
       "      <td>2012</td>\n",
       "      <td>Fiction</td>\n",
       "    </tr>\n",
       "    <tr>\n",
       "      <th>107</th>\n",
       "      <td>Fifty Shades of Grey: Book One of the Fifty Sh...</td>\n",
       "      <td>E L James</td>\n",
       "      <td>3.8</td>\n",
       "      <td>47265</td>\n",
       "      <td>14</td>\n",
       "      <td>2013</td>\n",
       "      <td>Fiction</td>\n",
       "    </tr>\n",
       "    <tr>\n",
       "      <th>132</th>\n",
       "      <td>Go Set a Watchman: A Novel</td>\n",
       "      <td>Harper Lee</td>\n",
       "      <td>3.6</td>\n",
       "      <td>14982</td>\n",
       "      <td>19</td>\n",
       "      <td>2015</td>\n",
       "      <td>Fiction</td>\n",
       "    </tr>\n",
       "    <tr>\n",
       "      <th>353</th>\n",
       "      <td>The Casual Vacancy</td>\n",
       "      <td>J.K. Rowling</td>\n",
       "      <td>3.3</td>\n",
       "      <td>9372</td>\n",
       "      <td>12</td>\n",
       "      <td>2012</td>\n",
       "      <td>Fiction</td>\n",
       "    </tr>\n",
       "    <tr>\n",
       "      <th>392</th>\n",
       "      <td>The Goldfinch: A Novel (Pulitzer Prize for Fic...</td>\n",
       "      <td>Donna Tartt</td>\n",
       "      <td>3.9</td>\n",
       "      <td>33844</td>\n",
       "      <td>20</td>\n",
       "      <td>2013</td>\n",
       "      <td>Fiction</td>\n",
       "    </tr>\n",
       "    <tr>\n",
       "      <th>393</th>\n",
       "      <td>The Goldfinch: A Novel (Pulitzer Prize for Fic...</td>\n",
       "      <td>Donna Tartt</td>\n",
       "      <td>3.9</td>\n",
       "      <td>33844</td>\n",
       "      <td>20</td>\n",
       "      <td>2014</td>\n",
       "      <td>Fiction</td>\n",
       "    </tr>\n",
       "  </tbody>\n",
       "</table>\n",
       "</div>"
      ],
      "text/plain": [
       "                                                  Name         Author  \\\n",
       "22                                           Allegiant  Veronica Roth   \n",
       "106  Fifty Shades of Grey: Book One of the Fifty Sh...      E L James   \n",
       "107  Fifty Shades of Grey: Book One of the Fifty Sh...      E L James   \n",
       "132                         Go Set a Watchman: A Novel     Harper Lee   \n",
       "353                                 The Casual Vacancy   J.K. Rowling   \n",
       "392  The Goldfinch: A Novel (Pulitzer Prize for Fic...    Donna Tartt   \n",
       "393  The Goldfinch: A Novel (Pulitzer Prize for Fic...    Donna Tartt   \n",
       "\n",
       "     User Rating  Reviews  Price  Year    Genre  \n",
       "22           3.9     6310     13  2013  Fiction  \n",
       "106          3.8    47265     14  2012  Fiction  \n",
       "107          3.8    47265     14  2013  Fiction  \n",
       "132          3.6    14982     19  2015  Fiction  \n",
       "353          3.3     9372     12  2012  Fiction  \n",
       "392          3.9    33844     20  2013  Fiction  \n",
       "393          3.9    33844     20  2014  Fiction  "
      ]
     },
     "execution_count": 216,
     "metadata": {},
     "output_type": "execute_result"
    }
   ],
   "source": [
    "## Check books that have low User Ratings of less than 4.0\n",
    "df[df['User Rating']<4]"
   ]
  },
  {
   "cell_type": "markdown",
   "id": "8ff8fdf9-a550-4ebb-844f-bf801e1186b2",
   "metadata": {},
   "source": [
    "We see here that lower user ratings go as low as 3.3 for a bestseller. "
   ]
  },
  {
   "cell_type": "markdown",
   "id": "ce57a454-63d6-42ca-9e66-d22e2a139014",
   "metadata": {},
   "source": [
    "### 2.6 Analysis of low reviews"
   ]
  },
  {
   "cell_type": "code",
   "execution_count": 217,
   "id": "2fe6b9a3",
   "metadata": {},
   "outputs": [
    {
     "data": {
      "text/html": [
       "<div>\n",
       "<style scoped>\n",
       "    .dataframe tbody tr th:only-of-type {\n",
       "        vertical-align: middle;\n",
       "    }\n",
       "\n",
       "    .dataframe tbody tr th {\n",
       "        vertical-align: top;\n",
       "    }\n",
       "\n",
       "    .dataframe thead th {\n",
       "        text-align: right;\n",
       "    }\n",
       "</style>\n",
       "<table border=\"1\" class=\"dataframe\">\n",
       "  <thead>\n",
       "    <tr style=\"text-align: right;\">\n",
       "      <th></th>\n",
       "      <th>Name</th>\n",
       "      <th>Author</th>\n",
       "      <th>User Rating</th>\n",
       "      <th>Reviews</th>\n",
       "      <th>Price</th>\n",
       "      <th>Year</th>\n",
       "      <th>Genre</th>\n",
       "    </tr>\n",
       "  </thead>\n",
       "  <tbody>\n",
       "    <tr>\n",
       "      <th>11</th>\n",
       "      <td>A Patriot's History of the United States: From...</td>\n",
       "      <td>Larry Schweikart</td>\n",
       "      <td>4.6</td>\n",
       "      <td>460</td>\n",
       "      <td>2</td>\n",
       "      <td>2010</td>\n",
       "      <td>Non Fiction</td>\n",
       "    </tr>\n",
       "    <tr>\n",
       "      <th>25</th>\n",
       "      <td>Arguing with Idiots: How to Stop Small Minds a...</td>\n",
       "      <td>Glenn Beck</td>\n",
       "      <td>4.6</td>\n",
       "      <td>798</td>\n",
       "      <td>5</td>\n",
       "      <td>2009</td>\n",
       "      <td>Non Fiction</td>\n",
       "    </tr>\n",
       "    <tr>\n",
       "      <th>27</th>\n",
       "      <td>Autobiography of Mark Twain, Vol. 1</td>\n",
       "      <td>Mark Twain</td>\n",
       "      <td>4.2</td>\n",
       "      <td>491</td>\n",
       "      <td>14</td>\n",
       "      <td>2010</td>\n",
       "      <td>Non Fiction</td>\n",
       "    </tr>\n",
       "    <tr>\n",
       "      <th>31</th>\n",
       "      <td>Barefoot Contessa, How Easy Is That?: Fabulous...</td>\n",
       "      <td>Ina Garten</td>\n",
       "      <td>4.7</td>\n",
       "      <td>615</td>\n",
       "      <td>21</td>\n",
       "      <td>2010</td>\n",
       "      <td>Non Fiction</td>\n",
       "    </tr>\n",
       "    <tr>\n",
       "      <th>39</th>\n",
       "      <td>Broke: The Plan to Restore Our Trust, Truth an...</td>\n",
       "      <td>Glenn Beck</td>\n",
       "      <td>4.5</td>\n",
       "      <td>471</td>\n",
       "      <td>8</td>\n",
       "      <td>2010</td>\n",
       "      <td>Non Fiction</td>\n",
       "    </tr>\n",
       "    <tr>\n",
       "      <th>78</th>\n",
       "      <td>Divine Soul Mind Body Healing and Transmission...</td>\n",
       "      <td>Zhi Gang Sha</td>\n",
       "      <td>4.6</td>\n",
       "      <td>37</td>\n",
       "      <td>6</td>\n",
       "      <td>2009</td>\n",
       "      <td>Non Fiction</td>\n",
       "    </tr>\n",
       "    <tr>\n",
       "      <th>91</th>\n",
       "      <td>Eat This Not That! Supermarket Survival Guide:...</td>\n",
       "      <td>David Zinczenko</td>\n",
       "      <td>4.5</td>\n",
       "      <td>720</td>\n",
       "      <td>1</td>\n",
       "      <td>2009</td>\n",
       "      <td>Non Fiction</td>\n",
       "    </tr>\n",
       "    <tr>\n",
       "      <th>92</th>\n",
       "      <td>Eat This, Not That! Thousands of Simple Food S...</td>\n",
       "      <td>David Zinczenko</td>\n",
       "      <td>4.3</td>\n",
       "      <td>956</td>\n",
       "      <td>14</td>\n",
       "      <td>2009</td>\n",
       "      <td>Non Fiction</td>\n",
       "    </tr>\n",
       "    <tr>\n",
       "      <th>121</th>\n",
       "      <td>George Washington's Sacred Fire</td>\n",
       "      <td>Peter A. Lillback</td>\n",
       "      <td>4.5</td>\n",
       "      <td>408</td>\n",
       "      <td>20</td>\n",
       "      <td>2010</td>\n",
       "      <td>Non Fiction</td>\n",
       "    </tr>\n",
       "    <tr>\n",
       "      <th>193</th>\n",
       "      <td>JOURNEY TO THE ICE P</td>\n",
       "      <td>RH Disney</td>\n",
       "      <td>4.6</td>\n",
       "      <td>978</td>\n",
       "      <td>0</td>\n",
       "      <td>2014</td>\n",
       "      <td>Fiction</td>\n",
       "    </tr>\n",
       "    <tr>\n",
       "      <th>264</th>\n",
       "      <td>Percy Jackson and the Olympians Paperback Boxe...</td>\n",
       "      <td>Rick Riordan</td>\n",
       "      <td>4.8</td>\n",
       "      <td>548</td>\n",
       "      <td>2</td>\n",
       "      <td>2010</td>\n",
       "      <td>Fiction</td>\n",
       "    </tr>\n",
       "    <tr>\n",
       "      <th>299</th>\n",
       "      <td>Sookie Stackhouse</td>\n",
       "      <td>Charlaine Harris</td>\n",
       "      <td>4.7</td>\n",
       "      <td>973</td>\n",
       "      <td>25</td>\n",
       "      <td>2009</td>\n",
       "      <td>Fiction</td>\n",
       "    </tr>\n",
       "    <tr>\n",
       "      <th>300</th>\n",
       "      <td>Soul Healing Miracles: Ancient and New Sacred ...</td>\n",
       "      <td>Zhi Gang Sha</td>\n",
       "      <td>4.6</td>\n",
       "      <td>220</td>\n",
       "      <td>17</td>\n",
       "      <td>2013</td>\n",
       "      <td>Non Fiction</td>\n",
       "    </tr>\n",
       "    <tr>\n",
       "      <th>316</th>\n",
       "      <td>Teach Like a Champion: 49 Techniques that Put ...</td>\n",
       "      <td>Doug Lemov</td>\n",
       "      <td>4.4</td>\n",
       "      <td>637</td>\n",
       "      <td>20</td>\n",
       "      <td>2010</td>\n",
       "      <td>Non Fiction</td>\n",
       "    </tr>\n",
       "    <tr>\n",
       "      <th>317</th>\n",
       "      <td>Teach Like a Champion: 49 Techniques that Put ...</td>\n",
       "      <td>Doug Lemov</td>\n",
       "      <td>4.4</td>\n",
       "      <td>637</td>\n",
       "      <td>20</td>\n",
       "      <td>2011</td>\n",
       "      <td>Non Fiction</td>\n",
       "    </tr>\n",
       "    <tr>\n",
       "      <th>346</th>\n",
       "      <td>The Book of Basketball: The NBA According to T...</td>\n",
       "      <td>Bill Simmons</td>\n",
       "      <td>4.7</td>\n",
       "      <td>858</td>\n",
       "      <td>53</td>\n",
       "      <td>2009</td>\n",
       "      <td>Non Fiction</td>\n",
       "    </tr>\n",
       "    <tr>\n",
       "      <th>359</th>\n",
       "      <td>The Daily Show with Jon Stewart Presents Earth...</td>\n",
       "      <td>Jon Stewart</td>\n",
       "      <td>4.4</td>\n",
       "      <td>440</td>\n",
       "      <td>11</td>\n",
       "      <td>2010</td>\n",
       "      <td>Non Fiction</td>\n",
       "    </tr>\n",
       "    <tr>\n",
       "      <th>374</th>\n",
       "      <td>The Five Love Languages: How to Express Heartf...</td>\n",
       "      <td>Gary Chapman</td>\n",
       "      <td>4.6</td>\n",
       "      <td>803</td>\n",
       "      <td>9</td>\n",
       "      <td>2009</td>\n",
       "      <td>Non Fiction</td>\n",
       "    </tr>\n",
       "    <tr>\n",
       "      <th>444</th>\n",
       "      <td>The Official SAT Study Guide, 2016 Edition (Of...</td>\n",
       "      <td>The College Board</td>\n",
       "      <td>4.3</td>\n",
       "      <td>807</td>\n",
       "      <td>36</td>\n",
       "      <td>2016</td>\n",
       "      <td>Non Fiction</td>\n",
       "    </tr>\n",
       "    <tr>\n",
       "      <th>512</th>\n",
       "      <td>True Compass: A Memoir</td>\n",
       "      <td>Edward M. Kennedy</td>\n",
       "      <td>4.5</td>\n",
       "      <td>438</td>\n",
       "      <td>15</td>\n",
       "      <td>2009</td>\n",
       "      <td>Non Fiction</td>\n",
       "    </tr>\n",
       "  </tbody>\n",
       "</table>\n",
       "</div>"
      ],
      "text/plain": [
       "                                                  Name             Author  \\\n",
       "11   A Patriot's History of the United States: From...   Larry Schweikart   \n",
       "25   Arguing with Idiots: How to Stop Small Minds a...         Glenn Beck   \n",
       "27                 Autobiography of Mark Twain, Vol. 1         Mark Twain   \n",
       "31   Barefoot Contessa, How Easy Is That?: Fabulous...         Ina Garten   \n",
       "39   Broke: The Plan to Restore Our Trust, Truth an...         Glenn Beck   \n",
       "78   Divine Soul Mind Body Healing and Transmission...       Zhi Gang Sha   \n",
       "91   Eat This Not That! Supermarket Survival Guide:...    David Zinczenko   \n",
       "92   Eat This, Not That! Thousands of Simple Food S...    David Zinczenko   \n",
       "121                    George Washington's Sacred Fire  Peter A. Lillback   \n",
       "193                               JOURNEY TO THE ICE P          RH Disney   \n",
       "264  Percy Jackson and the Olympians Paperback Boxe...       Rick Riordan   \n",
       "299                                  Sookie Stackhouse   Charlaine Harris   \n",
       "300  Soul Healing Miracles: Ancient and New Sacred ...       Zhi Gang Sha   \n",
       "316  Teach Like a Champion: 49 Techniques that Put ...         Doug Lemov   \n",
       "317  Teach Like a Champion: 49 Techniques that Put ...         Doug Lemov   \n",
       "346  The Book of Basketball: The NBA According to T...       Bill Simmons   \n",
       "359  The Daily Show with Jon Stewart Presents Earth...        Jon Stewart   \n",
       "374  The Five Love Languages: How to Express Heartf...       Gary Chapman   \n",
       "444  The Official SAT Study Guide, 2016 Edition (Of...  The College Board   \n",
       "512                             True Compass: A Memoir  Edward M. Kennedy   \n",
       "\n",
       "     User Rating  Reviews  Price  Year        Genre  \n",
       "11           4.6      460      2  2010  Non Fiction  \n",
       "25           4.6      798      5  2009  Non Fiction  \n",
       "27           4.2      491     14  2010  Non Fiction  \n",
       "31           4.7      615     21  2010  Non Fiction  \n",
       "39           4.5      471      8  2010  Non Fiction  \n",
       "78           4.6       37      6  2009  Non Fiction  \n",
       "91           4.5      720      1  2009  Non Fiction  \n",
       "92           4.3      956     14  2009  Non Fiction  \n",
       "121          4.5      408     20  2010  Non Fiction  \n",
       "193          4.6      978      0  2014      Fiction  \n",
       "264          4.8      548      2  2010      Fiction  \n",
       "299          4.7      973     25  2009      Fiction  \n",
       "300          4.6      220     17  2013  Non Fiction  \n",
       "316          4.4      637     20  2010  Non Fiction  \n",
       "317          4.4      637     20  2011  Non Fiction  \n",
       "346          4.7      858     53  2009  Non Fiction  \n",
       "359          4.4      440     11  2010  Non Fiction  \n",
       "374          4.6      803      9  2009  Non Fiction  \n",
       "444          4.3      807     36  2016  Non Fiction  \n",
       "512          4.5      438     15  2009  Non Fiction  "
      ]
     },
     "execution_count": 217,
     "metadata": {},
     "output_type": "execute_result"
    }
   ],
   "source": [
    "## Check books with low reviews\n",
    "df[df['Reviews']<1000]"
   ]
  },
  {
   "cell_type": "markdown",
   "id": "ce848437-53b5-474c-bf1f-312bc51c520a",
   "metadata": {},
   "source": [
    " The books with lower number of reviews are mostly non-fiction, with Divine Soul Mind Body Healing and Transmission System by Zhi Gang Sha having the lowest number of reviews with 37 reviews. "
   ]
  },
  {
   "cell_type": "markdown",
   "id": "b998cd90-21c8-49ae-9c3c-f1c5dfc68635",
   "metadata": {},
   "source": [
    "### 2.7 Analysis of duplicate values"
   ]
  },
  {
   "cell_type": "code",
   "execution_count": 15,
   "id": "518cb7e8",
   "metadata": {},
   "outputs": [
    {
     "data": {
      "text/plain": [
       "0      False\n",
       "1      False\n",
       "2      False\n",
       "3      False\n",
       "4      False\n",
       "       ...  \n",
       "545    False\n",
       "546    False\n",
       "547    False\n",
       "548    False\n",
       "549    False\n",
       "Length: 550, dtype: bool"
      ]
     },
     "execution_count": 15,
     "metadata": {},
     "output_type": "execute_result"
    }
   ],
   "source": [
    "#check for duplicate values\n",
    "df.duplicated()"
   ]
  },
  {
   "cell_type": "markdown",
   "id": "c3bb960f-62c7-4ee5-a44c-5ab9e1830649",
   "metadata": {},
   "source": [
    "no missing values or duplicate entries, with the variables properly titled and with the right data type"
   ]
  },
  {
   "cell_type": "code",
   "execution_count": 11,
   "id": "59c272c3",
   "metadata": {},
   "outputs": [
    {
     "data": {
      "text/html": [
       "<div>\n",
       "<style scoped>\n",
       "    .dataframe tbody tr th:only-of-type {\n",
       "        vertical-align: middle;\n",
       "    }\n",
       "\n",
       "    .dataframe tbody tr th {\n",
       "        vertical-align: top;\n",
       "    }\n",
       "\n",
       "    .dataframe thead th {\n",
       "        text-align: right;\n",
       "    }\n",
       "</style>\n",
       "<table border=\"1\" class=\"dataframe\">\n",
       "  <thead>\n",
       "    <tr style=\"text-align: right;\">\n",
       "      <th></th>\n",
       "      <th>User Rating</th>\n",
       "      <th>Reviews</th>\n",
       "      <th>Price</th>\n",
       "      <th>Year</th>\n",
       "    </tr>\n",
       "  </thead>\n",
       "  <tbody>\n",
       "    <tr>\n",
       "      <th>User Rating</th>\n",
       "      <td>1.000000</td>\n",
       "      <td>-0.001729</td>\n",
       "      <td>-0.133086</td>\n",
       "      <td>0.242383</td>\n",
       "    </tr>\n",
       "    <tr>\n",
       "      <th>Reviews</th>\n",
       "      <td>-0.001729</td>\n",
       "      <td>1.000000</td>\n",
       "      <td>-0.109182</td>\n",
       "      <td>0.263560</td>\n",
       "    </tr>\n",
       "    <tr>\n",
       "      <th>Price</th>\n",
       "      <td>-0.133086</td>\n",
       "      <td>-0.109182</td>\n",
       "      <td>1.000000</td>\n",
       "      <td>-0.153979</td>\n",
       "    </tr>\n",
       "    <tr>\n",
       "      <th>Year</th>\n",
       "      <td>0.242383</td>\n",
       "      <td>0.263560</td>\n",
       "      <td>-0.153979</td>\n",
       "      <td>1.000000</td>\n",
       "    </tr>\n",
       "  </tbody>\n",
       "</table>\n",
       "</div>"
      ],
      "text/plain": [
       "             User Rating   Reviews     Price      Year\n",
       "User Rating     1.000000 -0.001729 -0.133086  0.242383\n",
       "Reviews        -0.001729  1.000000 -0.109182  0.263560\n",
       "Price          -0.133086 -0.109182  1.000000 -0.153979\n",
       "Year            0.242383  0.263560 -0.153979  1.000000"
      ]
     },
     "execution_count": 11,
     "metadata": {},
     "output_type": "execute_result"
    }
   ],
   "source": [
    "df.corr()"
   ]
  },
  {
   "cell_type": "markdown",
   "id": "cc58b187-f4e4-44e8-a355-15c4f0115d4b",
   "metadata": {},
   "source": [
    "### 2.8 Analysis  of authors and how many books they have on the list "
   ]
  },
  {
   "cell_type": "code",
   "execution_count": 12,
   "id": "b9f9046a",
   "metadata": {},
   "outputs": [
    {
     "data": {
      "text/plain": [
       "Jeff Kinney                           12\n",
       "Gary Chapman                          11\n",
       "Rick Riordan                          11\n",
       "Suzanne Collins                       11\n",
       "American Psychological Association    10\n",
       "                                      ..\n",
       "Keith Richards                         1\n",
       "Chris Cleave                           1\n",
       "Alice Schertle                         1\n",
       "Celeste Ng                             1\n",
       "Adam Gasiewski                         1\n",
       "Name: Author, Length: 248, dtype: int64"
      ]
     },
     "execution_count": 12,
     "metadata": {},
     "output_type": "execute_result"
    }
   ],
   "source": [
    "#Check number of books by author \n",
    "df['Author'].value_counts()"
   ]
  },
  {
   "cell_type": "markdown",
   "id": "be47b123-7618-42c4-a937-088d4ea4cf13",
   "metadata": {},
   "source": [
    "The author with most the most titles in the list are Jeff Kinney, Gary Chapman, Rick Riordan and Suzanne Collins. "
   ]
  },
  {
   "cell_type": "markdown",
   "id": "6c61cf13-c508-4911-83af-9d4daf609b02",
   "metadata": {},
   "source": [
    "## 3.0 Data analysis"
   ]
  },
  {
   "cell_type": "markdown",
   "id": "b9f00b5c-20a5-4c4f-a9a6-ad2893fd6366",
   "metadata": {},
   "source": [
    "### 3.1 author with books in fiction and in non-fiction  "
   ]
  },
  {
   "cell_type": "code",
   "execution_count": 127,
   "id": "8c23a555",
   "metadata": {},
   "outputs": [
    {
     "data": {
      "text/html": [
       "<div>\n",
       "<style scoped>\n",
       "    .dataframe tbody tr th:only-of-type {\n",
       "        vertical-align: middle;\n",
       "    }\n",
       "\n",
       "    .dataframe tbody tr th {\n",
       "        vertical-align: top;\n",
       "    }\n",
       "\n",
       "    .dataframe thead th {\n",
       "        text-align: right;\n",
       "    }\n",
       "</style>\n",
       "<table border=\"1\" class=\"dataframe\">\n",
       "  <thead>\n",
       "    <tr style=\"text-align: right;\">\n",
       "      <th>Genre</th>\n",
       "      <th>Fiction</th>\n",
       "      <th>Non Fiction</th>\n",
       "    </tr>\n",
       "    <tr>\n",
       "      <th>Author</th>\n",
       "      <th></th>\n",
       "      <th></th>\n",
       "    </tr>\n",
       "  </thead>\n",
       "  <tbody>\n",
       "    <tr>\n",
       "      <th>Abraham Verghese</th>\n",
       "      <td>2.0</td>\n",
       "      <td>NaN</td>\n",
       "    </tr>\n",
       "    <tr>\n",
       "      <th>Adam Gasiewski</th>\n",
       "      <td>NaN</td>\n",
       "      <td>1.0</td>\n",
       "    </tr>\n",
       "    <tr>\n",
       "      <th>Adam Mansbach</th>\n",
       "      <td>1.0</td>\n",
       "      <td>NaN</td>\n",
       "    </tr>\n",
       "    <tr>\n",
       "      <th>Adir Levy</th>\n",
       "      <td>1.0</td>\n",
       "      <td>NaN</td>\n",
       "    </tr>\n",
       "    <tr>\n",
       "      <th>Admiral William H. McRaven</th>\n",
       "      <td>NaN</td>\n",
       "      <td>1.0</td>\n",
       "    </tr>\n",
       "    <tr>\n",
       "      <th>...</th>\n",
       "      <td>...</td>\n",
       "      <td>...</td>\n",
       "    </tr>\n",
       "    <tr>\n",
       "      <th>Walter Isaacson</th>\n",
       "      <td>NaN</td>\n",
       "      <td>3.0</td>\n",
       "    </tr>\n",
       "    <tr>\n",
       "      <th>William Davis</th>\n",
       "      <td>NaN</td>\n",
       "      <td>2.0</td>\n",
       "    </tr>\n",
       "    <tr>\n",
       "      <th>William P. Young</th>\n",
       "      <td>2.0</td>\n",
       "      <td>NaN</td>\n",
       "    </tr>\n",
       "    <tr>\n",
       "      <th>Wizards RPG Team</th>\n",
       "      <td>3.0</td>\n",
       "      <td>NaN</td>\n",
       "    </tr>\n",
       "    <tr>\n",
       "      <th>Zhi Gang Sha</th>\n",
       "      <td>NaN</td>\n",
       "      <td>2.0</td>\n",
       "    </tr>\n",
       "  </tbody>\n",
       "</table>\n",
       "<p>248 rows × 2 columns</p>\n",
       "</div>"
      ],
      "text/plain": [
       "Genre                       Fiction  Non Fiction\n",
       "Author                                          \n",
       "Abraham Verghese                2.0          NaN\n",
       "Adam Gasiewski                  NaN          1.0\n",
       "Adam Mansbach                   1.0          NaN\n",
       "Adir Levy                       1.0          NaN\n",
       "Admiral William H. McRaven      NaN          1.0\n",
       "...                             ...          ...\n",
       "Walter Isaacson                 NaN          3.0\n",
       "William Davis                   NaN          2.0\n",
       "William P. Young                2.0          NaN\n",
       "Wizards RPG Team                3.0          NaN\n",
       "Zhi Gang Sha                    NaN          2.0\n",
       "\n",
       "[248 rows x 2 columns]"
      ]
     },
     "execution_count": 127,
     "metadata": {},
     "output_type": "execute_result"
    }
   ],
   "source": [
    "#Check if the same author has books in fiction and non-fiction \n",
    "df_6 = df.groupby(['Author','Genre'])['Genre'].size().unstack() \n",
    "df_6"
   ]
  },
  {
   "cell_type": "markdown",
   "id": "4b7b2db7-6d44-4779-82de-54780c9b1797",
   "metadata": {},
   "source": [
    "No author has a book in the two categories. "
   ]
  },
  {
   "cell_type": "markdown",
   "id": "0ec635ff-a8ba-45da-a6df-75cbed1783f2",
   "metadata": {},
   "source": [
    "### 3.2 Authors that dominate the list"
   ]
  },
  {
   "cell_type": "code",
   "execution_count": 161,
   "id": "5b13b8ad",
   "metadata": {},
   "outputs": [
    {
     "data": {
      "text/plain": [
       "Text(0, 0.5, 'Authors')"
      ]
     },
     "execution_count": 161,
     "metadata": {},
     "output_type": "execute_result"
    },
    {
     "data": {
      "image/png": "[encoded data removed]",
      "text/plain": [
       "<Figure size 432x288 with 1 Axes>"
      ]
     },
     "metadata": {
      "needs_background": "light"
     },
     "output_type": "display_data"
    }
   ],
   "source": [
    "max_repeat = 6\n",
    "vc = df[\"Author\"].value_counts()\n",
    "df_11 = df[df[\"Author\"].isin(vc[vc > max_repeat].index)]\n",
    "df_12 = df_11.reset_index()\n",
    "df_13 = df_12.groupby(['Author','Genre'])['Genre'].size().unstack() \n",
    "df_13.plot(kind='barh', stacked=True, color=['darkblue', 'lightsteelblue'])\n",
    "plt.xlabel('Number of Books')\n",
    "plt.ylabel('Authors')"
   ]
  },
  {
   "cell_type": "code",
   "execution_count": 158,
   "id": "5ada9f46",
   "metadata": {},
   "outputs": [
    {
     "data": {
      "image/png": "[encoded data removed]",
      "text/plain": [
       "<Figure size 1440x720 with 1 Axes>"
      ]
     },
     "metadata": {
      "needs_background": "light"
     },
     "output_type": "display_data"
    }
   ],
   "source": [
    "plt.figure(figsize=(20,10))\n",
    "ax = sns.barplot(y=df['Author'].value_counts()[:10].index,x=df['Author'].value_counts()[:10].values, palette=\"mako\")\n",
    "ax.set_title('Top 10 Authors',fontsize=16)\n",
    "ax.set_xlabel('Number of Books in Amazon Bestsellers Dataset',fontsize=12)\n",
    "plt.show()"
   ]
  },
  {
   "cell_type": "markdown",
   "id": "f9976aae-07bc-4a1b-836a-83b947407c58",
   "metadata": {},
   "source": [
    "The top ten authors with the highest number of books in the Amazon bestsellers list are: 1) Jeff Kinney; 2) Gary Chapman, Rick Riordan, Suzanne Collins; 3) The American Psychological Association; 3) Dr. Seuss, 4) Gallup; 5) Rob Elliott; 6) Stephen R. Covey, 7) Stephanie Meyer. Further analysis indicates that each of these authors wrote books in only one genre class: Fiction.  With fiction accounting for a slightly higher percentage of books written by the top authors"
   ]
  },
  {
   "cell_type": "markdown",
   "id": "9aeaafec-117f-4c0e-acbd-ca7da2a199f1",
   "metadata": {},
   "source": [
    "### 3.3 Authors that dominate the list, further analysis"
   ]
  },
  {
   "cell_type": "code",
   "execution_count": 167,
   "id": "020279af",
   "metadata": {},
   "outputs": [
    {
     "name": "stdout",
     "output_type": "stream",
     "text": [
      "    index                                               Name  \\\n",
      "48    271  Publication Manual of the American Psychologic...   \n",
      "49    272  Publication Manual of the American Psychologic...   \n",
      "50    273  Publication Manual of the American Psychologic...   \n",
      "51    274  Publication Manual of the American Psychologic...   \n",
      "52    275  Publication Manual of the American Psychologic...   \n",
      "53    276  Publication Manual of the American Psychologic...   \n",
      "54    277  Publication Manual of the American Psychologic...   \n",
      "55    278  Publication Manual of the American Psychologic...   \n",
      "56    279  Publication Manual of the American Psychologic...   \n",
      "57    280  Publication Manual of the American Psychologic...   \n",
      "\n",
      "                                Author  User Rating  Reviews  Price  Year  \\\n",
      "48  American Psychological Association          4.5     8580     46  2009   \n",
      "49  American Psychological Association          4.5     8580     46  2010   \n",
      "50  American Psychological Association          4.5     8580     46  2011   \n",
      "51  American Psychological Association          4.5     8580     46  2012   \n",
      "52  American Psychological Association          4.5     8580     46  2013   \n",
      "53  American Psychological Association          4.5     8580     46  2014   \n",
      "54  American Psychological Association          4.5     8580     46  2015   \n",
      "55  American Psychological Association          4.5     8580     46  2016   \n",
      "56  American Psychological Association          4.5     8580     46  2017   \n",
      "57  American Psychological Association          4.5     8580     46  2018   \n",
      "\n",
      "          Genre  \n",
      "48  Non Fiction  \n",
      "49  Non Fiction  \n",
      "50  Non Fiction  \n",
      "51  Non Fiction  \n",
      "52  Non Fiction  \n",
      "53  Non Fiction  \n",
      "54  Non Fiction  \n",
      "55  Non Fiction  \n",
      "56  Non Fiction  \n",
      "57  Non Fiction  \n",
      "    index                                               Name         Author  \\\n",
      "19    196     Killing Jesus (Bill O'Reilly's Killing Series)  Bill O'Reilly   \n",
      "20    197                Killing Kennedy: The End of Camelot  Bill O'Reilly   \n",
      "21    198  Killing Lincoln: The Shocking Assassination th...  Bill O'Reilly   \n",
      "22    199  Killing Lincoln: The Shocking Assassination th...  Bill O'Reilly   \n",
      "23    200  Killing Patton: The Strange Death of World War...  Bill O'Reilly   \n",
      "24    201  Killing Reagan: The Violent Assault That Chang...  Bill O'Reilly   \n",
      "25    202  Killing the Rising Sun: How America Vanquished...  Bill O'Reilly   \n",
      "\n",
      "    User Rating  Reviews  Price  Year        Genre  \n",
      "19          4.5    11391     12  2013  Non Fiction  \n",
      "20          4.6     8634     25  2012  Non Fiction  \n",
      "21          4.7     9342     10  2011  Non Fiction  \n",
      "22          4.7     9342     10  2012  Non Fiction  \n",
      "23          4.6    10927      6  2014  Non Fiction  \n",
      "24          4.6     5235      5  2015  Non Fiction  \n",
      "25          4.8     8916      6  2016  Non Fiction  \n",
      "    index                                               Name      Author  \\\n",
      "9      81  Dog Man and Cat Kid: From the Creator of Capta...  Dav Pilkey   \n",
      "10     82  Dog Man: A Tale of Two Kitties: From the Creat...  Dav Pilkey   \n",
      "11     83  Dog Man: Brawl of the Wild: From the Creator o...  Dav Pilkey   \n",
      "12     84  Dog Man: Brawl of the Wild: From the Creator o...  Dav Pilkey   \n",
      "13     85  Dog Man: Fetch-22: From the Creator of Captain...  Dav Pilkey   \n",
      "14     86  Dog Man: For Whom the Ball Rolls: From the Cre...  Dav Pilkey   \n",
      "15     87  Dog Man: Lord of the Fleas: From the Creator o...  Dav Pilkey   \n",
      "\n",
      "    User Rating  Reviews  Price  Year    Genre  \n",
      "9           4.9     5062      6  2018  Fiction  \n",
      "10          4.9     4786      8  2017  Fiction  \n",
      "11          4.9     7235      4  2018  Fiction  \n",
      "12          4.9     7235      4  2019  Fiction  \n",
      "13          4.9    12619      8  2019  Fiction  \n",
      "14          4.9     9089      8  2019  Fiction  \n",
      "15          4.9     5470      6  2018  Fiction  \n",
      "     index                                    Name     Author  User Rating  \\\n",
      "38     245               Oh, the Places You'll Go!  Dr. Seuss          4.9   \n",
      "39     246               Oh, the Places You'll Go!  Dr. Seuss          4.9   \n",
      "40     247               Oh, the Places You'll Go!  Dr. Seuss          4.9   \n",
      "41     248               Oh, the Places You'll Go!  Dr. Seuss          4.9   \n",
      "42     249               Oh, the Places You'll Go!  Dr. Seuss          4.9   \n",
      "43     250               Oh, the Places You'll Go!  Dr. Seuss          4.9   \n",
      "44     251               Oh, the Places You'll Go!  Dr. Seuss          4.9   \n",
      "45     252               Oh, the Places You'll Go!  Dr. Seuss          4.9   \n",
      "114    528  What Pet Should I Get? (Classic Seuss)  Dr. Seuss          4.7   \n",
      "\n",
      "     Reviews  Price  Year    Genre  \n",
      "38     21834      8  2012  Fiction  \n",
      "39     21834      8  2013  Fiction  \n",
      "40     21834      8  2014  Fiction  \n",
      "41     21834      8  2015  Fiction  \n",
      "42     21834      8  2016  Fiction  \n",
      "43     21834      8  2017  Fiction  \n",
      "44     21834      8  2018  Fiction  \n",
      "45     21834      8  2019  Fiction  \n",
      "114     1873     14  2015  Fiction  \n",
      "     index                         Name      Author  User Rating  Reviews  \\\n",
      "106    476  The Very Hungry Caterpillar  Eric Carle          4.9    19546   \n",
      "107    477  The Very Hungry Caterpillar  Eric Carle          4.9    19546   \n",
      "108    478  The Very Hungry Caterpillar  Eric Carle          4.9    19546   \n",
      "109    479  The Very Hungry Caterpillar  Eric Carle          4.9    19546   \n",
      "110    480  The Very Hungry Caterpillar  Eric Carle          4.9    19546   \n",
      "111    481  The Very Hungry Caterpillar  Eric Carle          4.9    19546   \n",
      "112    482  The Very Hungry Caterpillar  Eric Carle          4.9    19546   \n",
      "\n",
      "     Price  Year    Genre  \n",
      "106      5  2013  Fiction  \n",
      "107      5  2014  Fiction  \n",
      "108      5  2015  Fiction  \n",
      "109      5  2016  Fiction  \n",
      "110      5  2017  Fiction  \n",
      "111      5  2018  Fiction  \n",
      "112      5  2019  Fiction  \n",
      "    index                 Name  Author  User Rating  Reviews  Price  Year  \\\n",
      "58    304  StrengthsFinder 2.0  Gallup          4.0     5069     17  2009   \n",
      "59    305  StrengthsFinder 2.0  Gallup          4.0     5069     17  2010   \n",
      "60    306  StrengthsFinder 2.0  Gallup          4.0     5069     17  2011   \n",
      "61    307  StrengthsFinder 2.0  Gallup          4.0     5069     17  2012   \n",
      "62    308  StrengthsFinder 2.0  Gallup          4.0     5069     17  2013   \n",
      "63    309  StrengthsFinder 2.0  Gallup          4.0     5069     17  2014   \n",
      "64    310  StrengthsFinder 2.0  Gallup          4.0     5069     17  2015   \n",
      "65    311  StrengthsFinder 2.0  Gallup          4.0     5069     17  2016   \n",
      "66    312  StrengthsFinder 2.0  Gallup          4.0     5069     17  2017   \n",
      "\n",
      "          Genre  \n",
      "58  Non Fiction  \n",
      "59  Non Fiction  \n",
      "60  Non Fiction  \n",
      "61  Non Fiction  \n",
      "62  Non Fiction  \n",
      "63  Non Fiction  \n",
      "64  Non Fiction  \n",
      "65  Non Fiction  \n",
      "66  Non Fiction  \n",
      "    index                                               Name        Author  \\\n",
      "67    320  The 5 Love Languages: The Secret to Love That ...  Gary Chapman   \n",
      "68    321  The 5 Love Languages: The Secret to Love That ...  Gary Chapman   \n",
      "69    322  The 5 Love Languages: The Secret to Love That ...  Gary Chapman   \n",
      "70    323  The 5 Love Languages: The Secret to Love That ...  Gary Chapman   \n",
      "71    324  The 5 Love Languages: The Secret to Love That ...  Gary Chapman   \n",
      "72    325  The 5 Love Languages: The Secret to Love that ...  Gary Chapman   \n",
      "73    326  The 5 Love Languages: The Secret to Love that ...  Gary Chapman   \n",
      "74    327  The 5 Love Languages: The Secret to Love that ...  Gary Chapman   \n",
      "75    328  The 5 Love Languages: The Secret to Love that ...  Gary Chapman   \n",
      "76    329  The 5 Love Languages: The Secret to Love that ...  Gary Chapman   \n",
      "85    374  The Five Love Languages: How to Express Heartf...  Gary Chapman   \n",
      "\n",
      "    User Rating  Reviews  Price  Year        Genre  \n",
      "67          4.7     3477     28  2010  Non Fiction  \n",
      "68          4.7     3477     28  2011  Non Fiction  \n",
      "69          4.7     3477     28  2012  Non Fiction  \n",
      "70          4.7     3477     28  2013  Non Fiction  \n",
      "71          4.7     3477     28  2014  Non Fiction  \n",
      "72          4.8    25554      8  2015  Non Fiction  \n",
      "73          4.8    25554      8  2016  Non Fiction  \n",
      "74          4.8    25554      8  2017  Non Fiction  \n",
      "75          4.8    25554      8  2018  Non Fiction  \n",
      "76          4.8    25554      8  2019  Non Fiction  \n",
      "85          4.6      803      9  2009  Non Fiction  \n",
      "     index                                               Name       Author  \\\n",
      "1       42         Cabin Fever (Diary of a Wimpy Kid, Book 6)  Jeff Kinney   \n",
      "5       71            Diary of a Wimpy Kid: Hard Luck, Book 8  Jeff Kinney   \n",
      "6       72      Diary of a Wimpy Kid: The Last Straw (Book 3)  Jeff Kinney   \n",
      "7       73                Diary of a Wimpy Kid: The Long Haul  Jeff Kinney   \n",
      "8       80  Dog Days (Diary of a Wimpy Kid, Book 4) (Volum...  Jeff Kinney   \n",
      "16      88             Double Down (Diary of a Wimpy Kid #11)  Jeff Kinney   \n",
      "46     253              Old School (Diary of a Wimpy Kid #10)  Jeff Kinney   \n",
      "86     381                                        The Getaway  Jeff Kinney   \n",
      "97     435        The Meltdown (Diary of a Wimpy Kid Book 13)  Jeff Kinney   \n",
      "102    468     The Third Wheel (Diary of a Wimpy Kid, Book 7)  Jeff Kinney   \n",
      "105    474      The Ugly Truth (Diary of a Wimpy Kid, Book 5)  Jeff Kinney   \n",
      "115    545       Wrecking Ball (Diary of a Wimpy Kid Book 14)  Jeff Kinney   \n",
      "\n",
      "     User Rating  Reviews  Price  Year    Genre  \n",
      "1            4.8     4505      0  2011  Fiction  \n",
      "5            4.8     6812      0  2013  Fiction  \n",
      "6            4.8     3837     15  2009  Fiction  \n",
      "7            4.8     6540     22  2014  Fiction  \n",
      "8            4.8     3181     12  2009  Fiction  \n",
      "16           4.8     5118     20  2016  Fiction  \n",
      "46           4.8     6169      7  2015  Fiction  \n",
      "86           4.8     5836      0  2017  Fiction  \n",
      "97           4.8     5898      8  2018  Fiction  \n",
      "102          4.7     6377      7  2012  Fiction  \n",
      "105          4.8     3796     12  2010  Fiction  \n",
      "115          4.9     9413      8  2019  Fiction  \n",
      "     index                                               Name        Author  \\\n",
      "47     264  Percy Jackson and the Olympians Paperback Boxe...  Rick Riordan   \n",
      "84     343   The Blood of Olympus (The Heroes of Olympus (5))  Rick Riordan   \n",
      "87     406     The House of Hades (Heroes of Olympus, Book 4)  Rick Riordan   \n",
      "93     418  The Last Olympian (Percy Jackson and the Olymp...  Rick Riordan   \n",
      "94     419  The Last Olympian (Percy Jackson and the Olymp...  Rick Riordan   \n",
      "95     428          The Lost Hero (Heroes of Olympus, Book 1)  Rick Riordan   \n",
      "96     432     The Mark of Athena (Heroes of Olympus, Book 3)  Rick Riordan   \n",
      "98     456      The Red Pyramid (The Kane Chronicles, Book 1)  Rick Riordan   \n",
      "99     458  The Serpent's Shadow (The Kane Chronicles, Boo...  Rick Riordan   \n",
      "101    463     The Son of Neptune (Heroes of Olympus, Book 2)  Rick Riordan   \n",
      "103    469   The Throne of Fire (The Kane Chronicles, Book 2)  Rick Riordan   \n",
      "\n",
      "     User Rating  Reviews  Price  Year    Genre  \n",
      "47           4.8      548      2  2010  Fiction  \n",
      "84           4.8     6600     11  2014  Fiction  \n",
      "87           4.8     6982     14  2013  Fiction  \n",
      "93           4.8     4628      7  2009  Fiction  \n",
      "94           4.8     4628      7  2010  Fiction  \n",
      "95           4.8     4506     14  2010  Fiction  \n",
      "96           4.8     6247     10  2012  Fiction  \n",
      "98           4.6     2186     12  2010  Fiction  \n",
      "99           4.8     2091     12  2012  Fiction  \n",
      "101          4.8     4290     10  2011  Fiction  \n",
      "103          4.7     1463     10  2011  Fiction  \n",
      "    index                           Name       Author  User Rating  Reviews  \\\n",
      "26    204     Knock-Knock Jokes for Kids  Rob Elliott          4.5     3673   \n",
      "27    205     Knock-Knock Jokes for Kids  Rob Elliott          4.5     3673   \n",
      "28    206     Knock-Knock Jokes for Kids  Rob Elliott          4.5     3673   \n",
      "29    208  Laugh-Out-Loud Jokes for Kids  Rob Elliott          4.6     6990   \n",
      "30    209  Laugh-Out-Loud Jokes for Kids  Rob Elliott          4.6     6990   \n",
      "31    210  Laugh-Out-Loud Jokes for Kids  Rob Elliott          4.6     6990   \n",
      "32    211  Laugh-Out-Loud Jokes for Kids  Rob Elliott          4.6     6990   \n",
      "33    212  Laugh-Out-Loud Jokes for Kids  Rob Elliott          4.6     6990   \n",
      "\n",
      "    Price  Year        Genre  \n",
      "26      4  2013  Non Fiction  \n",
      "27      4  2014  Non Fiction  \n",
      "28      4  2015  Non Fiction  \n",
      "29      4  2013  Non Fiction  \n",
      "30      4  2014  Non Fiction  \n",
      "31      4  2015  Non Fiction  \n",
      "32      4  2016  Non Fiction  \n",
      "33      4  2017  Non Fiction  \n",
      "    index                                               Name  \\\n",
      "77    331  The 7 Habits of Highly Effective People: Power...   \n",
      "78    332  The 7 Habits of Highly Effective People: Power...   \n",
      "79    333  The 7 Habits of Highly Effective People: Power...   \n",
      "80    334  The 7 Habits of Highly Effective People: Power...   \n",
      "81    335  The 7 Habits of Highly Effective People: Power...   \n",
      "82    336  The 7 Habits of Highly Effective People: Power...   \n",
      "83    337  The 7 Habits of Highly Effective People: Power...   \n",
      "\n",
      "              Author  User Rating  Reviews  Price  Year        Genre  \n",
      "77  Stephen R. Covey          4.6     9325     24  2009  Non Fiction  \n",
      "78  Stephen R. Covey          4.6     9325     24  2011  Non Fiction  \n",
      "79  Stephen R. Covey          4.6     9325     24  2012  Non Fiction  \n",
      "80  Stephen R. Covey          4.6     9325     24  2013  Non Fiction  \n",
      "81  Stephen R. Covey          4.7     4725     16  2015  Non Fiction  \n",
      "82  Stephen R. Covey          4.7     4725     16  2016  Non Fiction  \n",
      "83  Stephen R. Covey          4.7     4725     16  2017  Non Fiction  \n",
      "     index                                               Name  \\\n",
      "0       38          Breaking Dawn (The Twilight Saga, Book 4)   \n",
      "17      95                           Eclipse (Twilight Sagas)   \n",
      "18      96                                 Eclipse (Twilight)   \n",
      "37     241                       New Moon (The Twilight Saga)   \n",
      "100    461  The Short Second Life of Bree Tanner: An Eclip...   \n",
      "104    473                       The Twilight Saga Collection   \n",
      "113    513               Twilight (The Twilight Saga, Book 1)   \n",
      "\n",
      "              Author  User Rating  Reviews  Price  Year    Genre  \n",
      "0    Stephenie Meyer          4.6     9769     13  2009  Fiction  \n",
      "17   Stephenie Meyer          4.7     5505      7  2009  Fiction  \n",
      "18   Stephenie Meyer          4.7     5505     18  2009  Fiction  \n",
      "37   Stephenie Meyer          4.6     5680     10  2009  Fiction  \n",
      "100  Stephenie Meyer          4.6     2122      0  2010  Fiction  \n",
      "104  Stephenie Meyer          4.7     3801     82  2009  Fiction  \n",
      "113  Stephenie Meyer          4.7    11676      9  2009  Fiction  \n",
      "    index                                    Name           Author  \\\n",
      "2      46        Catching Fire (The Hunger Games)  Suzanne Collins   \n",
      "3      47        Catching Fire (The Hunger Games)  Suzanne Collins   \n",
      "4      48        Catching Fire (The Hunger Games)  Suzanne Collins   \n",
      "34    236           Mockingjay (The Hunger Games)  Suzanne Collins   \n",
      "35    237           Mockingjay (The Hunger Games)  Suzanne Collins   \n",
      "36    238           Mockingjay (The Hunger Games)  Suzanne Collins   \n",
      "88    407                        The Hunger Games  Suzanne Collins   \n",
      "89    408               The Hunger Games (Book 1)  Suzanne Collins   \n",
      "90    409               The Hunger Games (Book 1)  Suzanne Collins   \n",
      "91    410  The Hunger Games Trilogy Boxed Set (1)  Suzanne Collins   \n",
      "92    411  The Hunger Games Trilogy Boxed Set (1)  Suzanne Collins   \n",
      "\n",
      "    User Rating  Reviews  Price  Year    Genre  \n",
      "2           4.7    22614     11  2010  Fiction  \n",
      "3           4.7    22614     11  2011  Fiction  \n",
      "4           4.7    22614     11  2012  Fiction  \n",
      "34          4.5    26741      8  2010  Fiction  \n",
      "35          4.5    26741      8  2011  Fiction  \n",
      "36          4.5    26741      8  2012  Fiction  \n",
      "88          4.7    32122     14  2010  Fiction  \n",
      "89          4.7    32122      8  2011  Fiction  \n",
      "90          4.7    32122      8  2012  Fiction  \n",
      "91          4.8    16949     30  2011  Fiction  \n",
      "92          4.8    16949     30  2012  Fiction  \n"
     ]
    },
    {
     "data": {
      "text/html": [
       "<div>\n",
       "<style scoped>\n",
       "    .dataframe tbody tr th:only-of-type {\n",
       "        vertical-align: middle;\n",
       "    }\n",
       "\n",
       "    .dataframe tbody tr th {\n",
       "        vertical-align: top;\n",
       "    }\n",
       "\n",
       "    .dataframe thead th {\n",
       "        text-align: right;\n",
       "    }\n",
       "</style>\n",
       "<table border=\"1\" class=\"dataframe\">\n",
       "  <thead>\n",
       "    <tr style=\"text-align: right;\">\n",
       "      <th></th>\n",
       "    </tr>\n",
       "  </thead>\n",
       "  <tbody>\n",
       "  </tbody>\n",
       "</table>\n",
       "</div>"
      ],
      "text/plain": [
       "Empty DataFrame\n",
       "Columns: []\n",
       "Index: []"
      ]
     },
     "execution_count": 167,
     "metadata": {},
     "output_type": "execute_result"
    }
   ],
   "source": [
    "df_1 = df['Author'].value_counts()[:20]\n",
    "#df.groupby(df[\"contb_receipt_dt\"]).contb_receipt_amt.agg([\"sum\"])\n",
    "df_2 = df.groupby(\"Author\").filter(lambda x: len(x) > 6).reset_index()\n",
    "df_2.groupby('Author')"
   ]
  },
  {
   "cell_type": "markdown",
   "id": "e1dc9b5a-ea93-4e69-a812-36b9eee52cca",
   "metadata": {},
   "source": [
    "Authors like Dr. Seuss, Eric Carle, Gallup, Gary Chapman, American Psychological Association, and Stephen Covey, are top authors because their books made the bestselling list in multiple years. On the other hand, authors like Bill O’Reilly, Dav Pilkey, Jeff Kinney, Rick Riordan, Rob Elliott, Stephanie Meyer, are top authors because they wrote multiple bestselling books within the dataset timeframe. The authors who wrote multiple books that made the list were typically men and writing fiction series.\n"
   ]
  },
  {
   "cell_type": "markdown",
   "id": "7600ebb7-f6d4-4485-ab81-2f0959651e9d",
   "metadata": {},
   "source": [
    "### 3.4 User rating analysis"
   ]
  },
  {
   "cell_type": "code",
   "execution_count": null,
   "id": "38cbe015-8858-47ff-9b00-26bdfe9f783c",
   "metadata": {},
   "outputs": [],
   "source": []
  },
  {
   "cell_type": "code",
   "execution_count": 192,
   "id": "932b1b42",
   "metadata": {},
   "outputs": [
    {
     "data": {
      "text/html": [
       "<div>\n",
       "<style scoped>\n",
       "    .dataframe tbody tr th:only-of-type {\n",
       "        vertical-align: middle;\n",
       "    }\n",
       "\n",
       "    .dataframe tbody tr th {\n",
       "        vertical-align: top;\n",
       "    }\n",
       "\n",
       "    .dataframe thead th {\n",
       "        text-align: right;\n",
       "    }\n",
       "</style>\n",
       "<table border=\"1\" class=\"dataframe\">\n",
       "  <thead>\n",
       "    <tr style=\"text-align: right;\">\n",
       "      <th></th>\n",
       "      <th>count</th>\n",
       "      <th>mean</th>\n",
       "    </tr>\n",
       "    <tr>\n",
       "      <th>Name</th>\n",
       "      <th></th>\n",
       "      <th></th>\n",
       "    </tr>\n",
       "  </thead>\n",
       "  <tbody>\n",
       "    <tr>\n",
       "      <th>Catching Fire (The Hunger Games)</th>\n",
       "      <td>3.0</td>\n",
       "      <td>4.700000</td>\n",
       "    </tr>\n",
       "    <tr>\n",
       "      <th>Crazy Love: Overwhelmed by a Relentless God</th>\n",
       "      <td>3.0</td>\n",
       "      <td>4.700000</td>\n",
       "    </tr>\n",
       "    <tr>\n",
       "      <th>Dear Zoo: A Lift-the-Flap Book</th>\n",
       "      <td>4.0</td>\n",
       "      <td>4.800000</td>\n",
       "    </tr>\n",
       "    <tr>\n",
       "      <th>First 100 Words</th>\n",
       "      <td>5.0</td>\n",
       "      <td>4.700000</td>\n",
       "    </tr>\n",
       "    <tr>\n",
       "      <th>Game of Thrones Boxed Set: A Game of Thrones/A Clash of Kings/A Storm of Swords/A Feast for Crows</th>\n",
       "      <td>3.0</td>\n",
       "      <td>4.600000</td>\n",
       "    </tr>\n",
       "    <tr>\n",
       "      <th>Giraffes Can't Dance</th>\n",
       "      <td>5.0</td>\n",
       "      <td>4.800000</td>\n",
       "    </tr>\n",
       "    <tr>\n",
       "      <th>Gone Girl</th>\n",
       "      <td>3.0</td>\n",
       "      <td>4.000000</td>\n",
       "    </tr>\n",
       "    <tr>\n",
       "      <th>Good to Great: Why Some Companies Make the Leap and Others Don't</th>\n",
       "      <td>4.0</td>\n",
       "      <td>4.500000</td>\n",
       "    </tr>\n",
       "    <tr>\n",
       "      <th>Goodnight Moon</th>\n",
       "      <td>3.0</td>\n",
       "      <td>4.800000</td>\n",
       "    </tr>\n",
       "    <tr>\n",
       "      <th>How to Win Friends &amp; Influence People</th>\n",
       "      <td>5.0</td>\n",
       "      <td>4.700000</td>\n",
       "    </tr>\n",
       "    <tr>\n",
       "      <th>Jesus Calling: Enjoying Peace in His Presence (with Scripture References)</th>\n",
       "      <td>6.0</td>\n",
       "      <td>4.900000</td>\n",
       "    </tr>\n",
       "    <tr>\n",
       "      <th>Knock-Knock Jokes for Kids</th>\n",
       "      <td>3.0</td>\n",
       "      <td>4.500000</td>\n",
       "    </tr>\n",
       "    <tr>\n",
       "      <th>Laugh-Out-Loud Jokes for Kids</th>\n",
       "      <td>5.0</td>\n",
       "      <td>4.600000</td>\n",
       "    </tr>\n",
       "    <tr>\n",
       "      <th>Milk and Honey</th>\n",
       "      <td>3.0</td>\n",
       "      <td>4.700000</td>\n",
       "    </tr>\n",
       "    <tr>\n",
       "      <th>Mindset: The New Psychology of Success</th>\n",
       "      <td>3.0</td>\n",
       "      <td>4.600000</td>\n",
       "    </tr>\n",
       "    <tr>\n",
       "      <th>Mockingjay (The Hunger Games)</th>\n",
       "      <td>3.0</td>\n",
       "      <td>4.500000</td>\n",
       "    </tr>\n",
       "    <tr>\n",
       "      <th>Oh, the Places You'll Go!</th>\n",
       "      <td>8.0</td>\n",
       "      <td>4.900000</td>\n",
       "    </tr>\n",
       "    <tr>\n",
       "      <th>Player's Handbook (Dungeons &amp; Dragons)</th>\n",
       "      <td>3.0</td>\n",
       "      <td>4.800000</td>\n",
       "    </tr>\n",
       "    <tr>\n",
       "      <th>Publication Manual of the American Psychological Association, 6th Edition</th>\n",
       "      <td>10.0</td>\n",
       "      <td>4.500000</td>\n",
       "    </tr>\n",
       "    <tr>\n",
       "      <th>StrengthsFinder 2.0</th>\n",
       "      <td>9.0</td>\n",
       "      <td>4.000000</td>\n",
       "    </tr>\n",
       "    <tr>\n",
       "      <th>The 5 Love Languages: The Secret to Love That Lasts</th>\n",
       "      <td>5.0</td>\n",
       "      <td>4.700000</td>\n",
       "    </tr>\n",
       "    <tr>\n",
       "      <th>The 5 Love Languages: The Secret to Love that Lasts</th>\n",
       "      <td>5.0</td>\n",
       "      <td>4.800000</td>\n",
       "    </tr>\n",
       "    <tr>\n",
       "      <th>The 7 Habits of Highly Effective People: Powerful Lessons in Personal Change</th>\n",
       "      <td>7.0</td>\n",
       "      <td>4.642857</td>\n",
       "    </tr>\n",
       "    <tr>\n",
       "      <th>The Day the Crayons Quit</th>\n",
       "      <td>3.0</td>\n",
       "      <td>4.800000</td>\n",
       "    </tr>\n",
       "    <tr>\n",
       "      <th>The Fault in Our Stars</th>\n",
       "      <td>4.0</td>\n",
       "      <td>4.700000</td>\n",
       "    </tr>\n",
       "    <tr>\n",
       "      <th>The Five Dysfunctions of a Team: A Leadership Fable</th>\n",
       "      <td>5.0</td>\n",
       "      <td>4.600000</td>\n",
       "    </tr>\n",
       "    <tr>\n",
       "      <th>The Four Agreements: A Practical Guide to Personal Freedom (A Toltec Wisdom Book)</th>\n",
       "      <td>6.0</td>\n",
       "      <td>4.700000</td>\n",
       "    </tr>\n",
       "    <tr>\n",
       "      <th>The Great Gatsby</th>\n",
       "      <td>3.0</td>\n",
       "      <td>4.400000</td>\n",
       "    </tr>\n",
       "    <tr>\n",
       "      <th>The Help</th>\n",
       "      <td>4.0</td>\n",
       "      <td>4.800000</td>\n",
       "    </tr>\n",
       "    <tr>\n",
       "      <th>The Immortal Life of Henrietta Lacks</th>\n",
       "      <td>3.0</td>\n",
       "      <td>4.700000</td>\n",
       "    </tr>\n",
       "    <tr>\n",
       "      <th>The Life-Changing Magic of Tidying Up: The Japanese Art of Decluttering and Organizing</th>\n",
       "      <td>4.0</td>\n",
       "      <td>4.500000</td>\n",
       "    </tr>\n",
       "    <tr>\n",
       "      <th>The Official SAT Study Guide</th>\n",
       "      <td>5.0</td>\n",
       "      <td>4.400000</td>\n",
       "    </tr>\n",
       "    <tr>\n",
       "      <th>The Subtle Art of Not Giving a F*ck: A Counterintuitive Approach to Living a Good Life</th>\n",
       "      <td>3.0</td>\n",
       "      <td>4.600000</td>\n",
       "    </tr>\n",
       "    <tr>\n",
       "      <th>The Very Hungry Caterpillar</th>\n",
       "      <td>7.0</td>\n",
       "      <td>4.900000</td>\n",
       "    </tr>\n",
       "    <tr>\n",
       "      <th>The Whole30: The 30-Day Guide to Total Health and Food Freedom</th>\n",
       "      <td>3.0</td>\n",
       "      <td>4.600000</td>\n",
       "    </tr>\n",
       "    <tr>\n",
       "      <th>The Wonderful Things You Will Be</th>\n",
       "      <td>4.0</td>\n",
       "      <td>4.900000</td>\n",
       "    </tr>\n",
       "    <tr>\n",
       "      <th>Thug Kitchen: The Official Cookbook: Eat Like You Give a F*ck (Thug Kitchen Cookbooks)</th>\n",
       "      <td>4.0</td>\n",
       "      <td>4.600000</td>\n",
       "    </tr>\n",
       "    <tr>\n",
       "      <th>To Kill a Mockingbird</th>\n",
       "      <td>5.0</td>\n",
       "      <td>4.800000</td>\n",
       "    </tr>\n",
       "    <tr>\n",
       "      <th>Unbroken: A World War II Story of Survival, Resilience, and Redemption</th>\n",
       "      <td>5.0</td>\n",
       "      <td>4.800000</td>\n",
       "    </tr>\n",
       "    <tr>\n",
       "      <th>Wonder</th>\n",
       "      <td>5.0</td>\n",
       "      <td>4.800000</td>\n",
       "    </tr>\n",
       "    <tr>\n",
       "      <th>You Are a Badass: How to Stop Doubting Your Greatness and Start Living an Awesome Life</th>\n",
       "      <td>4.0</td>\n",
       "      <td>4.700000</td>\n",
       "    </tr>\n",
       "  </tbody>\n",
       "</table>\n",
       "</div>"
      ],
      "text/plain": [
       "                                                    count      mean\n",
       "Name                                                               \n",
       "Catching Fire (The Hunger Games)                      3.0  4.700000\n",
       "Crazy Love: Overwhelmed by a Relentless God           3.0  4.700000\n",
       "Dear Zoo: A Lift-the-Flap Book                        4.0  4.800000\n",
       "First 100 Words                                       5.0  4.700000\n",
       "Game of Thrones Boxed Set: A Game of Thrones/A ...    3.0  4.600000\n",
       "Giraffes Can't Dance                                  5.0  4.800000\n",
       "Gone Girl                                             3.0  4.000000\n",
       "Good to Great: Why Some Companies Make the Leap...    4.0  4.500000\n",
       "Goodnight Moon                                        3.0  4.800000\n",
       "How to Win Friends & Influence People                 5.0  4.700000\n",
       "Jesus Calling: Enjoying Peace in His Presence (...    6.0  4.900000\n",
       "Knock-Knock Jokes for Kids                            3.0  4.500000\n",
       "Laugh-Out-Loud Jokes for Kids                         5.0  4.600000\n",
       "Milk and Honey                                        3.0  4.700000\n",
       "Mindset: The New Psychology of Success                3.0  4.600000\n",
       "Mockingjay (The Hunger Games)                         3.0  4.500000\n",
       "Oh, the Places You'll Go!                             8.0  4.900000\n",
       "Player's Handbook (Dungeons & Dragons)                3.0  4.800000\n",
       "Publication Manual of the American Psychologica...   10.0  4.500000\n",
       "StrengthsFinder 2.0                                   9.0  4.000000\n",
       "The 5 Love Languages: The Secret to Love That L...    5.0  4.700000\n",
       "The 5 Love Languages: The Secret to Love that L...    5.0  4.800000\n",
       "The 7 Habits of Highly Effective People: Powerf...    7.0  4.642857\n",
       "The Day the Crayons Quit                              3.0  4.800000\n",
       "The Fault in Our Stars                                4.0  4.700000\n",
       "The Five Dysfunctions of a Team: A Leadership F...    5.0  4.600000\n",
       "The Four Agreements: A Practical Guide to Perso...    6.0  4.700000\n",
       "The Great Gatsby                                      3.0  4.400000\n",
       "The Help                                              4.0  4.800000\n",
       "The Immortal Life of Henrietta Lacks                  3.0  4.700000\n",
       "The Life-Changing Magic of Tidying Up: The Japa...    4.0  4.500000\n",
       "The Official SAT Study Guide                          5.0  4.400000\n",
       "The Subtle Art of Not Giving a F*ck: A Counteri...    3.0  4.600000\n",
       "The Very Hungry Caterpillar                           7.0  4.900000\n",
       "The Whole30: The 30-Day Guide to Total Health a...    3.0  4.600000\n",
       "The Wonderful Things You Will Be                      4.0  4.900000\n",
       "Thug Kitchen: The Official Cookbook: Eat Like Y...    4.0  4.600000\n",
       "To Kill a Mockingbird                                 5.0  4.800000\n",
       "Unbroken: A World War II Story of Survival, Res...    5.0  4.800000\n",
       "Wonder                                                5.0  4.800000\n",
       "You Are a Badass: How to Stop Doubting Your Gre...    4.0  4.700000"
      ]
     },
     "execution_count": 192,
     "metadata": {},
     "output_type": "execute_result"
    }
   ],
   "source": [
    "#user rating range \n",
    "df_1 = df[df.groupby(\"Name\")[\"Name\"].transform('size') > 2]\n",
    "df_x = df_1.groupby(\"Name\")['User Rating']\n",
    "df_x.describe()[['count', 'mean']]"
   ]
  },
  {
   "cell_type": "code",
   "execution_count": 207,
   "id": "6c69118f",
   "metadata": {},
   "outputs": [
    {
     "data": {
      "text/plain": [
       "User Rating        4.630847\n",
       "Reviews        15957.047458\n",
       "Price             12.942373\n",
       "dtype: float64"
      ]
     },
     "execution_count": 207,
     "metadata": {},
     "output_type": "execute_result"
    }
   ],
   "source": [
    "df_1 = df[df.groupby(\"Name\")[\"Name\"].transform('size') > 1].reset_index()\n",
    "df_1[['User Rating','Reviews', 'Price']].mean()"
   ]
  },
  {
   "cell_type": "code",
   "execution_count": 208,
   "id": "ee70f166",
   "metadata": {},
   "outputs": [
    {
     "data": {
      "text/html": [
       "<div>\n",
       "<style scoped>\n",
       "    .dataframe tbody tr th:only-of-type {\n",
       "        vertical-align: middle;\n",
       "    }\n",
       "\n",
       "    .dataframe tbody tr th {\n",
       "        vertical-align: top;\n",
       "    }\n",
       "\n",
       "    .dataframe thead th {\n",
       "        text-align: right;\n",
       "    }\n",
       "</style>\n",
       "<table border=\"1\" class=\"dataframe\">\n",
       "  <thead>\n",
       "    <tr style=\"text-align: right;\">\n",
       "      <th></th>\n",
       "      <th>Name</th>\n",
       "      <th>Author</th>\n",
       "      <th>Genre</th>\n",
       "    </tr>\n",
       "  </thead>\n",
       "  <tbody>\n",
       "    <tr>\n",
       "      <th>count</th>\n",
       "      <td>295</td>\n",
       "      <td>295</td>\n",
       "      <td>295</td>\n",
       "    </tr>\n",
       "    <tr>\n",
       "      <th>unique</th>\n",
       "      <td>96</td>\n",
       "      <td>90</td>\n",
       "      <td>2</td>\n",
       "    </tr>\n",
       "    <tr>\n",
       "      <th>top</th>\n",
       "      <td>Publication Manual of the American Psychologic...</td>\n",
       "      <td>Gary Chapman</td>\n",
       "      <td>Non Fiction</td>\n",
       "    </tr>\n",
       "    <tr>\n",
       "      <th>freq</th>\n",
       "      <td>10</td>\n",
       "      <td>10</td>\n",
       "      <td>171</td>\n",
       "    </tr>\n",
       "  </tbody>\n",
       "</table>\n",
       "</div>"
      ],
      "text/plain": [
       "                                                     Name        Author  \\\n",
       "count                                                 295           295   \n",
       "unique                                                 96            90   \n",
       "top     Publication Manual of the American Psychologic...  Gary Chapman   \n",
       "freq                                                   10            10   \n",
       "\n",
       "              Genre  \n",
       "count           295  \n",
       "unique            2  \n",
       "top     Non Fiction  \n",
       "freq            171  "
      ]
     },
     "execution_count": 208,
     "metadata": {},
     "output_type": "execute_result"
    }
   ],
   "source": [
    "df_1.describe(include='O') "
   ]
  },
  {
   "cell_type": "code",
   "execution_count": 74,
   "id": "40a760f5",
   "metadata": {},
   "outputs": [
    {
     "data": {
      "text/html": [
       "<div>\n",
       "<style scoped>\n",
       "    .dataframe tbody tr th:only-of-type {\n",
       "        vertical-align: middle;\n",
       "    }\n",
       "\n",
       "    .dataframe tbody tr th {\n",
       "        vertical-align: top;\n",
       "    }\n",
       "\n",
       "    .dataframe thead th {\n",
       "        text-align: right;\n",
       "    }\n",
       "</style>\n",
       "<table border=\"1\" class=\"dataframe\">\n",
       "  <thead>\n",
       "    <tr style=\"text-align: right;\">\n",
       "      <th></th>\n",
       "      <th>count</th>\n",
       "      <th>mean</th>\n",
       "      <th>std</th>\n",
       "      <th>min</th>\n",
       "      <th>25%</th>\n",
       "      <th>50%</th>\n",
       "      <th>75%</th>\n",
       "      <th>max</th>\n",
       "    </tr>\n",
       "    <tr>\n",
       "      <th>Author</th>\n",
       "      <th></th>\n",
       "      <th></th>\n",
       "      <th></th>\n",
       "      <th></th>\n",
       "      <th></th>\n",
       "      <th></th>\n",
       "      <th></th>\n",
       "      <th></th>\n",
       "    </tr>\n",
       "  </thead>\n",
       "  <tbody>\n",
       "    <tr>\n",
       "      <th>American Psychological Association</th>\n",
       "      <td>10.0</td>\n",
       "      <td>4.500000</td>\n",
       "      <td>0.000000e+00</td>\n",
       "      <td>4.5</td>\n",
       "      <td>4.500</td>\n",
       "      <td>4.5</td>\n",
       "      <td>4.500</td>\n",
       "      <td>4.5</td>\n",
       "    </tr>\n",
       "    <tr>\n",
       "      <th>Bill O'Reilly</th>\n",
       "      <td>7.0</td>\n",
       "      <td>4.642857</td>\n",
       "      <td>9.759001e-02</td>\n",
       "      <td>4.5</td>\n",
       "      <td>4.600</td>\n",
       "      <td>4.6</td>\n",
       "      <td>4.700</td>\n",
       "      <td>4.8</td>\n",
       "    </tr>\n",
       "    <tr>\n",
       "      <th>Dav Pilkey</th>\n",
       "      <td>7.0</td>\n",
       "      <td>4.900000</td>\n",
       "      <td>9.593423e-16</td>\n",
       "      <td>4.9</td>\n",
       "      <td>4.900</td>\n",
       "      <td>4.9</td>\n",
       "      <td>4.900</td>\n",
       "      <td>4.9</td>\n",
       "    </tr>\n",
       "    <tr>\n",
       "      <th>Don Miguel Ruiz</th>\n",
       "      <td>6.0</td>\n",
       "      <td>4.700000</td>\n",
       "      <td>0.000000e+00</td>\n",
       "      <td>4.7</td>\n",
       "      <td>4.700</td>\n",
       "      <td>4.7</td>\n",
       "      <td>4.700</td>\n",
       "      <td>4.7</td>\n",
       "    </tr>\n",
       "    <tr>\n",
       "      <th>Dr. Seuss</th>\n",
       "      <td>9.0</td>\n",
       "      <td>4.877778</td>\n",
       "      <td>6.666667e-02</td>\n",
       "      <td>4.7</td>\n",
       "      <td>4.900</td>\n",
       "      <td>4.9</td>\n",
       "      <td>4.900</td>\n",
       "      <td>4.9</td>\n",
       "    </tr>\n",
       "    <tr>\n",
       "      <th>E L James</th>\n",
       "      <td>6.0</td>\n",
       "      <td>4.233333</td>\n",
       "      <td>3.386247e-01</td>\n",
       "      <td>3.8</td>\n",
       "      <td>3.950</td>\n",
       "      <td>4.4</td>\n",
       "      <td>4.475</td>\n",
       "      <td>4.5</td>\n",
       "    </tr>\n",
       "    <tr>\n",
       "      <th>Eric Carle</th>\n",
       "      <td>7.0</td>\n",
       "      <td>4.900000</td>\n",
       "      <td>9.593423e-16</td>\n",
       "      <td>4.9</td>\n",
       "      <td>4.900</td>\n",
       "      <td>4.9</td>\n",
       "      <td>4.900</td>\n",
       "      <td>4.9</td>\n",
       "    </tr>\n",
       "    <tr>\n",
       "      <th>Gallup</th>\n",
       "      <td>9.0</td>\n",
       "      <td>4.000000</td>\n",
       "      <td>0.000000e+00</td>\n",
       "      <td>4.0</td>\n",
       "      <td>4.000</td>\n",
       "      <td>4.0</td>\n",
       "      <td>4.000</td>\n",
       "      <td>4.0</td>\n",
       "    </tr>\n",
       "    <tr>\n",
       "      <th>Gary Chapman</th>\n",
       "      <td>11.0</td>\n",
       "      <td>4.736364</td>\n",
       "      <td>6.741999e-02</td>\n",
       "      <td>4.6</td>\n",
       "      <td>4.700</td>\n",
       "      <td>4.7</td>\n",
       "      <td>4.800</td>\n",
       "      <td>4.8</td>\n",
       "    </tr>\n",
       "    <tr>\n",
       "      <th>Harper Lee</th>\n",
       "      <td>6.0</td>\n",
       "      <td>4.600000</td>\n",
       "      <td>4.898979e-01</td>\n",
       "      <td>3.6</td>\n",
       "      <td>4.800</td>\n",
       "      <td>4.8</td>\n",
       "      <td>4.800</td>\n",
       "      <td>4.8</td>\n",
       "    </tr>\n",
       "    <tr>\n",
       "      <th>J.K. Rowling</th>\n",
       "      <td>6.0</td>\n",
       "      <td>4.450000</td>\n",
       "      <td>6.625708e-01</td>\n",
       "      <td>3.3</td>\n",
       "      <td>4.175</td>\n",
       "      <td>4.8</td>\n",
       "      <td>4.900</td>\n",
       "      <td>4.9</td>\n",
       "    </tr>\n",
       "    <tr>\n",
       "      <th>Jeff Kinney</th>\n",
       "      <td>12.0</td>\n",
       "      <td>4.800000</td>\n",
       "      <td>4.264014e-02</td>\n",
       "      <td>4.7</td>\n",
       "      <td>4.800</td>\n",
       "      <td>4.8</td>\n",
       "      <td>4.800</td>\n",
       "      <td>4.9</td>\n",
       "    </tr>\n",
       "    <tr>\n",
       "      <th>Rick Riordan</th>\n",
       "      <td>11.0</td>\n",
       "      <td>4.772727</td>\n",
       "      <td>6.466698e-02</td>\n",
       "      <td>4.6</td>\n",
       "      <td>4.800</td>\n",
       "      <td>4.8</td>\n",
       "      <td>4.800</td>\n",
       "      <td>4.8</td>\n",
       "    </tr>\n",
       "    <tr>\n",
       "      <th>Rob Elliott</th>\n",
       "      <td>8.0</td>\n",
       "      <td>4.562500</td>\n",
       "      <td>5.175492e-02</td>\n",
       "      <td>4.5</td>\n",
       "      <td>4.500</td>\n",
       "      <td>4.6</td>\n",
       "      <td>4.600</td>\n",
       "      <td>4.6</td>\n",
       "    </tr>\n",
       "    <tr>\n",
       "      <th>Sarah Young</th>\n",
       "      <td>6.0</td>\n",
       "      <td>4.900000</td>\n",
       "      <td>9.729507e-16</td>\n",
       "      <td>4.9</td>\n",
       "      <td>4.900</td>\n",
       "      <td>4.9</td>\n",
       "      <td>4.900</td>\n",
       "      <td>4.9</td>\n",
       "    </tr>\n",
       "    <tr>\n",
       "      <th>Stephen R. Covey</th>\n",
       "      <td>7.0</td>\n",
       "      <td>4.642857</td>\n",
       "      <td>5.345225e-02</td>\n",
       "      <td>4.6</td>\n",
       "      <td>4.600</td>\n",
       "      <td>4.6</td>\n",
       "      <td>4.700</td>\n",
       "      <td>4.7</td>\n",
       "    </tr>\n",
       "    <tr>\n",
       "      <th>Stephenie Meyer</th>\n",
       "      <td>7.0</td>\n",
       "      <td>4.657143</td>\n",
       "      <td>5.345225e-02</td>\n",
       "      <td>4.6</td>\n",
       "      <td>4.600</td>\n",
       "      <td>4.7</td>\n",
       "      <td>4.700</td>\n",
       "      <td>4.7</td>\n",
       "    </tr>\n",
       "    <tr>\n",
       "      <th>Stieg Larsson</th>\n",
       "      <td>6.0</td>\n",
       "      <td>4.600000</td>\n",
       "      <td>1.549193e-01</td>\n",
       "      <td>4.4</td>\n",
       "      <td>4.475</td>\n",
       "      <td>4.7</td>\n",
       "      <td>4.700</td>\n",
       "      <td>4.7</td>\n",
       "    </tr>\n",
       "    <tr>\n",
       "      <th>Suzanne Collins</th>\n",
       "      <td>11.0</td>\n",
       "      <td>4.663636</td>\n",
       "      <td>1.120065e-01</td>\n",
       "      <td>4.5</td>\n",
       "      <td>4.600</td>\n",
       "      <td>4.7</td>\n",
       "      <td>4.700</td>\n",
       "      <td>4.8</td>\n",
       "    </tr>\n",
       "    <tr>\n",
       "      <th>The College Board</th>\n",
       "      <td>6.0</td>\n",
       "      <td>4.383333</td>\n",
       "      <td>4.082483e-02</td>\n",
       "      <td>4.3</td>\n",
       "      <td>4.400</td>\n",
       "      <td>4.4</td>\n",
       "      <td>4.400</td>\n",
       "      <td>4.4</td>\n",
       "    </tr>\n",
       "  </tbody>\n",
       "</table>\n",
       "</div>"
      ],
      "text/plain": [
       "                                    count      mean           std  min    25%  \\\n",
       "Author                                                                          \n",
       "American Psychological Association   10.0  4.500000  0.000000e+00  4.5  4.500   \n",
       "Bill O'Reilly                         7.0  4.642857  9.759001e-02  4.5  4.600   \n",
       "Dav Pilkey                            7.0  4.900000  9.593423e-16  4.9  4.900   \n",
       "Don Miguel Ruiz                       6.0  4.700000  0.000000e+00  4.7  4.700   \n",
       "Dr. Seuss                             9.0  4.877778  6.666667e-02  4.7  4.900   \n",
       "E L James                             6.0  4.233333  3.386247e-01  3.8  3.950   \n",
       "Eric Carle                            7.0  4.900000  9.593423e-16  4.9  4.900   \n",
       "Gallup                                9.0  4.000000  0.000000e+00  4.0  4.000   \n",
       "Gary Chapman                         11.0  4.736364  6.741999e-02  4.6  4.700   \n",
       "Harper Lee                            6.0  4.600000  4.898979e-01  3.6  4.800   \n",
       "J.K. Rowling                          6.0  4.450000  6.625708e-01  3.3  4.175   \n",
       "Jeff Kinney                          12.0  4.800000  4.264014e-02  4.7  4.800   \n",
       "Rick Riordan                         11.0  4.772727  6.466698e-02  4.6  4.800   \n",
       "Rob Elliott                           8.0  4.562500  5.175492e-02  4.5  4.500   \n",
       "Sarah Young                           6.0  4.900000  9.729507e-16  4.9  4.900   \n",
       "Stephen R. Covey                      7.0  4.642857  5.345225e-02  4.6  4.600   \n",
       "Stephenie Meyer                       7.0  4.657143  5.345225e-02  4.6  4.600   \n",
       "Stieg Larsson                         6.0  4.600000  1.549193e-01  4.4  4.475   \n",
       "Suzanne Collins                      11.0  4.663636  1.120065e-01  4.5  4.600   \n",
       "The College Board                     6.0  4.383333  4.082483e-02  4.3  4.400   \n",
       "\n",
       "                                    50%    75%  max  \n",
       "Author                                               \n",
       "American Psychological Association  4.5  4.500  4.5  \n",
       "Bill O'Reilly                       4.6  4.700  4.8  \n",
       "Dav Pilkey                          4.9  4.900  4.9  \n",
       "Don Miguel Ruiz                     4.7  4.700  4.7  \n",
       "Dr. Seuss                           4.9  4.900  4.9  \n",
       "E L James                           4.4  4.475  4.5  \n",
       "Eric Carle                          4.9  4.900  4.9  \n",
       "Gallup                              4.0  4.000  4.0  \n",
       "Gary Chapman                        4.7  4.800  4.8  \n",
       "Harper Lee                          4.8  4.800  4.8  \n",
       "J.K. Rowling                        4.8  4.900  4.9  \n",
       "Jeff Kinney                         4.8  4.800  4.9  \n",
       "Rick Riordan                        4.8  4.800  4.8  \n",
       "Rob Elliott                         4.6  4.600  4.6  \n",
       "Sarah Young                         4.9  4.900  4.9  \n",
       "Stephen R. Covey                    4.6  4.700  4.7  \n",
       "Stephenie Meyer                     4.7  4.700  4.7  \n",
       "Stieg Larsson                       4.7  4.700  4.7  \n",
       "Suzanne Collins                     4.7  4.700  4.8  \n",
       "The College Board                   4.4  4.400  4.4  "
      ]
     },
     "execution_count": 74,
     "metadata": {},
     "output_type": "execute_result"
    }
   ],
   "source": [
    "df_1 = df[df.groupby(\"Author\")['Author'].transform('size') > 5]\n",
    "df_x = df_1.groupby(\"Author\")['User Rating']\n",
    "df_x.describe()"
   ]
  },
  {
   "cell_type": "markdown",
   "id": "7cd62fd3-6d08-4fe0-8772-ec26cbecd35e",
   "metadata": {},
   "source": [
    "The User Ratings range from 3.0 to 4.9 with an average rating of 4.6 which is expected for books that are on the bestselling list.  The books with User Ratings less than 4.0 are all fiction with The Casual Vacancy by J.K. Rowling having the lowest User Rating of 3.3. "
   ]
  },
  {
   "cell_type": "markdown",
   "id": "e91cbfa5-8223-4cff-bf0d-7d54a2d3b540",
   "metadata": {},
   "source": [
    "## 3.5 Relationship between User Rating and Price"
   ]
  },
  {
   "cell_type": "code",
   "execution_count": 83,
   "id": "8865c01e",
   "metadata": {},
   "outputs": [
    {
     "data": {
      "image/png": "[encoded data removed]",
      "text/plain": [
       "<Figure size 1440x720 with 1 Axes>"
      ]
     },
     "metadata": {
      "needs_background": "light"
     },
     "output_type": "display_data"
    }
   ],
   "source": [
    "plt.figure(figsize=(20,10))\n",
    "plot1 = sns.regplot(x=df['Price'],\n",
    "                    y=df['User Rating'],\n",
    "                    data=df)\n",
    "plot1.set_title('Relationship between User Rating and Price',fontsize=16)\n",
    "plot1.set_xlabel('Price',fontsize=12)\n",
    "plot1.set_ylabel('User Rating',fontsize=12)\n",
    "plt.show()"
   ]
  },
  {
   "cell_type": "markdown",
   "id": "d75c41f7",
   "metadata": {},
   "source": [
    "There is a slight negative correlation between user rating and price. "
   ]
  },
  {
   "cell_type": "markdown",
   "id": "b01cd9a2-4866-4e54-949a-891a77a9fe75",
   "metadata": {},
   "source": [
    "## 3.6 Genre analysis"
   ]
  },
  {
   "cell_type": "code",
   "execution_count": 15,
   "id": "fa878212",
   "metadata": {},
   "outputs": [
    {
     "data": {
      "text/plain": [
       "Text(0.5, 0, 'Genre')"
      ]
     },
     "execution_count": 15,
     "metadata": {},
     "output_type": "execute_result"
    },
    {
     "data": {
      "image/png": "[encoded data removed]",
      "text/plain": [
       "<Figure size 432x288 with 1 Axes>"
      ]
     },
     "metadata": {
      "needs_background": "light"
     },
     "output_type": "display_data"
    }
   ],
   "source": [
    "df['Genre'].value_counts().plot(kind = 'bar')\n",
    "plt.ylabel('Count')\n",
    "plt.xlabel('Genre')\n",
    "plt.title('User Ratings Count')"
   ]
  },
  {
   "cell_type": "code",
   "execution_count": 16,
   "id": "269dd61d",
   "metadata": {},
   "outputs": [
    {
     "data": {
      "text/plain": [
       "Text(0, 0.5, 'Count')"
      ]
     },
     "execution_count": 16,
     "metadata": {},
     "output_type": "execute_result"
    },
    {
     "data": {
      "image/png": "[encoded data removed]",
      "text/plain": [
       "<Figure size 432x288 with 1 Axes>"
      ]
     },
     "metadata": {
      "needs_background": "light"
     },
     "output_type": "display_data"
    }
   ],
   "source": [
    "plot2 =sns.countplot(data=df,x='Year', hue='Genre')\n",
    "plot2.set_title('Genre Count over the Years',fontsize=16)\n",
    "plot2.set_xlabel('Year',fontsize=12)\n",
    "plot2.set_ylabel('Count',fontsize=12)"
   ]
  },
  {
   "cell_type": "code",
   "execution_count": 159,
   "id": "adf23bbf",
   "metadata": {},
   "outputs": [
    {
     "data": {
      "text/html": [
       "<div>\n",
       "<style scoped>\n",
       "    .dataframe tbody tr th:only-of-type {\n",
       "        vertical-align: middle;\n",
       "    }\n",
       "\n",
       "    .dataframe tbody tr th {\n",
       "        vertical-align: top;\n",
       "    }\n",
       "\n",
       "    .dataframe thead th {\n",
       "        text-align: right;\n",
       "    }\n",
       "</style>\n",
       "<table border=\"1\" class=\"dataframe\">\n",
       "  <thead>\n",
       "    <tr style=\"text-align: right;\">\n",
       "      <th></th>\n",
       "      <th>Name</th>\n",
       "      <th>Author</th>\n",
       "      <th>User Rating</th>\n",
       "      <th>Reviews</th>\n",
       "      <th>Price</th>\n",
       "      <th>Year</th>\n",
       "      <th>Genre</th>\n",
       "    </tr>\n",
       "  </thead>\n",
       "  <tbody>\n",
       "    <tr>\n",
       "      <th>6</th>\n",
       "      <td>A Game of Thrones / A Clash of Kings / A Storm...</td>\n",
       "      <td>George R. R. Martin</td>\n",
       "      <td>4.7</td>\n",
       "      <td>19735</td>\n",
       "      <td>30</td>\n",
       "      <td>2014</td>\n",
       "      <td>Fiction</td>\n",
       "    </tr>\n",
       "    <tr>\n",
       "      <th>20</th>\n",
       "      <td>All the Light We Cannot See</td>\n",
       "      <td>Anthony Doerr</td>\n",
       "      <td>4.6</td>\n",
       "      <td>36348</td>\n",
       "      <td>14</td>\n",
       "      <td>2014</td>\n",
       "      <td>Fiction</td>\n",
       "    </tr>\n",
       "    <tr>\n",
       "      <th>45</th>\n",
       "      <td>Capital in the Twenty First Century</td>\n",
       "      <td>Thomas Piketty</td>\n",
       "      <td>4.5</td>\n",
       "      <td>2884</td>\n",
       "      <td>28</td>\n",
       "      <td>2014</td>\n",
       "      <td>Non Fiction</td>\n",
       "    </tr>\n",
       "    <tr>\n",
       "      <th>70</th>\n",
       "      <td>Diagnostic and Statistical Manual of Mental Di...</td>\n",
       "      <td>American Psychiatric Association</td>\n",
       "      <td>4.5</td>\n",
       "      <td>6679</td>\n",
       "      <td>105</td>\n",
       "      <td>2014</td>\n",
       "      <td>Non Fiction</td>\n",
       "    </tr>\n",
       "    <tr>\n",
       "      <th>73</th>\n",
       "      <td>Diary of a Wimpy Kid: The Long Haul</td>\n",
       "      <td>Jeff Kinney</td>\n",
       "      <td>4.8</td>\n",
       "      <td>6540</td>\n",
       "      <td>22</td>\n",
       "      <td>2014</td>\n",
       "      <td>Fiction</td>\n",
       "    </tr>\n",
       "    <tr>\n",
       "      <th>76</th>\n",
       "      <td>Divergent</td>\n",
       "      <td>Veronica Roth</td>\n",
       "      <td>4.6</td>\n",
       "      <td>27098</td>\n",
       "      <td>15</td>\n",
       "      <td>2014</td>\n",
       "      <td>Fiction</td>\n",
       "    </tr>\n",
       "    <tr>\n",
       "      <th>77</th>\n",
       "      <td>Divergent / Insurgent</td>\n",
       "      <td>Veronica Roth</td>\n",
       "      <td>4.5</td>\n",
       "      <td>17684</td>\n",
       "      <td>6</td>\n",
       "      <td>2014</td>\n",
       "      <td>Fiction</td>\n",
       "    </tr>\n",
       "    <tr>\n",
       "      <th>110</th>\n",
       "      <td>First 100 Words</td>\n",
       "      <td>Roger Priddy</td>\n",
       "      <td>4.7</td>\n",
       "      <td>17323</td>\n",
       "      <td>4</td>\n",
       "      <td>2014</td>\n",
       "      <td>Non Fiction</td>\n",
       "    </tr>\n",
       "    <tr>\n",
       "      <th>116</th>\n",
       "      <td>Frozen (Little Golden Book)</td>\n",
       "      <td>RH Disney</td>\n",
       "      <td>4.7</td>\n",
       "      <td>3642</td>\n",
       "      <td>0</td>\n",
       "      <td>2014</td>\n",
       "      <td>Fiction</td>\n",
       "    </tr>\n",
       "    <tr>\n",
       "      <th>137</th>\n",
       "      <td>Gone Girl</td>\n",
       "      <td>Gillian Flynn</td>\n",
       "      <td>4.0</td>\n",
       "      <td>57271</td>\n",
       "      <td>9</td>\n",
       "      <td>2014</td>\n",
       "      <td>Fiction</td>\n",
       "    </tr>\n",
       "    <tr>\n",
       "      <th>148</th>\n",
       "      <td>Grain Brain: The Surprising Truth about Wheat,...</td>\n",
       "      <td>David Perlmutter MD</td>\n",
       "      <td>4.6</td>\n",
       "      <td>5972</td>\n",
       "      <td>10</td>\n",
       "      <td>2014</td>\n",
       "      <td>Non Fiction</td>\n",
       "    </tr>\n",
       "    <tr>\n",
       "      <th>166</th>\n",
       "      <td>How to Win Friends &amp; Influence People</td>\n",
       "      <td>Dale Carnegie</td>\n",
       "      <td>4.7</td>\n",
       "      <td>25001</td>\n",
       "      <td>11</td>\n",
       "      <td>2014</td>\n",
       "      <td>Non Fiction</td>\n",
       "    </tr>\n",
       "    <tr>\n",
       "      <th>173</th>\n",
       "      <td>Humans of New York</td>\n",
       "      <td>Brandon Stanton</td>\n",
       "      <td>4.8</td>\n",
       "      <td>3490</td>\n",
       "      <td>15</td>\n",
       "      <td>2014</td>\n",
       "      <td>Non Fiction</td>\n",
       "    </tr>\n",
       "    <tr>\n",
       "      <th>180</th>\n",
       "      <td>If I Stay</td>\n",
       "      <td>Gayle Forman</td>\n",
       "      <td>4.3</td>\n",
       "      <td>7153</td>\n",
       "      <td>9</td>\n",
       "      <td>2014</td>\n",
       "      <td>Fiction</td>\n",
       "    </tr>\n",
       "    <tr>\n",
       "      <th>190</th>\n",
       "      <td>Jesus Calling: Enjoying Peace in His Presence ...</td>\n",
       "      <td>Sarah Young</td>\n",
       "      <td>4.9</td>\n",
       "      <td>19576</td>\n",
       "      <td>8</td>\n",
       "      <td>2014</td>\n",
       "      <td>Non Fiction</td>\n",
       "    </tr>\n",
       "    <tr>\n",
       "      <th>193</th>\n",
       "      <td>JOURNEY TO THE ICE P</td>\n",
       "      <td>RH Disney</td>\n",
       "      <td>4.6</td>\n",
       "      <td>978</td>\n",
       "      <td>0</td>\n",
       "      <td>2014</td>\n",
       "      <td>Fiction</td>\n",
       "    </tr>\n",
       "    <tr>\n",
       "      <th>200</th>\n",
       "      <td>Killing Patton: The Strange Death of World War...</td>\n",
       "      <td>Bill O'Reilly</td>\n",
       "      <td>4.6</td>\n",
       "      <td>10927</td>\n",
       "      <td>6</td>\n",
       "      <td>2014</td>\n",
       "      <td>Non Fiction</td>\n",
       "    </tr>\n",
       "    <tr>\n",
       "      <th>205</th>\n",
       "      <td>Knock-Knock Jokes for Kids</td>\n",
       "      <td>Rob Elliott</td>\n",
       "      <td>4.5</td>\n",
       "      <td>3673</td>\n",
       "      <td>4</td>\n",
       "      <td>2014</td>\n",
       "      <td>Non Fiction</td>\n",
       "    </tr>\n",
       "    <tr>\n",
       "      <th>209</th>\n",
       "      <td>Laugh-Out-Loud Jokes for Kids</td>\n",
       "      <td>Rob Elliott</td>\n",
       "      <td>4.6</td>\n",
       "      <td>6990</td>\n",
       "      <td>4</td>\n",
       "      <td>2014</td>\n",
       "      <td>Non Fiction</td>\n",
       "    </tr>\n",
       "    <tr>\n",
       "      <th>219</th>\n",
       "      <td>Little Blue Truck</td>\n",
       "      <td>Alice Schertle</td>\n",
       "      <td>4.9</td>\n",
       "      <td>1884</td>\n",
       "      <td>0</td>\n",
       "      <td>2014</td>\n",
       "      <td>Fiction</td>\n",
       "    </tr>\n",
       "    <tr>\n",
       "      <th>221</th>\n",
       "      <td>Looking for Alaska</td>\n",
       "      <td>John Green</td>\n",
       "      <td>4.5</td>\n",
       "      <td>8491</td>\n",
       "      <td>7</td>\n",
       "      <td>2014</td>\n",
       "      <td>Fiction</td>\n",
       "    </tr>\n",
       "    <tr>\n",
       "      <th>223</th>\n",
       "      <td>Love You Forever</td>\n",
       "      <td>Robert Munsch</td>\n",
       "      <td>4.8</td>\n",
       "      <td>18613</td>\n",
       "      <td>5</td>\n",
       "      <td>2014</td>\n",
       "      <td>Fiction</td>\n",
       "    </tr>\n",
       "    <tr>\n",
       "      <th>226</th>\n",
       "      <td>Make It Ahead: A Barefoot Contessa Cookbook</td>\n",
       "      <td>Ina Garten</td>\n",
       "      <td>4.5</td>\n",
       "      <td>1386</td>\n",
       "      <td>20</td>\n",
       "      <td>2014</td>\n",
       "      <td>Non Fiction</td>\n",
       "    </tr>\n",
       "    <tr>\n",
       "      <th>233</th>\n",
       "      <td>Mindset: The New Psychology of Success</td>\n",
       "      <td>Carol S. Dweck</td>\n",
       "      <td>4.6</td>\n",
       "      <td>5542</td>\n",
       "      <td>10</td>\n",
       "      <td>2014</td>\n",
       "      <td>Non Fiction</td>\n",
       "    </tr>\n",
       "    <tr>\n",
       "      <th>247</th>\n",
       "      <td>Oh, the Places You'll Go!</td>\n",
       "      <td>Dr. Seuss</td>\n",
       "      <td>4.9</td>\n",
       "      <td>21834</td>\n",
       "      <td>8</td>\n",
       "      <td>2014</td>\n",
       "      <td>Fiction</td>\n",
       "    </tr>\n",
       "    <tr>\n",
       "      <th>259</th>\n",
       "      <td>Orphan Train</td>\n",
       "      <td>Christina Baker Kline</td>\n",
       "      <td>4.6</td>\n",
       "      <td>21930</td>\n",
       "      <td>11</td>\n",
       "      <td>2014</td>\n",
       "      <td>Fiction</td>\n",
       "    </tr>\n",
       "    <tr>\n",
       "      <th>276</th>\n",
       "      <td>Publication Manual of the American Psychologic...</td>\n",
       "      <td>American Psychological Association</td>\n",
       "      <td>4.5</td>\n",
       "      <td>8580</td>\n",
       "      <td>46</td>\n",
       "      <td>2014</td>\n",
       "      <td>Non Fiction</td>\n",
       "    </tr>\n",
       "    <tr>\n",
       "      <th>289</th>\n",
       "      <td>Rush Revere and the First Patriots: Time-Trave...</td>\n",
       "      <td>Rush Limbaugh</td>\n",
       "      <td>4.9</td>\n",
       "      <td>3836</td>\n",
       "      <td>12</td>\n",
       "      <td>2014</td>\n",
       "      <td>Fiction</td>\n",
       "    </tr>\n",
       "    <tr>\n",
       "      <th>309</th>\n",
       "      <td>StrengthsFinder 2.0</td>\n",
       "      <td>Gallup</td>\n",
       "      <td>4.0</td>\n",
       "      <td>5069</td>\n",
       "      <td>17</td>\n",
       "      <td>2014</td>\n",
       "      <td>Non Fiction</td>\n",
       "    </tr>\n",
       "    <tr>\n",
       "      <th>324</th>\n",
       "      <td>The 5 Love Languages: The Secret to Love That ...</td>\n",
       "      <td>Gary Chapman</td>\n",
       "      <td>4.7</td>\n",
       "      <td>3477</td>\n",
       "      <td>28</td>\n",
       "      <td>2014</td>\n",
       "      <td>Non Fiction</td>\n",
       "    </tr>\n",
       "    <tr>\n",
       "      <th>338</th>\n",
       "      <td>The Alchemist</td>\n",
       "      <td>Paulo Coelho</td>\n",
       "      <td>4.7</td>\n",
       "      <td>35799</td>\n",
       "      <td>39</td>\n",
       "      <td>2014</td>\n",
       "      <td>Fiction</td>\n",
       "    </tr>\n",
       "    <tr>\n",
       "      <th>343</th>\n",
       "      <td>The Blood of Olympus (The Heroes of Olympus (5))</td>\n",
       "      <td>Rick Riordan</td>\n",
       "      <td>4.8</td>\n",
       "      <td>6600</td>\n",
       "      <td>11</td>\n",
       "      <td>2014</td>\n",
       "      <td>Fiction</td>\n",
       "    </tr>\n",
       "    <tr>\n",
       "      <th>348</th>\n",
       "      <td>The Book Thief</td>\n",
       "      <td>Markus Zusak</td>\n",
       "      <td>4.6</td>\n",
       "      <td>23148</td>\n",
       "      <td>6</td>\n",
       "      <td>2014</td>\n",
       "      <td>Fiction</td>\n",
       "    </tr>\n",
       "    <tr>\n",
       "      <th>349</th>\n",
       "      <td>The Book with No Pictures</td>\n",
       "      <td>B. J. Novak</td>\n",
       "      <td>4.8</td>\n",
       "      <td>8081</td>\n",
       "      <td>8</td>\n",
       "      <td>2014</td>\n",
       "      <td>Fiction</td>\n",
       "    </tr>\n",
       "    <tr>\n",
       "      <th>351</th>\n",
       "      <td>The Boys in the Boat: Nine Americans and Their...</td>\n",
       "      <td>Daniel James Brown</td>\n",
       "      <td>4.8</td>\n",
       "      <td>23358</td>\n",
       "      <td>12</td>\n",
       "      <td>2014</td>\n",
       "      <td>Non Fiction</td>\n",
       "    </tr>\n",
       "    <tr>\n",
       "      <th>361</th>\n",
       "      <td>The Day the Crayons Quit</td>\n",
       "      <td>Drew Daywalt</td>\n",
       "      <td>4.8</td>\n",
       "      <td>8922</td>\n",
       "      <td>9</td>\n",
       "      <td>2014</td>\n",
       "      <td>Fiction</td>\n",
       "    </tr>\n",
       "    <tr>\n",
       "      <th>367</th>\n",
       "      <td>The Fault in Our Stars</td>\n",
       "      <td>John Green</td>\n",
       "      <td>4.7</td>\n",
       "      <td>50482</td>\n",
       "      <td>7</td>\n",
       "      <td>2014</td>\n",
       "      <td>Fiction</td>\n",
       "    </tr>\n",
       "    <tr>\n",
       "      <th>368</th>\n",
       "      <td>The Fault in Our Stars</td>\n",
       "      <td>John Green</td>\n",
       "      <td>4.7</td>\n",
       "      <td>50482</td>\n",
       "      <td>13</td>\n",
       "      <td>2014</td>\n",
       "      <td>Fiction</td>\n",
       "    </tr>\n",
       "    <tr>\n",
       "      <th>393</th>\n",
       "      <td>The Goldfinch: A Novel (Pulitzer Prize for Fic...</td>\n",
       "      <td>Donna Tartt</td>\n",
       "      <td>3.9</td>\n",
       "      <td>33844</td>\n",
       "      <td>20</td>\n",
       "      <td>2014</td>\n",
       "      <td>Fiction</td>\n",
       "    </tr>\n",
       "    <tr>\n",
       "      <th>396</th>\n",
       "      <td>The Great Gatsby</td>\n",
       "      <td>F. Scott Fitzgerald</td>\n",
       "      <td>4.4</td>\n",
       "      <td>11616</td>\n",
       "      <td>7</td>\n",
       "      <td>2014</td>\n",
       "      <td>Fiction</td>\n",
       "    </tr>\n",
       "    <tr>\n",
       "      <th>434</th>\n",
       "      <td>The Maze Runner (Book 1)</td>\n",
       "      <td>James Dashner</td>\n",
       "      <td>4.5</td>\n",
       "      <td>10101</td>\n",
       "      <td>8</td>\n",
       "      <td>2014</td>\n",
       "      <td>Fiction</td>\n",
       "    </tr>\n",
       "    <tr>\n",
       "      <th>443</th>\n",
       "      <td>The Official SAT Study Guide</td>\n",
       "      <td>The College Board</td>\n",
       "      <td>4.4</td>\n",
       "      <td>1201</td>\n",
       "      <td>40</td>\n",
       "      <td>2014</td>\n",
       "      <td>Non Fiction</td>\n",
       "    </tr>\n",
       "    <tr>\n",
       "      <th>477</th>\n",
       "      <td>The Very Hungry Caterpillar</td>\n",
       "      <td>Eric Carle</td>\n",
       "      <td>4.9</td>\n",
       "      <td>19546</td>\n",
       "      <td>5</td>\n",
       "      <td>2014</td>\n",
       "      <td>Fiction</td>\n",
       "    </tr>\n",
       "    <tr>\n",
       "      <th>500</th>\n",
       "      <td>Thug Kitchen: The Official Cookbook: Eat Like ...</td>\n",
       "      <td>Thug Kitchen</td>\n",
       "      <td>4.6</td>\n",
       "      <td>11128</td>\n",
       "      <td>23</td>\n",
       "      <td>2014</td>\n",
       "      <td>Non Fiction</td>\n",
       "    </tr>\n",
       "    <tr>\n",
       "      <th>506</th>\n",
       "      <td>To Kill a Mockingbird</td>\n",
       "      <td>Harper Lee</td>\n",
       "      <td>4.8</td>\n",
       "      <td>26234</td>\n",
       "      <td>0</td>\n",
       "      <td>2014</td>\n",
       "      <td>Fiction</td>\n",
       "    </tr>\n",
       "    <tr>\n",
       "      <th>514</th>\n",
       "      <td>Ultimate Sticker Book: Frozen: More Than 60 Re...</td>\n",
       "      <td>DK</td>\n",
       "      <td>4.5</td>\n",
       "      <td>2586</td>\n",
       "      <td>5</td>\n",
       "      <td>2014</td>\n",
       "      <td>Fiction</td>\n",
       "    </tr>\n",
       "    <tr>\n",
       "      <th>518</th>\n",
       "      <td>Unbroken: A World War II Story of Survival, Re...</td>\n",
       "      <td>Laura Hillenbrand</td>\n",
       "      <td>4.8</td>\n",
       "      <td>29673</td>\n",
       "      <td>13</td>\n",
       "      <td>2014</td>\n",
       "      <td>Non Fiction</td>\n",
       "    </tr>\n",
       "    <tr>\n",
       "      <th>519</th>\n",
       "      <td>Unbroken: A World War II Story of Survival, Re...</td>\n",
       "      <td>Laura Hillenbrand</td>\n",
       "      <td>4.8</td>\n",
       "      <td>29673</td>\n",
       "      <td>16</td>\n",
       "      <td>2014</td>\n",
       "      <td>Non Fiction</td>\n",
       "    </tr>\n",
       "    <tr>\n",
       "      <th>527</th>\n",
       "      <td>What If?: Serious Scientific Answers to Absurd...</td>\n",
       "      <td>Randall Munroe</td>\n",
       "      <td>4.7</td>\n",
       "      <td>9292</td>\n",
       "      <td>17</td>\n",
       "      <td>2014</td>\n",
       "      <td>Non Fiction</td>\n",
       "    </tr>\n",
       "    <tr>\n",
       "      <th>541</th>\n",
       "      <td>Wonder</td>\n",
       "      <td>R. J. Palacio</td>\n",
       "      <td>4.8</td>\n",
       "      <td>21625</td>\n",
       "      <td>9</td>\n",
       "      <td>2014</td>\n",
       "      <td>Fiction</td>\n",
       "    </tr>\n",
       "  </tbody>\n",
       "</table>\n",
       "</div>"
      ],
      "text/plain": [
       "                                                  Name  \\\n",
       "6    A Game of Thrones / A Clash of Kings / A Storm...   \n",
       "20                         All the Light We Cannot See   \n",
       "45                 Capital in the Twenty First Century   \n",
       "70   Diagnostic and Statistical Manual of Mental Di...   \n",
       "73                 Diary of a Wimpy Kid: The Long Haul   \n",
       "76                                           Divergent   \n",
       "77                               Divergent / Insurgent   \n",
       "110                                    First 100 Words   \n",
       "116                        Frozen (Little Golden Book)   \n",
       "137                                          Gone Girl   \n",
       "148  Grain Brain: The Surprising Truth about Wheat,...   \n",
       "166              How to Win Friends & Influence People   \n",
       "173                                 Humans of New York   \n",
       "180                                          If I Stay   \n",
       "190  Jesus Calling: Enjoying Peace in His Presence ...   \n",
       "193                               JOURNEY TO THE ICE P   \n",
       "200  Killing Patton: The Strange Death of World War...   \n",
       "205                         Knock-Knock Jokes for Kids   \n",
       "209                      Laugh-Out-Loud Jokes for Kids   \n",
       "219                                  Little Blue Truck   \n",
       "221                                 Looking for Alaska   \n",
       "223                                   Love You Forever   \n",
       "226        Make It Ahead: A Barefoot Contessa Cookbook   \n",
       "233             Mindset: The New Psychology of Success   \n",
       "247                          Oh, the Places You'll Go!   \n",
       "259                                       Orphan Train   \n",
       "276  Publication Manual of the American Psychologic...   \n",
       "289  Rush Revere and the First Patriots: Time-Trave...   \n",
       "309                                StrengthsFinder 2.0   \n",
       "324  The 5 Love Languages: The Secret to Love That ...   \n",
       "338                                      The Alchemist   \n",
       "343   The Blood of Olympus (The Heroes of Olympus (5))   \n",
       "348                                     The Book Thief   \n",
       "349                          The Book with No Pictures   \n",
       "351  The Boys in the Boat: Nine Americans and Their...   \n",
       "361                           The Day the Crayons Quit   \n",
       "367                             The Fault in Our Stars   \n",
       "368                             The Fault in Our Stars   \n",
       "393  The Goldfinch: A Novel (Pulitzer Prize for Fic...   \n",
       "396                                   The Great Gatsby   \n",
       "434                           The Maze Runner (Book 1)   \n",
       "443                       The Official SAT Study Guide   \n",
       "477                        The Very Hungry Caterpillar   \n",
       "500  Thug Kitchen: The Official Cookbook: Eat Like ...   \n",
       "506                              To Kill a Mockingbird   \n",
       "514  Ultimate Sticker Book: Frozen: More Than 60 Re...   \n",
       "518  Unbroken: A World War II Story of Survival, Re...   \n",
       "519  Unbroken: A World War II Story of Survival, Re...   \n",
       "527  What If?: Serious Scientific Answers to Absurd...   \n",
       "541                                             Wonder   \n",
       "\n",
       "                                 Author  User Rating  Reviews  Price  Year  \\\n",
       "6                   George R. R. Martin          4.7    19735     30  2014   \n",
       "20                        Anthony Doerr          4.6    36348     14  2014   \n",
       "45                       Thomas Piketty          4.5     2884     28  2014   \n",
       "70     American Psychiatric Association          4.5     6679    105  2014   \n",
       "73                          Jeff Kinney          4.8     6540     22  2014   \n",
       "76                        Veronica Roth          4.6    27098     15  2014   \n",
       "77                        Veronica Roth          4.5    17684      6  2014   \n",
       "110                        Roger Priddy          4.7    17323      4  2014   \n",
       "116                           RH Disney          4.7     3642      0  2014   \n",
       "137                       Gillian Flynn          4.0    57271      9  2014   \n",
       "148                 David Perlmutter MD          4.6     5972     10  2014   \n",
       "166                       Dale Carnegie          4.7    25001     11  2014   \n",
       "173                     Brandon Stanton          4.8     3490     15  2014   \n",
       "180                        Gayle Forman          4.3     7153      9  2014   \n",
       "190                         Sarah Young          4.9    19576      8  2014   \n",
       "193                           RH Disney          4.6      978      0  2014   \n",
       "200                       Bill O'Reilly          4.6    10927      6  2014   \n",
       "205                         Rob Elliott          4.5     3673      4  2014   \n",
       "209                         Rob Elliott          4.6     6990      4  2014   \n",
       "219                      Alice Schertle          4.9     1884      0  2014   \n",
       "221                          John Green          4.5     8491      7  2014   \n",
       "223                       Robert Munsch          4.8    18613      5  2014   \n",
       "226                          Ina Garten          4.5     1386     20  2014   \n",
       "233                      Carol S. Dweck          4.6     5542     10  2014   \n",
       "247                           Dr. Seuss          4.9    21834      8  2014   \n",
       "259               Christina Baker Kline          4.6    21930     11  2014   \n",
       "276  American Psychological Association          4.5     8580     46  2014   \n",
       "289                       Rush Limbaugh          4.9     3836     12  2014   \n",
       "309                              Gallup          4.0     5069     17  2014   \n",
       "324                        Gary Chapman          4.7     3477     28  2014   \n",
       "338                        Paulo Coelho          4.7    35799     39  2014   \n",
       "343                        Rick Riordan          4.8     6600     11  2014   \n",
       "348                        Markus Zusak          4.6    23148      6  2014   \n",
       "349                         B. J. Novak          4.8     8081      8  2014   \n",
       "351                  Daniel James Brown          4.8    23358     12  2014   \n",
       "361                        Drew Daywalt          4.8     8922      9  2014   \n",
       "367                          John Green          4.7    50482      7  2014   \n",
       "368                          John Green          4.7    50482     13  2014   \n",
       "393                         Donna Tartt          3.9    33844     20  2014   \n",
       "396                 F. Scott Fitzgerald          4.4    11616      7  2014   \n",
       "434                       James Dashner          4.5    10101      8  2014   \n",
       "443                   The College Board          4.4     1201     40  2014   \n",
       "477                          Eric Carle          4.9    19546      5  2014   \n",
       "500                        Thug Kitchen          4.6    11128     23  2014   \n",
       "506                          Harper Lee          4.8    26234      0  2014   \n",
       "514                                  DK          4.5     2586      5  2014   \n",
       "518                   Laura Hillenbrand          4.8    29673     13  2014   \n",
       "519                   Laura Hillenbrand          4.8    29673     16  2014   \n",
       "527                      Randall Munroe          4.7     9292     17  2014   \n",
       "541                       R. J. Palacio          4.8    21625      9  2014   \n",
       "\n",
       "           Genre  \n",
       "6        Fiction  \n",
       "20       Fiction  \n",
       "45   Non Fiction  \n",
       "70   Non Fiction  \n",
       "73       Fiction  \n",
       "76       Fiction  \n",
       "77       Fiction  \n",
       "110  Non Fiction  \n",
       "116      Fiction  \n",
       "137      Fiction  \n",
       "148  Non Fiction  \n",
       "166  Non Fiction  \n",
       "173  Non Fiction  \n",
       "180      Fiction  \n",
       "190  Non Fiction  \n",
       "193      Fiction  \n",
       "200  Non Fiction  \n",
       "205  Non Fiction  \n",
       "209  Non Fiction  \n",
       "219      Fiction  \n",
       "221      Fiction  \n",
       "223      Fiction  \n",
       "226  Non Fiction  \n",
       "233  Non Fiction  \n",
       "247      Fiction  \n",
       "259      Fiction  \n",
       "276  Non Fiction  \n",
       "289      Fiction  \n",
       "309  Non Fiction  \n",
       "324  Non Fiction  \n",
       "338      Fiction  \n",
       "343      Fiction  \n",
       "348      Fiction  \n",
       "349      Fiction  \n",
       "351  Non Fiction  \n",
       "361      Fiction  \n",
       "367      Fiction  \n",
       "368      Fiction  \n",
       "393      Fiction  \n",
       "396      Fiction  \n",
       "434      Fiction  \n",
       "443  Non Fiction  \n",
       "477      Fiction  \n",
       "500  Non Fiction  \n",
       "506      Fiction  \n",
       "514      Fiction  \n",
       "518  Non Fiction  \n",
       "519  Non Fiction  \n",
       "527  Non Fiction  \n",
       "541      Fiction  "
      ]
     },
     "execution_count": 159,
     "metadata": {},
     "output_type": "execute_result"
    }
   ],
   "source": [
    "df[df['Year']==2014]"
   ]
  },
  {
   "cell_type": "markdown",
   "id": "2ce828da-7127-4d8e-8f12-e1ce3117272c",
   "metadata": {},
   "source": [
    "we observe that a higher proportion of the books in the bestselling list each year is non-fiction with 2014 being the exception. Based on genre and the year's variable, In the eleven-year period that the dataset covers, more non-fiction books are present in the Amazon bestseller list than fiction books.\n"
   ]
  },
  {
   "cell_type": "markdown",
   "id": "eb6ee842-a16f-48b2-812b-42b1e1b15a0e",
   "metadata": {},
   "source": [
    "### 3.7 Genre over the years "
   ]
  },
  {
   "cell_type": "code",
   "execution_count": 17,
   "id": "fe55bbd3",
   "metadata": {},
   "outputs": [
    {
     "data": {
      "text/plain": [
       "Text(0, 0.5, 'Average User Rating')"
      ]
     },
     "execution_count": 17,
     "metadata": {},
     "output_type": "execute_result"
    },
    {
     "data": {
      "image/png": "[encoded data removed]",
      "text/plain": [
       "<Figure size 432x288 with 1 Axes>"
      ]
     },
     "metadata": {
      "needs_background": "light"
     },
     "output_type": "display_data"
    }
   ],
   "source": [
    "df1 = df.groupby(['Year', 'Genre']).agg(mean_ratings=(\"User Rating\", 'mean'))\n",
    "df1 = df1.reset_index()\n",
    "  \n",
    "plot3 = sns.lineplot(x=\"Year\",\n",
    "           y=\"mean_ratings\",\n",
    "           hue=\"Genre\",\n",
    "           data=df1)\n",
    "plot3.set_title('Average User Rating by Genre over the Years',fontsize=16)\n",
    "plot3.set_xlabel('Year',fontsize=12)\n",
    "plot3.set_ylabel('Average User Rating',fontsize=12)"
   ]
  },
  {
   "cell_type": "markdown",
   "id": "905a17f7-8975-494f-8f2a-a845ec6803f3",
   "metadata": {},
   "source": [
    "There is a slight positive increase in User Ratings over the years. "
   ]
  },
  {
   "cell_type": "markdown",
   "id": "222b6dac-d420-4873-a4c1-10ed9f4b8a6f",
   "metadata": {},
   "source": [
    "### 3.8 Average User Reviews by Genre over the Years"
   ]
  },
  {
   "cell_type": "code",
   "execution_count": 18,
   "id": "630bd23e",
   "metadata": {},
   "outputs": [
    {
     "data": {
      "text/plain": [
       "Text(0, 0.5, 'Average User Reviews')"
      ]
     },
     "execution_count": 18,
     "metadata": {},
     "output_type": "execute_result"
    },
    {
     "data": {
      "image/png": "[encoded data removed]",
      "text/plain": [
       "<Figure size 432x288 with 1 Axes>"
      ]
     },
     "metadata": {
      "needs_background": "light"
     },
     "output_type": "display_data"
    }
   ],
   "source": [
    "df2 = df.groupby(['Year', 'Genre']).agg(mean_reviews=(\"Reviews\", 'mean'))\n",
    "df2 = df2.reset_index()\n",
    "\n",
    "plot3 = sns.barplot(x=\"Year\",\n",
    "           y=\"mean_reviews\",\n",
    "           hue=\"Genre\",\n",
    "           data=df2)\n",
    "plot3.set_title('Average User Reviews by Genre over the Years',fontsize=16)\n",
    "plot3.set_xlabel('Year',fontsize=12)\n",
    "plot3.set_ylabel('Average User Reviews',fontsize=12)"
   ]
  },
  {
   "cell_type": "markdown",
   "id": "bb8937a1-5ac3-492b-b6c8-81891eed0acd",
   "metadata": {},
   "source": [
    "the data indicates an increasing trend in the number of average reviews over the years with fiction books getting significantly more reviews than non-fiction books except in 2018. The correlation analysis also indicates a weak, negative relationship between number of reviews and price.\n"
   ]
  },
  {
   "cell_type": "markdown",
   "id": "a403da66-0ac1-49cf-8f66-4c215d52ed98",
   "metadata": {},
   "source": [
    "### 3.9 price ranges for both genres"
   ]
  },
  {
   "cell_type": "code",
   "execution_count": 84,
   "id": "4bc0b2b4",
   "metadata": {},
   "outputs": [
    {
     "data": {
      "text/plain": [
       "<Figure size 1440x720 with 0 Axes>"
      ]
     },
     "metadata": {},
     "output_type": "display_data"
    },
    {
     "data": {
      "image/png": "[encoded data removed]",
      "text/plain": [
       "<Figure size 451.5x360 with 1 Axes>"
      ]
     },
     "metadata": {
      "needs_background": "light"
     },
     "output_type": "display_data"
    }
   ],
   "source": [
    "df1 = df.groupby(['Year', 'Genre']).agg(mean_price=(\"Price\", 'mean'))\n",
    "df1 = df1.reset_index()\n",
    "  \n",
    "plot3 = sns.lmplot(x=\"Year\",\n",
    "           y=\"mean_price\",\n",
    "           hue=\"Genre\",\n",
    "           data=df1)\n",
    "#plot3.set_title('Average Price by Genre over the Years',fontsize=16)\n",
    "#plot3.set_xlabel('Year',fontsize=12)\n",
    "#plot3.set_ylabel('Average Price',fontsize=12)"
   ]
  },
  {
   "cell_type": "markdown",
   "id": "b3cfee98-879d-44ee-b7e8-33f248dc0428",
   "metadata": {},
   "source": [
    "The range of books in the bestseller list is $0 to $105 with an average price of $13.10. Analysis of the data indicates that non-fiction books are more expensive than fiction books. However, the prices of fiction and nonfiction books decreased over the time frame. This could be explained by the introduction of the cheaper ebooks into the market. \n"
   ]
  },
  {
   "cell_type": "markdown",
   "id": "40b06c3d-06be-49b8-bbd0-055b51a98ec9",
   "metadata": {},
   "source": [
    "### 3.10 books with the highest number of reviews"
   ]
  },
  {
   "cell_type": "code",
   "execution_count": 31,
   "id": "0ae4f400",
   "metadata": {},
   "outputs": [
    {
     "data": {
      "application/vnd.plotly.v1+json": {
       "config": {
        "plotlyServerURL": "https://plot.ly"
       },
       "data": [
        {
         "cells": {
          "values": [
           [
            "Where the Crawdads Sing",
            "The Girl on the Train",
            "Becoming",
            "Gone Girl",
            "The Fault in Our Stars",
            "The Nightingale: A Novel",
            "Fifty Shades of Grey: Book One of the Fifty Shades Trilogy (Fifty Shades of Grey Series)",
            "The Martian",
            "All the Light We Cannot See",
            "The Alchemist"
           ],
           [
            87841,
            79446,
            61133,
            57271,
            50482,
            49288,
            47265,
            39459,
            36348,
            35799
           ],
           [
            2019,
            2016,
            2019,
            2014,
            2014,
            2016,
            2013,
            2015,
            2015,
            2014
           ],
           [
            "Fiction",
            "Fiction",
            "Non Fiction",
            "Fiction",
            "Fiction",
            "Fiction",
            "Fiction",
            "Fiction",
            "Fiction",
            "Fiction"
           ]
          ]
         },
         "header": {
          "values": [
           "Book",
           "Number of Reviews",
           "Year",
           "Genre"
          ]
         },
         "type": "table"
        }
       ],
       "layout": {
        "autosize": true,
        "template": {
         "data": {
          "bar": [
           {
            "error_x": {
             "color": "#2a3f5f"
            },
            "error_y": {
             "color": "#2a3f5f"
            },
            "marker": {
             "line": {
              "color": "#E5ECF6",
              "width": 0.5
             },
             "pattern": {
              "fillmode": "overlay",
              "size": 10,
              "solidity": 0.2
             }
            },
            "type": "bar"
           }
          ],
          "barpolar": [
           {
            "marker": {
             "line": {
              "color": "#E5ECF6",
              "width": 0.5
             },
             "pattern": {
              "fillmode": "overlay",
              "size": 10,
              "solidity": 0.2
             }
            },
            "type": "barpolar"
           }
          ],
          "carpet": [
           {
            "aaxis": {
             "endlinecolor": "#2a3f5f",
             "gridcolor": "white",
             "linecolor": "white",
             "minorgridcolor": "white",
             "startlinecolor": "#2a3f5f"
            },
            "baxis": {
             "endlinecolor": "#2a3f5f",
             "gridcolor": "white",
             "linecolor": "white",
             "minorgridcolor": "white",
             "startlinecolor": "#2a3f5f"
            },
            "type": "carpet"
           }
          ],
          "choropleth": [
           {
            "colorbar": {
             "outlinewidth": 0,
             "ticks": ""
            },
            "type": "choropleth"
           }
          ],
          "contour": [
           {
            "colorbar": {
             "outlinewidth": 0,
             "ticks": ""
            },
            "colorscale": [
             [
              0,
              "#0d0887"
             ],
             [
              0.1111111111111111,
              "#46039f"
             ],
             [
              0.2222222222222222,
              "#7201a8"
             ],
             [
              0.3333333333333333,
              "#9c179e"
             ],
             [
              0.4444444444444444,
              "#bd3786"
             ],
             [
              0.5555555555555556,
              "#d8576b"
             ],
             [
              0.6666666666666666,
              "#ed7953"
             ],
             [
              0.7777777777777778,
              "#fb9f3a"
             ],
             [
              0.8888888888888888,
              "#fdca26"
             ],
             [
              1,
              "#f0f921"
             ]
            ],
            "type": "contour"
           }
          ],
          "contourcarpet": [
           {
            "colorbar": {
             "outlinewidth": 0,
             "ticks": ""
            },
            "type": "contourcarpet"
           }
          ],
          "heatmap": [
           {
            "colorbar": {
             "outlinewidth": 0,
             "ticks": ""
            },
            "colorscale": [
             [
              0,
              "#0d0887"
             ],
             [
              0.1111111111111111,
              "#46039f"
             ],
             [
              0.2222222222222222,
              "#7201a8"
             ],
             [
              0.3333333333333333,
              "#9c179e"
             ],
             [
              0.4444444444444444,
              "#bd3786"
             ],
             [
              0.5555555555555556,
              "#d8576b"
             ],
             [
              0.6666666666666666,
              "#ed7953"
             ],
             [
              0.7777777777777778,
              "#fb9f3a"
             ],
             [
              0.8888888888888888,
              "#fdca26"
             ],
             [
              1,
              "#f0f921"
             ]
            ],
            "type": "heatmap"
           }
          ],
          "heatmapgl": [
           {
            "colorbar": {
             "outlinewidth": 0,
             "ticks": ""
            },
            "colorscale": [
             [
              0,
              "#0d0887"
             ],
             [
              0.1111111111111111,
              "#46039f"
             ],
             [
              0.2222222222222222,
              "#7201a8"
             ],
             [
              0.3333333333333333,
              "#9c179e"
             ],
             [
              0.4444444444444444,
              "#bd3786"
             ],
             [
              0.5555555555555556,
              "#d8576b"
             ],
             [
              0.6666666666666666,
              "#ed7953"
             ],
             [
              0.7777777777777778,
              "#fb9f3a"
             ],
             [
              0.8888888888888888,
              "#fdca26"
             ],
             [
              1,
              "#f0f921"
             ]
            ],
            "type": "heatmapgl"
           }
          ],
          "histogram": [
           {
            "marker": {
             "pattern": {
              "fillmode": "overlay",
              "size": 10,
              "solidity": 0.2
             }
            },
            "type": "histogram"
           }
          ],
          "histogram2d": [
           {
            "colorbar": {
             "outlinewidth": 0,
             "ticks": ""
            },
            "colorscale": [
             [
              0,
              "#0d0887"
             ],
             [
              0.1111111111111111,
              "#46039f"
             ],
             [
              0.2222222222222222,
              "#7201a8"
             ],
             [
              0.3333333333333333,
              "#9c179e"
             ],
             [
              0.4444444444444444,
              "#bd3786"
             ],
             [
              0.5555555555555556,
              "#d8576b"
             ],
             [
              0.6666666666666666,
              "#ed7953"
             ],
             [
              0.7777777777777778,
              "#fb9f3a"
             ],
             [
              0.8888888888888888,
              "#fdca26"
             ],
             [
              1,
              "#f0f921"
             ]
            ],
            "type": "histogram2d"
           }
          ],
          "histogram2dcontour": [
           {
            "colorbar": {
             "outlinewidth": 0,
             "ticks": ""
            },
            "colorscale": [
             [
              0,
              "#0d0887"
             ],
             [
              0.1111111111111111,
              "#46039f"
             ],
             [
              0.2222222222222222,
              "#7201a8"
             ],
             [
              0.3333333333333333,
              "#9c179e"
             ],
             [
              0.4444444444444444,
              "#bd3786"
             ],
             [
              0.5555555555555556,
              "#d8576b"
             ],
             [
              0.6666666666666666,
              "#ed7953"
             ],
             [
              0.7777777777777778,
              "#fb9f3a"
             ],
             [
              0.8888888888888888,
              "#fdca26"
             ],
             [
              1,
              "#f0f921"
             ]
            ],
            "type": "histogram2dcontour"
           }
          ],
          "mesh3d": [
           {
            "colorbar": {
             "outlinewidth": 0,
             "ticks": ""
            },
            "type": "mesh3d"
           }
          ],
          "parcoords": [
           {
            "line": {
             "colorbar": {
              "outlinewidth": 0,
              "ticks": ""
             }
            },
            "type": "parcoords"
           }
          ],
          "pie": [
           {
            "automargin": true,
            "type": "pie"
           }
          ],
          "scatter": [
           {
            "fillpattern": {
             "fillmode": "overlay",
             "size": 10,
             "solidity": 0.2
            },
            "type": "scatter"
           }
          ],
          "scatter3d": [
           {
            "line": {
             "colorbar": {
              "outlinewidth": 0,
              "ticks": ""
             }
            },
            "marker": {
             "colorbar": {
              "outlinewidth": 0,
              "ticks": ""
             }
            },
            "type": "scatter3d"
           }
          ],
          "scattercarpet": [
           {
            "marker": {
             "colorbar": {
              "outlinewidth": 0,
              "ticks": ""
             }
            },
            "type": "scattercarpet"
           }
          ],
          "scattergeo": [
           {
            "marker": {
             "colorbar": {
              "outlinewidth": 0,
              "ticks": ""
             }
            },
            "type": "scattergeo"
           }
          ],
          "scattergl": [
           {
            "marker": {
             "colorbar": {
              "outlinewidth": 0,
              "ticks": ""
             }
            },
            "type": "scattergl"
           }
          ],
          "scattermapbox": [
           {
            "marker": {
             "colorbar": {
              "outlinewidth": 0,
              "ticks": ""
             }
            },
            "type": "scattermapbox"
           }
          ],
          "scatterpolar": [
           {
            "marker": {
             "colorbar": {
              "outlinewidth": 0,
              "ticks": ""
             }
            },
            "type": "scatterpolar"
           }
          ],
          "scatterpolargl": [
           {
            "marker": {
             "colorbar": {
              "outlinewidth": 0,
              "ticks": ""
             }
            },
            "type": "scatterpolargl"
           }
          ],
          "scatterternary": [
           {
            "marker": {
             "colorbar": {
              "outlinewidth": 0,
              "ticks": ""
             }
            },
            "type": "scatterternary"
           }
          ],
          "surface": [
           {
            "colorbar": {
             "outlinewidth": 0,
             "ticks": ""
            },
            "colorscale": [
             [
              0,
              "#0d0887"
             ],
             [
              0.1111111111111111,
              "#46039f"
             ],
             [
              0.2222222222222222,
              "#7201a8"
             ],
             [
              0.3333333333333333,
              "#9c179e"
             ],
             [
              0.4444444444444444,
              "#bd3786"
             ],
             [
              0.5555555555555556,
              "#d8576b"
             ],
             [
              0.6666666666666666,
              "#ed7953"
             ],
             [
              0.7777777777777778,
              "#fb9f3a"
             ],
             [
              0.8888888888888888,
              "#fdca26"
             ],
             [
              1,
              "#f0f921"
             ]
            ],
            "type": "surface"
           }
          ],
          "table": [
           {
            "cells": {
             "fill": {
              "color": "#EBF0F8"
             },
             "line": {
              "color": "white"
             }
            },
            "header": {
             "fill": {
              "color": "#C8D4E3"
             },
             "line": {
              "color": "white"
             }
            },
            "type": "table"
           }
          ]
         },
         "layout": {
          "annotationdefaults": {
           "arrowcolor": "#2a3f5f",
           "arrowhead": 0,
           "arrowwidth": 1
          },
          "autotypenumbers": "strict",
          "coloraxis": {
           "colorbar": {
            "outlinewidth": 0,
            "ticks": ""
           }
          },
          "colorscale": {
           "diverging": [
            [
             0,
             "#8e0152"
            ],
            [
             0.1,
             "#c51b7d"
            ],
            [
             0.2,
             "#de77ae"
            ],
            [
             0.3,
             "#f1b6da"
            ],
            [
             0.4,
             "#fde0ef"
            ],
            [
             0.5,
             "#f7f7f7"
            ],
            [
             0.6,
             "#e6f5d0"
            ],
            [
             0.7,
             "#b8e186"
            ],
            [
             0.8,
             "#7fbc41"
            ],
            [
             0.9,
             "#4d9221"
            ],
            [
             1,
             "#276419"
            ]
           ],
           "sequential": [
            [
             0,
             "#0d0887"
            ],
            [
             0.1111111111111111,
             "#46039f"
            ],
            [
             0.2222222222222222,
             "#7201a8"
            ],
            [
             0.3333333333333333,
             "#9c179e"
            ],
            [
             0.4444444444444444,
             "#bd3786"
            ],
            [
             0.5555555555555556,
             "#d8576b"
            ],
            [
             0.6666666666666666,
             "#ed7953"
            ],
            [
             0.7777777777777778,
             "#fb9f3a"
            ],
            [
             0.8888888888888888,
             "#fdca26"
            ],
            [
             1,
             "#f0f921"
            ]
           ],
           "sequentialminus": [
            [
             0,
             "#0d0887"
            ],
            [
             0.1111111111111111,
             "#46039f"
            ],
            [
             0.2222222222222222,
             "#7201a8"
            ],
            [
             0.3333333333333333,
             "#9c179e"
            ],
            [
             0.4444444444444444,
             "#bd3786"
            ],
            [
             0.5555555555555556,
             "#d8576b"
            ],
            [
             0.6666666666666666,
             "#ed7953"
            ],
            [
             0.7777777777777778,
             "#fb9f3a"
            ],
            [
             0.8888888888888888,
             "#fdca26"
            ],
            [
             1,
             "#f0f921"
            ]
           ]
          },
          "colorway": [
           "#636efa",
           "#EF553B",
           "#00cc96",
           "#ab63fa",
           "#FFA15A",
           "#19d3f3",
           "#FF6692",
           "#B6E880",
           "#FF97FF",
           "#FECB52"
          ],
          "font": {
           "color": "#2a3f5f"
          },
          "geo": {
           "bgcolor": "white",
           "lakecolor": "white",
           "landcolor": "#E5ECF6",
           "showlakes": true,
           "showland": true,
           "subunitcolor": "white"
          },
          "hoverlabel": {
           "align": "left"
          },
          "hovermode": "closest",
          "mapbox": {
           "style": "light"
          },
          "paper_bgcolor": "white",
          "plot_bgcolor": "#E5ECF6",
          "polar": {
           "angularaxis": {
            "gridcolor": "white",
            "linecolor": "white",
            "ticks": ""
           },
           "bgcolor": "#E5ECF6",
           "radialaxis": {
            "gridcolor": "white",
            "linecolor": "white",
            "ticks": ""
           }
          },
          "scene": {
           "xaxis": {
            "backgroundcolor": "#E5ECF6",
            "gridcolor": "white",
            "gridwidth": 2,
            "linecolor": "white",
            "showbackground": true,
            "ticks": "",
            "zerolinecolor": "white"
           },
           "yaxis": {
            "backgroundcolor": "#E5ECF6",
            "gridcolor": "white",
            "gridwidth": 2,
            "linecolor": "white",
            "showbackground": true,
            "ticks": "",
            "zerolinecolor": "white"
           },
           "zaxis": {
            "backgroundcolor": "#E5ECF6",
            "gridcolor": "white",
            "gridwidth": 2,
            "linecolor": "white",
            "showbackground": true,
            "ticks": "",
            "zerolinecolor": "white"
           }
          },
          "shapedefaults": {
           "line": {
            "color": "#2a3f5f"
           }
          },
          "ternary": {
           "aaxis": {
            "gridcolor": "white",
            "linecolor": "white",
            "ticks": ""
           },
           "baxis": {
            "gridcolor": "white",
            "linecolor": "white",
            "ticks": ""
           },
           "bgcolor": "#E5ECF6",
           "caxis": {
            "gridcolor": "white",
            "linecolor": "white",
            "ticks": ""
           }
          },
          "title": {
           "x": 0.05
          },
          "xaxis": {
           "automargin": true,
           "gridcolor": "white",
           "linecolor": "white",
           "ticks": "",
           "title": {
            "standoff": 15
           },
           "zerolinecolor": "white",
           "zerolinewidth": 2
          },
          "yaxis": {
           "automargin": true,
           "gridcolor": "white",
           "linecolor": "white",
           "ticks": "",
           "title": {
            "standoff": 15
           },
           "zerolinecolor": "white",
           "zerolinewidth": 2
          }
         }
        }
       }
      },
      "text/html": [
       "<div>                            <div id=\"c4b331e8-8217-43ab-9ddb-219820b1e57a\" class=\"plotly-graph-div\" style=\"height:525px; width:100%;\"></div>            <script type=\"text/javascript\">                require([\"plotly\"], function(Plotly) {                    window.PLOTLYENV=window.PLOTLYENV || {};                                    if (document.getElementById(\"c4b331e8-8217-43ab-9ddb-219820b1e57a\")) {                    Plotly.newPlot(                        \"c4b331e8-8217-43ab-9ddb-219820b1e57a\",                        [{\"cells\":{\"values\":[[\"Where the Crawdads Sing\",\"The Girl on the Train\",\"Becoming\",\"Gone Girl\",\"The Fault in Our Stars\",\"The Nightingale: A Novel\",\"Fifty Shades of Grey: Book One of the Fifty Shades Trilogy (Fifty Shades of Grey Series)\",\"The Martian\",\"All the Light We Cannot See\",\"The Alchemist\"],[87841,79446,61133,57271,50482,49288,47265,39459,36348,35799],[2019,2016,2019,2014,2014,2016,2013,2015,2015,2014],[\"Fiction\",\"Fiction\",\"Non Fiction\",\"Fiction\",\"Fiction\",\"Fiction\",\"Fiction\",\"Fiction\",\"Fiction\",\"Fiction\"]]},\"header\":{\"values\":[\"Book\",\"Number of Reviews\",\"Year\",\"Genre\"]},\"type\":\"table\"}],                        {\"template\":{\"data\":{\"histogram2dcontour\":[{\"type\":\"histogram2dcontour\",\"colorbar\":{\"outlinewidth\":0,\"ticks\":\"\"},\"colorscale\":[[0.0,\"#0d0887\"],[0.1111111111111111,\"#46039f\"],[0.2222222222222222,\"#7201a8\"],[0.3333333333333333,\"#9c179e\"],[0.4444444444444444,\"#bd3786\"],[0.5555555555555556,\"#d8576b\"],[0.6666666666666666,\"#ed7953\"],[0.7777777777777778,\"#fb9f3a\"],[0.8888888888888888,\"#fdca26\"],[1.0,\"#f0f921\"]]}],\"choropleth\":[{\"type\":\"choropleth\",\"colorbar\":{\"outlinewidth\":0,\"ticks\":\"\"}}],\"histogram2d\":[{\"type\":\"histogram2d\",\"colorbar\":{\"outlinewidth\":0,\"ticks\":\"\"},\"colorscale\":[[0.0,\"#0d0887\"],[0.1111111111111111,\"#46039f\"],[0.2222222222222222,\"#7201a8\"],[0.3333333333333333,\"#9c179e\"],[0.4444444444444444,\"#bd3786\"],[0.5555555555555556,\"#d8576b\"],[0.6666666666666666,\"#ed7953\"],[0.7777777777777778,\"#fb9f3a\"],[0.8888888888888888,\"#fdca26\"],[1.0,\"#f0f921\"]]}],\"heatmap\":[{\"type\":\"heatmap\",\"colorbar\":{\"outlinewidth\":0,\"ticks\":\"\"},\"colorscale\":[[0.0,\"#0d0887\"],[0.1111111111111111,\"#46039f\"],[0.2222222222222222,\"#7201a8\"],[0.3333333333333333,\"#9c179e\"],[0.4444444444444444,\"#bd3786\"],[0.5555555555555556,\"#d8576b\"],[0.6666666666666666,\"#ed7953\"],[0.7777777777777778,\"#fb9f3a\"],[0.8888888888888888,\"#fdca26\"],[1.0,\"#f0f921\"]]}],\"heatmapgl\":[{\"type\":\"heatmapgl\",\"colorbar\":{\"outlinewidth\":0,\"ticks\":\"\"},\"colorscale\":[[0.0,\"#0d0887\"],[0.1111111111111111,\"#46039f\"],[0.2222222222222222,\"#7201a8\"],[0.3333333333333333,\"#9c179e\"],[0.4444444444444444,\"#bd3786\"],[0.5555555555555556,\"#d8576b\"],[0.6666666666666666,\"#ed7953\"],[0.7777777777777778,\"#fb9f3a\"],[0.8888888888888888,\"#fdca26\"],[1.0,\"#f0f921\"]]}],\"contourcarpet\":[{\"type\":\"contourcarpet\",\"colorbar\":{\"outlinewidth\":0,\"ticks\":\"\"}}],\"contour\":[{\"type\":\"contour\",\"colorbar\":{\"outlinewidth\":0,\"ticks\":\"\"},\"colorscale\":[[0.0,\"#0d0887\"],[0.1111111111111111,\"#46039f\"],[0.2222222222222222,\"#7201a8\"],[0.3333333333333333,\"#9c179e\"],[0.4444444444444444,\"#bd3786\"],[0.5555555555555556,\"#d8576b\"],[0.6666666666666666,\"#ed7953\"],[0.7777777777777778,\"#fb9f3a\"],[0.8888888888888888,\"#fdca26\"],[1.0,\"#f0f921\"]]}],\"surface\":[{\"type\":\"surface\",\"colorbar\":{\"outlinewidth\":0,\"ticks\":\"\"},\"colorscale\":[[0.0,\"#0d0887\"],[0.1111111111111111,\"#46039f\"],[0.2222222222222222,\"#7201a8\"],[0.3333333333333333,\"#9c179e\"],[0.4444444444444444,\"#bd3786\"],[0.5555555555555556,\"#d8576b\"],[0.6666666666666666,\"#ed7953\"],[0.7777777777777778,\"#fb9f3a\"],[0.8888888888888888,\"#fdca26\"],[1.0,\"#f0f921\"]]}],\"mesh3d\":[{\"type\":\"mesh3d\",\"colorbar\":{\"outlinewidth\":0,\"ticks\":\"\"}}],\"scatter\":[{\"fillpattern\":{\"fillmode\":\"overlay\",\"size\":10,\"solidity\":0.2},\"type\":\"scatter\"}],\"parcoords\":[{\"type\":\"parcoords\",\"line\":{\"colorbar\":{\"outlinewidth\":0,\"ticks\":\"\"}}}],\"scatterpolargl\":[{\"type\":\"scatterpolargl\",\"marker\":{\"colorbar\":{\"outlinewidth\":0,\"ticks\":\"\"}}}],\"bar\":[{\"error_x\":{\"color\":\"#2a3f5f\"},\"error_y\":{\"color\":\"#2a3f5f\"},\"marker\":{\"line\":{\"color\":\"#E5ECF6\",\"width\":0.5},\"pattern\":{\"fillmode\":\"overlay\",\"size\":10,\"solidity\":0.2}},\"type\":\"bar\"}],\"scattergeo\":[{\"type\":\"scattergeo\",\"marker\":{\"colorbar\":{\"outlinewidth\":0,\"ticks\":\"\"}}}],\"scatterpolar\":[{\"type\":\"scatterpolar\",\"marker\":{\"colorbar\":{\"outlinewidth\":0,\"ticks\":\"\"}}}],\"histogram\":[{\"marker\":{\"pattern\":{\"fillmode\":\"overlay\",\"size\":10,\"solidity\":0.2}},\"type\":\"histogram\"}],\"scattergl\":[{\"type\":\"scattergl\",\"marker\":{\"colorbar\":{\"outlinewidth\":0,\"ticks\":\"\"}}}],\"scatter3d\":[{\"type\":\"scatter3d\",\"line\":{\"colorbar\":{\"outlinewidth\":0,\"ticks\":\"\"}},\"marker\":{\"colorbar\":{\"outlinewidth\":0,\"ticks\":\"\"}}}],\"scattermapbox\":[{\"type\":\"scattermapbox\",\"marker\":{\"colorbar\":{\"outlinewidth\":0,\"ticks\":\"\"}}}],\"scatterternary\":[{\"type\":\"scatterternary\",\"marker\":{\"colorbar\":{\"outlinewidth\":0,\"ticks\":\"\"}}}],\"scattercarpet\":[{\"type\":\"scattercarpet\",\"marker\":{\"colorbar\":{\"outlinewidth\":0,\"ticks\":\"\"}}}],\"carpet\":[{\"aaxis\":{\"endlinecolor\":\"#2a3f5f\",\"gridcolor\":\"white\",\"linecolor\":\"white\",\"minorgridcolor\":\"white\",\"startlinecolor\":\"#2a3f5f\"},\"baxis\":{\"endlinecolor\":\"#2a3f5f\",\"gridcolor\":\"white\",\"linecolor\":\"white\",\"minorgridcolor\":\"white\",\"startlinecolor\":\"#2a3f5f\"},\"type\":\"carpet\"}],\"table\":[{\"cells\":{\"fill\":{\"color\":\"#EBF0F8\"},\"line\":{\"color\":\"white\"}},\"header\":{\"fill\":{\"color\":\"#C8D4E3\"},\"line\":{\"color\":\"white\"}},\"type\":\"table\"}],\"barpolar\":[{\"marker\":{\"line\":{\"color\":\"#E5ECF6\",\"width\":0.5},\"pattern\":{\"fillmode\":\"overlay\",\"size\":10,\"solidity\":0.2}},\"type\":\"barpolar\"}],\"pie\":[{\"automargin\":true,\"type\":\"pie\"}]},\"layout\":{\"autotypenumbers\":\"strict\",\"colorway\":[\"#636efa\",\"#EF553B\",\"#00cc96\",\"#ab63fa\",\"#FFA15A\",\"#19d3f3\",\"#FF6692\",\"#B6E880\",\"#FF97FF\",\"#FECB52\"],\"font\":{\"color\":\"#2a3f5f\"},\"hovermode\":\"closest\",\"hoverlabel\":{\"align\":\"left\"},\"paper_bgcolor\":\"white\",\"plot_bgcolor\":\"#E5ECF6\",\"polar\":{\"bgcolor\":\"#E5ECF6\",\"angularaxis\":{\"gridcolor\":\"white\",\"linecolor\":\"white\",\"ticks\":\"\"},\"radialaxis\":{\"gridcolor\":\"white\",\"linecolor\":\"white\",\"ticks\":\"\"}},\"ternary\":{\"bgcolor\":\"#E5ECF6\",\"aaxis\":{\"gridcolor\":\"white\",\"linecolor\":\"white\",\"ticks\":\"\"},\"baxis\":{\"gridcolor\":\"white\",\"linecolor\":\"white\",\"ticks\":\"\"},\"caxis\":{\"gridcolor\":\"white\",\"linecolor\":\"white\",\"ticks\":\"\"}},\"coloraxis\":{\"colorbar\":{\"outlinewidth\":0,\"ticks\":\"\"}},\"colorscale\":{\"sequential\":[[0.0,\"#0d0887\"],[0.1111111111111111,\"#46039f\"],[0.2222222222222222,\"#7201a8\"],[0.3333333333333333,\"#9c179e\"],[0.4444444444444444,\"#bd3786\"],[0.5555555555555556,\"#d8576b\"],[0.6666666666666666,\"#ed7953\"],[0.7777777777777778,\"#fb9f3a\"],[0.8888888888888888,\"#fdca26\"],[1.0,\"#f0f921\"]],\"sequentialminus\":[[0.0,\"#0d0887\"],[0.1111111111111111,\"#46039f\"],[0.2222222222222222,\"#7201a8\"],[0.3333333333333333,\"#9c179e\"],[0.4444444444444444,\"#bd3786\"],[0.5555555555555556,\"#d8576b\"],[0.6666666666666666,\"#ed7953\"],[0.7777777777777778,\"#fb9f3a\"],[0.8888888888888888,\"#fdca26\"],[1.0,\"#f0f921\"]],\"diverging\":[[0,\"#8e0152\"],[0.1,\"#c51b7d\"],[0.2,\"#de77ae\"],[0.3,\"#f1b6da\"],[0.4,\"#fde0ef\"],[0.5,\"#f7f7f7\"],[0.6,\"#e6f5d0\"],[0.7,\"#b8e186\"],[0.8,\"#7fbc41\"],[0.9,\"#4d9221\"],[1,\"#276419\"]]},\"xaxis\":{\"gridcolor\":\"white\",\"linecolor\":\"white\",\"ticks\":\"\",\"title\":{\"standoff\":15},\"zerolinecolor\":\"white\",\"automargin\":true,\"zerolinewidth\":2},\"yaxis\":{\"gridcolor\":\"white\",\"linecolor\":\"white\",\"ticks\":\"\",\"title\":{\"standoff\":15},\"zerolinecolor\":\"white\",\"automargin\":true,\"zerolinewidth\":2},\"scene\":{\"xaxis\":{\"backgroundcolor\":\"#E5ECF6\",\"gridcolor\":\"white\",\"linecolor\":\"white\",\"showbackground\":true,\"ticks\":\"\",\"zerolinecolor\":\"white\",\"gridwidth\":2},\"yaxis\":{\"backgroundcolor\":\"#E5ECF6\",\"gridcolor\":\"white\",\"linecolor\":\"white\",\"showbackground\":true,\"ticks\":\"\",\"zerolinecolor\":\"white\",\"gridwidth\":2},\"zaxis\":{\"backgroundcolor\":\"#E5ECF6\",\"gridcolor\":\"white\",\"linecolor\":\"white\",\"showbackground\":true,\"ticks\":\"\",\"zerolinecolor\":\"white\",\"gridwidth\":2}},\"shapedefaults\":{\"line\":{\"color\":\"#2a3f5f\"}},\"annotationdefaults\":{\"arrowcolor\":\"#2a3f5f\",\"arrowhead\":0,\"arrowwidth\":1},\"geo\":{\"bgcolor\":\"white\",\"landcolor\":\"#E5ECF6\",\"subunitcolor\":\"white\",\"showland\":true,\"showlakes\":true,\"lakecolor\":\"white\"},\"title\":{\"x\":0.05},\"mapbox\":{\"style\":\"light\"}}}},                        {\"responsive\": true}                    ).then(function(){\n",
       "                            \n",
       "var gd = document.getElementById('c4b331e8-8217-43ab-9ddb-219820b1e57a');\n",
       "var x = new MutationObserver(function (mutations, observer) {{\n",
       "        var display = window.getComputedStyle(gd).display;\n",
       "        if (!display || display === 'none') {{\n",
       "            console.log([gd, 'removed!']);\n",
       "            Plotly.purge(gd);\n",
       "            observer.disconnect();\n",
       "        }}\n",
       "}});\n",
       "\n",
       "// Listen for the removal of the full notebook cells\n",
       "var notebookContainer = gd.closest('#notebook-container');\n",
       "if (notebookContainer) {{\n",
       "    x.observe(notebookContainer, {childList: true});\n",
       "}}\n",
       "\n",
       "// Listen for the clearing of the current output cell\n",
       "var outputEl = gd.closest('.output');\n",
       "if (outputEl) {{\n",
       "    x.observe(outputEl, {childList: true});\n",
       "}}\n",
       "\n",
       "                        })                };                });            </script>        </div>"
      ]
     },
     "metadata": {},
     "output_type": "display_data"
    }
   ],
   "source": [
    "df3 = df.sort_values(by=['Reviews','Year'],ascending=[False,True])[:20]\n",
    "df3.drop_duplicates(subset =\"Name\",\n",
    "                     keep = 'last', inplace = True)\n",
    "fig = go.Figure(data=[go.Table(\n",
    "    header=dict(values=['Book', 'Number of Reviews','Year','Genre']),\n",
    "    cells=dict(values=[df3.Name,\n",
    "                       df3.Reviews,\n",
    "                       df3.Year,\n",
    "                       df3.Genre])\n",
    ")])\n",
    "fig.show()"
   ]
  },
  {
   "cell_type": "markdown",
   "id": "cb524441-e8d8-4c5a-817f-d31c903bec82",
   "metadata": {},
   "source": [
    "### 3.11 books with the highest User rating"
   ]
  },
  {
   "cell_type": "code",
   "execution_count": 32,
   "id": "4d8ae840",
   "metadata": {},
   "outputs": [
    {
     "data": {
      "application/vnd.plotly.v1+json": {
       "config": {
        "plotlyServerURL": "https://plot.ly"
       },
       "data": [
        {
         "cells": {
          "values": [
           [
            "Goodnight, Goodnight Construction Site (Hardcover Books for Toddlers, Preschool Books for Kids)",
            "Rush Revere and the Brave Pilgrims: Time-Travel Adventures with Exceptional Americans (1)",
            "The Legend of Zelda: Hyrule Historia",
            "Little Blue Truck",
            "Rush Revere and the First Patriots: Time-Travel Adventures With Exceptional Americans (2)",
            "Humans of New York : Stories",
            "Hamilton: The Revolution",
            "Harry Potter and the Chamber of Secrets: The Illustrated Edition (Harry Potter, Book 2)",
            "Harry Potter and the Sorcerer's Stone: The Illustrated Edition (Harry Potter, Book 1)",
            "Jesus Calling: Enjoying Peace in His Presence (with Scripture References)",
            "The Magnolia Story",
            "Dog Man: A Tale of Two Kitties: From the Creator of Captain Underpants (Dog Man #3)",
            "Harry Potter and the Prisoner of Azkaban: The Illustrated Edition (Harry Potter, Book 3)",
            "Obama: An Intimate Portrait",
            "Dog Man and Cat Kid: From the Creator of Captain Underpants (Dog Man #4)",
            "Dog Man: Lord of the Fleas: From the Creator of Captain Underpants (Dog Man #5)",
            "Last Week Tonight with John Oliver Presents A Day in the Life of Marlon Bundo (Better Bundo Book, LGBT ChildrenÂs Book)",
            "Brown Bear, Brown Bear, What Do You See?",
            "Dog Man: Brawl of the Wild: From the Creator of Captain Underpants (Dog Man #6)",
            "Dog Man: Fetch-22: From the Creator of Captain Underpants (Dog Man #8)",
            "Dog Man: For Whom the Ball Rolls: From the Creator of Captain Underpants (Dog Man #7)",
            "Harry Potter and the Goblet of Fire: The Illustrated Edition (Harry Potter, Book 4) (4)",
            "Oh, the Places You'll Go!",
            "Strange Planet (Strange Planet Series)",
            "The Very Hungry Caterpillar",
            "The Wonderful Things You Will Be",
            "Unfreedom of the Press",
            "Wrecking Ball (Diary of a Wimpy Kid Book 14)",
            "Diary of a Wimpy Kid: The Last Straw (Book 3)"
           ],
           [
            4.9,
            4.9,
            4.9,
            4.9,
            4.9,
            4.9,
            4.9,
            4.9,
            4.9,
            4.9,
            4.9,
            4.9,
            4.9,
            4.9,
            4.9,
            4.9,
            4.9,
            4.9,
            4.9,
            4.9,
            4.9,
            4.9,
            4.9,
            4.9,
            4.9,
            4.9,
            4.9,
            4.9,
            4.8
           ],
           [
            2013,
            2013,
            2013,
            2014,
            2014,
            2015,
            2016,
            2016,
            2016,
            2016,
            2016,
            2017,
            2017,
            2017,
            2018,
            2018,
            2018,
            2019,
            2019,
            2019,
            2019,
            2019,
            2019,
            2019,
            2019,
            2019,
            2019,
            2019,
            2009
           ],
           [
            "Fiction",
            "Fiction",
            "Fiction",
            "Fiction",
            "Fiction",
            "Non Fiction",
            "Non Fiction",
            "Fiction",
            "Fiction",
            "Non Fiction",
            "Non Fiction",
            "Fiction",
            "Fiction",
            "Non Fiction",
            "Fiction",
            "Fiction",
            "Fiction",
            "Fiction",
            "Fiction",
            "Fiction",
            "Fiction",
            "Fiction",
            "Fiction",
            "Fiction",
            "Fiction",
            "Fiction",
            "Non Fiction",
            "Fiction",
            "Fiction"
           ]
          ]
         },
         "header": {
          "values": [
           "Book",
           "User Rating",
           "Year",
           "Genre"
          ]
         },
         "type": "table"
        }
       ],
       "layout": {
        "autosize": true,
        "template": {
         "data": {
          "bar": [
           {
            "error_x": {
             "color": "#2a3f5f"
            },
            "error_y": {
             "color": "#2a3f5f"
            },
            "marker": {
             "line": {
              "color": "#E5ECF6",
              "width": 0.5
             },
             "pattern": {
              "fillmode": "overlay",
              "size": 10,
              "solidity": 0.2
             }
            },
            "type": "bar"
           }
          ],
          "barpolar": [
           {
            "marker": {
             "line": {
              "color": "#E5ECF6",
              "width": 0.5
             },
             "pattern": {
              "fillmode": "overlay",
              "size": 10,
              "solidity": 0.2
             }
            },
            "type": "barpolar"
           }
          ],
          "carpet": [
           {
            "aaxis": {
             "endlinecolor": "#2a3f5f",
             "gridcolor": "white",
             "linecolor": "white",
             "minorgridcolor": "white",
             "startlinecolor": "#2a3f5f"
            },
            "baxis": {
             "endlinecolor": "#2a3f5f",
             "gridcolor": "white",
             "linecolor": "white",
             "minorgridcolor": "white",
             "startlinecolor": "#2a3f5f"
            },
            "type": "carpet"
           }
          ],
          "choropleth": [
           {
            "colorbar": {
             "outlinewidth": 0,
             "ticks": ""
            },
            "type": "choropleth"
           }
          ],
          "contour": [
           {
            "colorbar": {
             "outlinewidth": 0,
             "ticks": ""
            },
            "colorscale": [
             [
              0,
              "#0d0887"
             ],
             [
              0.1111111111111111,
              "#46039f"
             ],
             [
              0.2222222222222222,
              "#7201a8"
             ],
             [
              0.3333333333333333,
              "#9c179e"
             ],
             [
              0.4444444444444444,
              "#bd3786"
             ],
             [
              0.5555555555555556,
              "#d8576b"
             ],
             [
              0.6666666666666666,
              "#ed7953"
             ],
             [
              0.7777777777777778,
              "#fb9f3a"
             ],
             [
              0.8888888888888888,
              "#fdca26"
             ],
             [
              1,
              "#f0f921"
             ]
            ],
            "type": "contour"
           }
          ],
          "contourcarpet": [
           {
            "colorbar": {
             "outlinewidth": 0,
             "ticks": ""
            },
            "type": "contourcarpet"
           }
          ],
          "heatmap": [
           {
            "colorbar": {
             "outlinewidth": 0,
             "ticks": ""
            },
            "colorscale": [
             [
              0,
              "#0d0887"
             ],
             [
              0.1111111111111111,
              "#46039f"
             ],
             [
              0.2222222222222222,
              "#7201a8"
             ],
             [
              0.3333333333333333,
              "#9c179e"
             ],
             [
              0.4444444444444444,
              "#bd3786"
             ],
             [
              0.5555555555555556,
              "#d8576b"
             ],
             [
              0.6666666666666666,
              "#ed7953"
             ],
             [
              0.7777777777777778,
              "#fb9f3a"
             ],
             [
              0.8888888888888888,
              "#fdca26"
             ],
             [
              1,
              "#f0f921"
             ]
            ],
            "type": "heatmap"
           }
          ],
          "heatmapgl": [
           {
            "colorbar": {
             "outlinewidth": 0,
             "ticks": ""
            },
            "colorscale": [
             [
              0,
              "#0d0887"
             ],
             [
              0.1111111111111111,
              "#46039f"
             ],
             [
              0.2222222222222222,
              "#7201a8"
             ],
             [
              0.3333333333333333,
              "#9c179e"
             ],
             [
              0.4444444444444444,
              "#bd3786"
             ],
             [
              0.5555555555555556,
              "#d8576b"
             ],
             [
              0.6666666666666666,
              "#ed7953"
             ],
             [
              0.7777777777777778,
              "#fb9f3a"
             ],
             [
              0.8888888888888888,
              "#fdca26"
             ],
             [
              1,
              "#f0f921"
             ]
            ],
            "type": "heatmapgl"
           }
          ],
          "histogram": [
           {
            "marker": {
             "pattern": {
              "fillmode": "overlay",
              "size": 10,
              "solidity": 0.2
             }
            },
            "type": "histogram"
           }
          ],
          "histogram2d": [
           {
            "colorbar": {
             "outlinewidth": 0,
             "ticks": ""
            },
            "colorscale": [
             [
              0,
              "#0d0887"
             ],
             [
              0.1111111111111111,
              "#46039f"
             ],
             [
              0.2222222222222222,
              "#7201a8"
             ],
             [
              0.3333333333333333,
              "#9c179e"
             ],
             [
              0.4444444444444444,
              "#bd3786"
             ],
             [
              0.5555555555555556,
              "#d8576b"
             ],
             [
              0.6666666666666666,
              "#ed7953"
             ],
             [
              0.7777777777777778,
              "#fb9f3a"
             ],
             [
              0.8888888888888888,
              "#fdca26"
             ],
             [
              1,
              "#f0f921"
             ]
            ],
            "type": "histogram2d"
           }
          ],
          "histogram2dcontour": [
           {
            "colorbar": {
             "outlinewidth": 0,
             "ticks": ""
            },
            "colorscale": [
             [
              0,
              "#0d0887"
             ],
             [
              0.1111111111111111,
              "#46039f"
             ],
             [
              0.2222222222222222,
              "#7201a8"
             ],
             [
              0.3333333333333333,
              "#9c179e"
             ],
             [
              0.4444444444444444,
              "#bd3786"
             ],
             [
              0.5555555555555556,
              "#d8576b"
             ],
             [
              0.6666666666666666,
              "#ed7953"
             ],
             [
              0.7777777777777778,
              "#fb9f3a"
             ],
             [
              0.8888888888888888,
              "#fdca26"
             ],
             [
              1,
              "#f0f921"
             ]
            ],
            "type": "histogram2dcontour"
           }
          ],
          "mesh3d": [
           {
            "colorbar": {
             "outlinewidth": 0,
             "ticks": ""
            },
            "type": "mesh3d"
           }
          ],
          "parcoords": [
           {
            "line": {
             "colorbar": {
              "outlinewidth": 0,
              "ticks": ""
             }
            },
            "type": "parcoords"
           }
          ],
          "pie": [
           {
            "automargin": true,
            "type": "pie"
           }
          ],
          "scatter": [
           {
            "fillpattern": {
             "fillmode": "overlay",
             "size": 10,
             "solidity": 0.2
            },
            "type": "scatter"
           }
          ],
          "scatter3d": [
           {
            "line": {
             "colorbar": {
              "outlinewidth": 0,
              "ticks": ""
             }
            },
            "marker": {
             "colorbar": {
              "outlinewidth": 0,
              "ticks": ""
             }
            },
            "type": "scatter3d"
           }
          ],
          "scattercarpet": [
           {
            "marker": {
             "colorbar": {
              "outlinewidth": 0,
              "ticks": ""
             }
            },
            "type": "scattercarpet"
           }
          ],
          "scattergeo": [
           {
            "marker": {
             "colorbar": {
              "outlinewidth": 0,
              "ticks": ""
             }
            },
            "type": "scattergeo"
           }
          ],
          "scattergl": [
           {
            "marker": {
             "colorbar": {
              "outlinewidth": 0,
              "ticks": ""
             }
            },
            "type": "scattergl"
           }
          ],
          "scattermapbox": [
           {
            "marker": {
             "colorbar": {
              "outlinewidth": 0,
              "ticks": ""
             }
            },
            "type": "scattermapbox"
           }
          ],
          "scatterpolar": [
           {
            "marker": {
             "colorbar": {
              "outlinewidth": 0,
              "ticks": ""
             }
            },
            "type": "scatterpolar"
           }
          ],
          "scatterpolargl": [
           {
            "marker": {
             "colorbar": {
              "outlinewidth": 0,
              "ticks": ""
             }
            },
            "type": "scatterpolargl"
           }
          ],
          "scatterternary": [
           {
            "marker": {
             "colorbar": {
              "outlinewidth": 0,
              "ticks": ""
             }
            },
            "type": "scatterternary"
           }
          ],
          "surface": [
           {
            "colorbar": {
             "outlinewidth": 0,
             "ticks": ""
            },
            "colorscale": [
             [
              0,
              "#0d0887"
             ],
             [
              0.1111111111111111,
              "#46039f"
             ],
             [
              0.2222222222222222,
              "#7201a8"
             ],
             [
              0.3333333333333333,
              "#9c179e"
             ],
             [
              0.4444444444444444,
              "#bd3786"
             ],
             [
              0.5555555555555556,
              "#d8576b"
             ],
             [
              0.6666666666666666,
              "#ed7953"
             ],
             [
              0.7777777777777778,
              "#fb9f3a"
             ],
             [
              0.8888888888888888,
              "#fdca26"
             ],
             [
              1,
              "#f0f921"
             ]
            ],
            "type": "surface"
           }
          ],
          "table": [
           {
            "cells": {
             "fill": {
              "color": "#EBF0F8"
             },
             "line": {
              "color": "white"
             }
            },
            "header": {
             "fill": {
              "color": "#C8D4E3"
             },
             "line": {
              "color": "white"
             }
            },
            "type": "table"
           }
          ]
         },
         "layout": {
          "annotationdefaults": {
           "arrowcolor": "#2a3f5f",
           "arrowhead": 0,
           "arrowwidth": 1
          },
          "autotypenumbers": "strict",
          "coloraxis": {
           "colorbar": {
            "outlinewidth": 0,
            "ticks": ""
           }
          },
          "colorscale": {
           "diverging": [
            [
             0,
             "#8e0152"
            ],
            [
             0.1,
             "#c51b7d"
            ],
            [
             0.2,
             "#de77ae"
            ],
            [
             0.3,
             "#f1b6da"
            ],
            [
             0.4,
             "#fde0ef"
            ],
            [
             0.5,
             "#f7f7f7"
            ],
            [
             0.6,
             "#e6f5d0"
            ],
            [
             0.7,
             "#b8e186"
            ],
            [
             0.8,
             "#7fbc41"
            ],
            [
             0.9,
             "#4d9221"
            ],
            [
             1,
             "#276419"
            ]
           ],
           "sequential": [
            [
             0,
             "#0d0887"
            ],
            [
             0.1111111111111111,
             "#46039f"
            ],
            [
             0.2222222222222222,
             "#7201a8"
            ],
            [
             0.3333333333333333,
             "#9c179e"
            ],
            [
             0.4444444444444444,
             "#bd3786"
            ],
            [
             0.5555555555555556,
             "#d8576b"
            ],
            [
             0.6666666666666666,
             "#ed7953"
            ],
            [
             0.7777777777777778,
             "#fb9f3a"
            ],
            [
             0.8888888888888888,
             "#fdca26"
            ],
            [
             1,
             "#f0f921"
            ]
           ],
           "sequentialminus": [
            [
             0,
             "#0d0887"
            ],
            [
             0.1111111111111111,
             "#46039f"
            ],
            [
             0.2222222222222222,
             "#7201a8"
            ],
            [
             0.3333333333333333,
             "#9c179e"
            ],
            [
             0.4444444444444444,
             "#bd3786"
            ],
            [
             0.5555555555555556,
             "#d8576b"
            ],
            [
             0.6666666666666666,
             "#ed7953"
            ],
            [
             0.7777777777777778,
             "#fb9f3a"
            ],
            [
             0.8888888888888888,
             "#fdca26"
            ],
            [
             1,
             "#f0f921"
            ]
           ]
          },
          "colorway": [
           "#636efa",
           "#EF553B",
           "#00cc96",
           "#ab63fa",
           "#FFA15A",
           "#19d3f3",
           "#FF6692",
           "#B6E880",
           "#FF97FF",
           "#FECB52"
          ],
          "font": {
           "color": "#2a3f5f"
          },
          "geo": {
           "bgcolor": "white",
           "lakecolor": "white",
           "landcolor": "#E5ECF6",
           "showlakes": true,
           "showland": true,
           "subunitcolor": "white"
          },
          "hoverlabel": {
           "align": "left"
          },
          "hovermode": "closest",
          "mapbox": {
           "style": "light"
          },
          "paper_bgcolor": "white",
          "plot_bgcolor": "#E5ECF6",
          "polar": {
           "angularaxis": {
            "gridcolor": "white",
            "linecolor": "white",
            "ticks": ""
           },
           "bgcolor": "#E5ECF6",
           "radialaxis": {
            "gridcolor": "white",
            "linecolor": "white",
            "ticks": ""
           }
          },
          "scene": {
           "xaxis": {
            "backgroundcolor": "#E5ECF6",
            "gridcolor": "white",
            "gridwidth": 2,
            "linecolor": "white",
            "showbackground": true,
            "ticks": "",
            "zerolinecolor": "white"
           },
           "yaxis": {
            "backgroundcolor": "#E5ECF6",
            "gridcolor": "white",
            "gridwidth": 2,
            "linecolor": "white",
            "showbackground": true,
            "ticks": "",
            "zerolinecolor": "white"
           },
           "zaxis": {
            "backgroundcolor": "#E5ECF6",
            "gridcolor": "white",
            "gridwidth": 2,
            "linecolor": "white",
            "showbackground": true,
            "ticks": "",
            "zerolinecolor": "white"
           }
          },
          "shapedefaults": {
           "line": {
            "color": "#2a3f5f"
           }
          },
          "ternary": {
           "aaxis": {
            "gridcolor": "white",
            "linecolor": "white",
            "ticks": ""
           },
           "baxis": {
            "gridcolor": "white",
            "linecolor": "white",
            "ticks": ""
           },
           "bgcolor": "#E5ECF6",
           "caxis": {
            "gridcolor": "white",
            "linecolor": "white",
            "ticks": ""
           }
          },
          "title": {
           "x": 0.05
          },
          "xaxis": {
           "automargin": true,
           "gridcolor": "white",
           "linecolor": "white",
           "ticks": "",
           "title": {
            "standoff": 15
           },
           "zerolinecolor": "white",
           "zerolinewidth": 2
          },
          "yaxis": {
           "automargin": true,
           "gridcolor": "white",
           "linecolor": "white",
           "ticks": "",
           "title": {
            "standoff": 15
           },
           "zerolinecolor": "white",
           "zerolinewidth": 2
          }
         }
        }
       }
      },
      "text/html": [
       "<div>                            <div id=\"fc9daa79-1aef-4322-a519-2485b308421b\" class=\"plotly-graph-div\" style=\"height:525px; width:100%;\"></div>            <script type=\"text/javascript\">                require([\"plotly\"], function(Plotly) {                    window.PLOTLYENV=window.PLOTLYENV || {};                                    if (document.getElementById(\"fc9daa79-1aef-4322-a519-2485b308421b\")) {                    Plotly.newPlot(                        \"fc9daa79-1aef-4322-a519-2485b308421b\",                        [{\"cells\":{\"values\":[[\"Goodnight, Goodnight Construction Site (Hardcover Books for Toddlers, Preschool Books for Kids)\",\"Rush Revere and the Brave Pilgrims: Time-Travel Adventures with Exceptional Americans (1)\",\"The Legend of Zelda: Hyrule Historia\",\"Little Blue Truck\",\"Rush Revere and the First Patriots: Time-Travel Adventures With Exceptional Americans (2)\",\"Humans of New York : Stories\",\"Hamilton: The Revolution\",\"Harry Potter and the Chamber of Secrets: The Illustrated Edition (Harry Potter, Book 2)\",\"Harry Potter and the Sorcerer's Stone: The Illustrated Edition (Harry Potter, Book 1)\",\"Jesus Calling: Enjoying Peace in His Presence (with Scripture References)\",\"The Magnolia Story\",\"Dog Man: A Tale of Two Kitties: From the Creator of Captain Underpants (Dog Man #3)\",\"Harry Potter and the Prisoner of Azkaban: The Illustrated Edition (Harry Potter, Book 3)\",\"Obama: An Intimate Portrait\",\"Dog Man and Cat Kid: From the Creator of Captain Underpants (Dog Man #4)\",\"Dog Man: Lord of the Fleas: From the Creator of Captain Underpants (Dog Man #5)\",\"Last Week Tonight with John Oliver Presents A Day in the Life of Marlon Bundo (Better Bundo Book, LGBT Children\\u00c2\\u0092s Book)\",\"Brown Bear, Brown Bear, What Do You See?\",\"Dog Man: Brawl of the Wild: From the Creator of Captain Underpants (Dog Man #6)\",\"Dog Man: Fetch-22: From the Creator of Captain Underpants (Dog Man #8)\",\"Dog Man: For Whom the Ball Rolls: From the Creator of Captain Underpants (Dog Man #7)\",\"Harry Potter and the Goblet of Fire: The Illustrated Edition (Harry Potter, Book 4) (4)\",\"Oh, the Places You'll Go!\",\"Strange Planet (Strange Planet Series)\",\"The Very Hungry Caterpillar\",\"The Wonderful Things You Will Be\",\"Unfreedom of the Press\",\"Wrecking Ball (Diary of a Wimpy Kid Book 14)\",\"Diary of a Wimpy Kid: The Last Straw (Book 3)\"],[4.9,4.9,4.9,4.9,4.9,4.9,4.9,4.9,4.9,4.9,4.9,4.9,4.9,4.9,4.9,4.9,4.9,4.9,4.9,4.9,4.9,4.9,4.9,4.9,4.9,4.9,4.9,4.9,4.8],[2013,2013,2013,2014,2014,2015,2016,2016,2016,2016,2016,2017,2017,2017,2018,2018,2018,2019,2019,2019,2019,2019,2019,2019,2019,2019,2019,2019,2009],[\"Fiction\",\"Fiction\",\"Fiction\",\"Fiction\",\"Fiction\",\"Non Fiction\",\"Non Fiction\",\"Fiction\",\"Fiction\",\"Non Fiction\",\"Non Fiction\",\"Fiction\",\"Fiction\",\"Non Fiction\",\"Fiction\",\"Fiction\",\"Fiction\",\"Fiction\",\"Fiction\",\"Fiction\",\"Fiction\",\"Fiction\",\"Fiction\",\"Fiction\",\"Fiction\",\"Fiction\",\"Non Fiction\",\"Fiction\",\"Fiction\"]]},\"header\":{\"values\":[\"Book\",\"User Rating\",\"Year\",\"Genre\"]},\"type\":\"table\"}],                        {\"template\":{\"data\":{\"histogram2dcontour\":[{\"type\":\"histogram2dcontour\",\"colorbar\":{\"outlinewidth\":0,\"ticks\":\"\"},\"colorscale\":[[0.0,\"#0d0887\"],[0.1111111111111111,\"#46039f\"],[0.2222222222222222,\"#7201a8\"],[0.3333333333333333,\"#9c179e\"],[0.4444444444444444,\"#bd3786\"],[0.5555555555555556,\"#d8576b\"],[0.6666666666666666,\"#ed7953\"],[0.7777777777777778,\"#fb9f3a\"],[0.8888888888888888,\"#fdca26\"],[1.0,\"#f0f921\"]]}],\"choropleth\":[{\"type\":\"choropleth\",\"colorbar\":{\"outlinewidth\":0,\"ticks\":\"\"}}],\"histogram2d\":[{\"type\":\"histogram2d\",\"colorbar\":{\"outlinewidth\":0,\"ticks\":\"\"},\"colorscale\":[[0.0,\"#0d0887\"],[0.1111111111111111,\"#46039f\"],[0.2222222222222222,\"#7201a8\"],[0.3333333333333333,\"#9c179e\"],[0.4444444444444444,\"#bd3786\"],[0.5555555555555556,\"#d8576b\"],[0.6666666666666666,\"#ed7953\"],[0.7777777777777778,\"#fb9f3a\"],[0.8888888888888888,\"#fdca26\"],[1.0,\"#f0f921\"]]}],\"heatmap\":[{\"type\":\"heatmap\",\"colorbar\":{\"outlinewidth\":0,\"ticks\":\"\"},\"colorscale\":[[0.0,\"#0d0887\"],[0.1111111111111111,\"#46039f\"],[0.2222222222222222,\"#7201a8\"],[0.3333333333333333,\"#9c179e\"],[0.4444444444444444,\"#bd3786\"],[0.5555555555555556,\"#d8576b\"],[0.6666666666666666,\"#ed7953\"],[0.7777777777777778,\"#fb9f3a\"],[0.8888888888888888,\"#fdca26\"],[1.0,\"#f0f921\"]]}],\"heatmapgl\":[{\"type\":\"heatmapgl\",\"colorbar\":{\"outlinewidth\":0,\"ticks\":\"\"},\"colorscale\":[[0.0,\"#0d0887\"],[0.1111111111111111,\"#46039f\"],[0.2222222222222222,\"#7201a8\"],[0.3333333333333333,\"#9c179e\"],[0.4444444444444444,\"#bd3786\"],[0.5555555555555556,\"#d8576b\"],[0.6666666666666666,\"#ed7953\"],[0.7777777777777778,\"#fb9f3a\"],[0.8888888888888888,\"#fdca26\"],[1.0,\"#f0f921\"]]}],\"contourcarpet\":[{\"type\":\"contourcarpet\",\"colorbar\":{\"outlinewidth\":0,\"ticks\":\"\"}}],\"contour\":[{\"type\":\"contour\",\"colorbar\":{\"outlinewidth\":0,\"ticks\":\"\"},\"colorscale\":[[0.0,\"#0d0887\"],[0.1111111111111111,\"#46039f\"],[0.2222222222222222,\"#7201a8\"],[0.3333333333333333,\"#9c179e\"],[0.4444444444444444,\"#bd3786\"],[0.5555555555555556,\"#d8576b\"],[0.6666666666666666,\"#ed7953\"],[0.7777777777777778,\"#fb9f3a\"],[0.8888888888888888,\"#fdca26\"],[1.0,\"#f0f921\"]]}],\"surface\":[{\"type\":\"surface\",\"colorbar\":{\"outlinewidth\":0,\"ticks\":\"\"},\"colorscale\":[[0.0,\"#0d0887\"],[0.1111111111111111,\"#46039f\"],[0.2222222222222222,\"#7201a8\"],[0.3333333333333333,\"#9c179e\"],[0.4444444444444444,\"#bd3786\"],[0.5555555555555556,\"#d8576b\"],[0.6666666666666666,\"#ed7953\"],[0.7777777777777778,\"#fb9f3a\"],[0.8888888888888888,\"#fdca26\"],[1.0,\"#f0f921\"]]}],\"mesh3d\":[{\"type\":\"mesh3d\",\"colorbar\":{\"outlinewidth\":0,\"ticks\":\"\"}}],\"scatter\":[{\"fillpattern\":{\"fillmode\":\"overlay\",\"size\":10,\"solidity\":0.2},\"type\":\"scatter\"}],\"parcoords\":[{\"type\":\"parcoords\",\"line\":{\"colorbar\":{\"outlinewidth\":0,\"ticks\":\"\"}}}],\"scatterpolargl\":[{\"type\":\"scatterpolargl\",\"marker\":{\"colorbar\":{\"outlinewidth\":0,\"ticks\":\"\"}}}],\"bar\":[{\"error_x\":{\"color\":\"#2a3f5f\"},\"error_y\":{\"color\":\"#2a3f5f\"},\"marker\":{\"line\":{\"color\":\"#E5ECF6\",\"width\":0.5},\"pattern\":{\"fillmode\":\"overlay\",\"size\":10,\"solidity\":0.2}},\"type\":\"bar\"}],\"scattergeo\":[{\"type\":\"scattergeo\",\"marker\":{\"colorbar\":{\"outlinewidth\":0,\"ticks\":\"\"}}}],\"scatterpolar\":[{\"type\":\"scatterpolar\",\"marker\":{\"colorbar\":{\"outlinewidth\":0,\"ticks\":\"\"}}}],\"histogram\":[{\"marker\":{\"pattern\":{\"fillmode\":\"overlay\",\"size\":10,\"solidity\":0.2}},\"type\":\"histogram\"}],\"scattergl\":[{\"type\":\"scattergl\",\"marker\":{\"colorbar\":{\"outlinewidth\":0,\"ticks\":\"\"}}}],\"scatter3d\":[{\"type\":\"scatter3d\",\"line\":{\"colorbar\":{\"outlinewidth\":0,\"ticks\":\"\"}},\"marker\":{\"colorbar\":{\"outlinewidth\":0,\"ticks\":\"\"}}}],\"scattermapbox\":[{\"type\":\"scattermapbox\",\"marker\":{\"colorbar\":{\"outlinewidth\":0,\"ticks\":\"\"}}}],\"scatterternary\":[{\"type\":\"scatterternary\",\"marker\":{\"colorbar\":{\"outlinewidth\":0,\"ticks\":\"\"}}}],\"scattercarpet\":[{\"type\":\"scattercarpet\",\"marker\":{\"colorbar\":{\"outlinewidth\":0,\"ticks\":\"\"}}}],\"carpet\":[{\"aaxis\":{\"endlinecolor\":\"#2a3f5f\",\"gridcolor\":\"white\",\"linecolor\":\"white\",\"minorgridcolor\":\"white\",\"startlinecolor\":\"#2a3f5f\"},\"baxis\":{\"endlinecolor\":\"#2a3f5f\",\"gridcolor\":\"white\",\"linecolor\":\"white\",\"minorgridcolor\":\"white\",\"startlinecolor\":\"#2a3f5f\"},\"type\":\"carpet\"}],\"table\":[{\"cells\":{\"fill\":{\"color\":\"#EBF0F8\"},\"line\":{\"color\":\"white\"}},\"header\":{\"fill\":{\"color\":\"#C8D4E3\"},\"line\":{\"color\":\"white\"}},\"type\":\"table\"}],\"barpolar\":[{\"marker\":{\"line\":{\"color\":\"#E5ECF6\",\"width\":0.5},\"pattern\":{\"fillmode\":\"overlay\",\"size\":10,\"solidity\":0.2}},\"type\":\"barpolar\"}],\"pie\":[{\"automargin\":true,\"type\":\"pie\"}]},\"layout\":{\"autotypenumbers\":\"strict\",\"colorway\":[\"#636efa\",\"#EF553B\",\"#00cc96\",\"#ab63fa\",\"#FFA15A\",\"#19d3f3\",\"#FF6692\",\"#B6E880\",\"#FF97FF\",\"#FECB52\"],\"font\":{\"color\":\"#2a3f5f\"},\"hovermode\":\"closest\",\"hoverlabel\":{\"align\":\"left\"},\"paper_bgcolor\":\"white\",\"plot_bgcolor\":\"#E5ECF6\",\"polar\":{\"bgcolor\":\"#E5ECF6\",\"angularaxis\":{\"gridcolor\":\"white\",\"linecolor\":\"white\",\"ticks\":\"\"},\"radialaxis\":{\"gridcolor\":\"white\",\"linecolor\":\"white\",\"ticks\":\"\"}},\"ternary\":{\"bgcolor\":\"#E5ECF6\",\"aaxis\":{\"gridcolor\":\"white\",\"linecolor\":\"white\",\"ticks\":\"\"},\"baxis\":{\"gridcolor\":\"white\",\"linecolor\":\"white\",\"ticks\":\"\"},\"caxis\":{\"gridcolor\":\"white\",\"linecolor\":\"white\",\"ticks\":\"\"}},\"coloraxis\":{\"colorbar\":{\"outlinewidth\":0,\"ticks\":\"\"}},\"colorscale\":{\"sequential\":[[0.0,\"#0d0887\"],[0.1111111111111111,\"#46039f\"],[0.2222222222222222,\"#7201a8\"],[0.3333333333333333,\"#9c179e\"],[0.4444444444444444,\"#bd3786\"],[0.5555555555555556,\"#d8576b\"],[0.6666666666666666,\"#ed7953\"],[0.7777777777777778,\"#fb9f3a\"],[0.8888888888888888,\"#fdca26\"],[1.0,\"#f0f921\"]],\"sequentialminus\":[[0.0,\"#0d0887\"],[0.1111111111111111,\"#46039f\"],[0.2222222222222222,\"#7201a8\"],[0.3333333333333333,\"#9c179e\"],[0.4444444444444444,\"#bd3786\"],[0.5555555555555556,\"#d8576b\"],[0.6666666666666666,\"#ed7953\"],[0.7777777777777778,\"#fb9f3a\"],[0.8888888888888888,\"#fdca26\"],[1.0,\"#f0f921\"]],\"diverging\":[[0,\"#8e0152\"],[0.1,\"#c51b7d\"],[0.2,\"#de77ae\"],[0.3,\"#f1b6da\"],[0.4,\"#fde0ef\"],[0.5,\"#f7f7f7\"],[0.6,\"#e6f5d0\"],[0.7,\"#b8e186\"],[0.8,\"#7fbc41\"],[0.9,\"#4d9221\"],[1,\"#276419\"]]},\"xaxis\":{\"gridcolor\":\"white\",\"linecolor\":\"white\",\"ticks\":\"\",\"title\":{\"standoff\":15},\"zerolinecolor\":\"white\",\"automargin\":true,\"zerolinewidth\":2},\"yaxis\":{\"gridcolor\":\"white\",\"linecolor\":\"white\",\"ticks\":\"\",\"title\":{\"standoff\":15},\"zerolinecolor\":\"white\",\"automargin\":true,\"zerolinewidth\":2},\"scene\":{\"xaxis\":{\"backgroundcolor\":\"#E5ECF6\",\"gridcolor\":\"white\",\"linecolor\":\"white\",\"showbackground\":true,\"ticks\":\"\",\"zerolinecolor\":\"white\",\"gridwidth\":2},\"yaxis\":{\"backgroundcolor\":\"#E5ECF6\",\"gridcolor\":\"white\",\"linecolor\":\"white\",\"showbackground\":true,\"ticks\":\"\",\"zerolinecolor\":\"white\",\"gridwidth\":2},\"zaxis\":{\"backgroundcolor\":\"#E5ECF6\",\"gridcolor\":\"white\",\"linecolor\":\"white\",\"showbackground\":true,\"ticks\":\"\",\"zerolinecolor\":\"white\",\"gridwidth\":2}},\"shapedefaults\":{\"line\":{\"color\":\"#2a3f5f\"}},\"annotationdefaults\":{\"arrowcolor\":\"#2a3f5f\",\"arrowhead\":0,\"arrowwidth\":1},\"geo\":{\"bgcolor\":\"white\",\"landcolor\":\"#E5ECF6\",\"subunitcolor\":\"white\",\"showland\":true,\"showlakes\":true,\"lakecolor\":\"white\"},\"title\":{\"x\":0.05},\"mapbox\":{\"style\":\"light\"}}}},                        {\"responsive\": true}                    ).then(function(){\n",
       "                            \n",
       "var gd = document.getElementById('fc9daa79-1aef-4322-a519-2485b308421b');\n",
       "var x = new MutationObserver(function (mutations, observer) {{\n",
       "        var display = window.getComputedStyle(gd).display;\n",
       "        if (!display || display === 'none') {{\n",
       "            console.log([gd, 'removed!']);\n",
       "            Plotly.purge(gd);\n",
       "            observer.disconnect();\n",
       "        }}\n",
       "}});\n",
       "\n",
       "// Listen for the removal of the full notebook cells\n",
       "var notebookContainer = gd.closest('#notebook-container');\n",
       "if (notebookContainer) {{\n",
       "    x.observe(notebookContainer, {childList: true});\n",
       "}}\n",
       "\n",
       "// Listen for the clearing of the current output cell\n",
       "var outputEl = gd.closest('.output');\n",
       "if (outputEl) {{\n",
       "    x.observe(outputEl, {childList: true});\n",
       "}}\n",
       "\n",
       "                        })                };                });            </script>        </div>"
      ]
     },
     "metadata": {},
     "output_type": "display_data"
    }
   ],
   "source": [
    "df4 = df.sort_values(by=['User Rating','Year'],ascending=[False,True])[:53]\n",
    "df4.drop_duplicates(subset =\"Name\",\n",
    "                     keep = 'last', inplace = True)\n",
    "fig = go.Figure(data=[go.Table(\n",
    "    header=dict(values=['Book', 'User Rating','Year','Genre']),\n",
    "    cells=dict(values=[df4.Name,\n",
    "                       list(df4['User Rating']),\n",
    "                       df4.Year,\n",
    "                       df4.Genre]))])\n",
    "fig.show()"
   ]
  },
  {
   "cell_type": "markdown",
   "id": "0498f234-5b6e-453f-81fa-73e480f155a1",
   "metadata": {},
   "source": [
    "### 3.12 number of books taking into account genre"
   ]
  },
  {
   "cell_type": "code",
   "execution_count": 87,
   "id": "ba804ca5",
   "metadata": {},
   "outputs": [
    {
     "data": {
      "text/plain": [
       "Text(0, 0.5, 'Number of Books')"
      ]
     },
     "execution_count": 87,
     "metadata": {},
     "output_type": "execute_result"
    },
    {
     "data": {
      "image/png": "[encoded data removed]",
      "text/plain": [
       "<Figure size 432x288 with 1 Axes>"
      ]
     },
     "metadata": {
      "needs_background": "light"
     },
     "output_type": "display_data"
    }
   ],
   "source": [
    "df_6 = df.groupby(['Year','Genre'])['Genre'].size().unstack() \n",
    "df_6.plot(kind='bar', stacked=True, color=['darkblue', 'lightsteelblue'])\n",
    "plt.xlabel('Year')\n",
    "plt.ylabel('Number of Books')"
   ]
  },
  {
   "cell_type": "markdown",
   "id": "c63276a7-b754-44fc-894f-0f11b7ff2c41",
   "metadata": {},
   "source": [
    "### 3.13 User rating count"
   ]
  },
  {
   "cell_type": "code",
   "execution_count": 115,
   "id": "a8518d0b",
   "metadata": {},
   "outputs": [
    {
     "data": {
      "text/plain": [
       "Text(0.5, 1.0, 'User Ratings Count')"
      ]
     },
     "execution_count": 115,
     "metadata": {},
     "output_type": "execute_result"
    },
    {
     "data": {
      "image/png": "[encoded data removed]",
      "text/plain": [
       "<Figure size 432x288 with 1 Axes>"
      ]
     },
     "metadata": {
      "needs_background": "light"
     },
     "output_type": "display_data"
    }
   ],
   "source": [
    "df_7 = df['User Rating'].value_counts().reset_index()\n",
    "\n",
    "sns.barplot(x = 'index', y = 'User Rating', color=\"royalblue\", data = df_7)\n",
    "plt.xlabel('User Rating')\n",
    "plt.ylabel('Count')\n",
    "plt.title('User Ratings Count')"
   ]
  },
  {
   "cell_type": "markdown",
   "id": "d7c92937-007a-4f43-9fa8-a6f0fc78e584",
   "metadata": {},
   "source": [
    "### 3.14 Average User Ratings over the Years"
   ]
  },
  {
   "cell_type": "code",
   "execution_count": 107,
   "id": "66098526",
   "metadata": {},
   "outputs": [
    {
     "data": {
      "text/plain": [
       "(4.4, 4.8)"
      ]
     },
     "execution_count": 107,
     "metadata": {},
     "output_type": "execute_result"
    },
    {
     "data": {
      "image/png": "[encoded data removed]",
      "text/plain": [
       "<Figure size 432x288 with 1 Axes>"
      ]
     },
     "metadata": {
      "needs_background": "light"
     },
     "output_type": "display_data"
    }
   ],
   "source": [
    "df_8 = df.groupby('Year').mean().reset_index()\n",
    "\n",
    "fig_8 = sns.barplot(x = 'Year', y = 'User Rating', color=\"royalblue\", data = df_8)\n",
    "plt.xlabel('Year')\n",
    "plt.ylabel('Average User Rating')\n",
    "plt.title('Average User Ratings over the Years')\n",
    "fig_8.set_ylim(4.4,4.8)"
   ]
  },
  {
   "cell_type": "markdown",
   "id": "5d76673a-8e8f-4bf3-b96b-e2c7331466e4",
   "metadata": {},
   "source": [
    "### 3.15 Average Number of Reviews over the Years"
   ]
  },
  {
   "cell_type": "code",
   "execution_count": 176,
   "id": "7e60a99b",
   "metadata": {},
   "outputs": [
    {
     "data": {
      "text/plain": [
       "Text(0.5, 1.0, 'Average Number of Reviews over the Years')"
      ]
     },
     "execution_count": 176,
     "metadata": {},
     "output_type": "execute_result"
    },
    {
     "data": {
      "image/png": "[encoded data removed]",
      "text/plain": [
       "<Figure size 432x288 with 1 Axes>"
      ]
     },
     "metadata": {
      "needs_background": "light"
     },
     "output_type": "display_data"
    }
   ],
   "source": [
    "df_13 = df.groupby('Year').mean().reset_index()\n",
    "\n",
    "fig_13 = sns.barplot(x = 'Year', y = 'Reviews', color=\"royalblue\", data = df_13)\n",
    "plt.xlabel('Year')\n",
    "plt.ylabel('Average Number of Reviews')\n",
    "plt.title('Average Number of Reviews over the Years')\n"
   ]
  },
  {
   "cell_type": "markdown",
   "id": "d82ad7d8-bf22-4e6d-9ad5-2004d8e00c37",
   "metadata": {},
   "source": [
    "### 3.16 Average Price over the Years"
   ]
  },
  {
   "cell_type": "code",
   "execution_count": 113,
   "id": "654dad7e",
   "metadata": {},
   "outputs": [
    {
     "data": {
      "text/plain": [
       "(8.0, 16.0)"
      ]
     },
     "execution_count": 113,
     "metadata": {},
     "output_type": "execute_result"
    },
    {
     "data": {
      "image/png": "[encoded data removed]",
      "text/plain": [
       "<Figure size 432x288 with 1 Axes>"
      ]
     },
     "metadata": {
      "needs_background": "light"
     },
     "output_type": "display_data"
    }
   ],
   "source": [
    "df_9 = df.groupby('Year').mean().reset_index()\n",
    "\n",
    "fig_9 = sns.barplot(x = 'Year', y = 'Price', color= \"royalblue\", data = df_9)\n",
    "plt.xlabel('Year')\n",
    "plt.ylabel('Average Price (USD)')\n",
    "plt.title('Average Price over the Years')\n",
    "fig_9.set_ylim(8,16)"
   ]
  },
  {
   "cell_type": "markdown",
   "id": "a8caa4f7-191b-4db8-acb9-c90c718fea32",
   "metadata": {},
   "source": [
    "## 3.16 Relationship between user rating and reviews"
   ]
  },
  {
   "cell_type": "code",
   "execution_count": 121,
   "id": "9e0c9196",
   "metadata": {},
   "outputs": [
    {
     "name": "stderr",
     "output_type": "stream",
     "text": [
      "/Users/ashioma/opt/anaconda3/lib/python3.9/site-packages/seaborn/axisgrid.py:88: UserWarning:\n",
      "\n",
      "Tight layout not applied. The left and right margins cannot be made large enough to accommodate all axes decorations.\n",
      "\n"
     ]
    },
    {
     "data": {
      "text/plain": [
       "<seaborn.axisgrid.FacetGrid at 0x7f83ac9abca0>"
      ]
     },
     "execution_count": 121,
     "metadata": {},
     "output_type": "execute_result"
    },
    {
     "data": {
      "image/png": "[encoded data removed]",
      "text/plain": [
       "<Figure size 451.5x360 with 1 Axes>"
      ]
     },
     "metadata": {
      "needs_background": "light"
     },
     "output_type": "display_data"
    }
   ],
   "source": [
    "df_10 = df.loc[df['User Rating'] > 4.65].sort_values('Reviews', ascending = False)\n",
    "sns.relplot(x = 'User Rating', y = 'Name', hue = 'Genre', data = df_10[:20])"
   ]
  }
 ],
 "metadata": {
  "kernelspec": {
   "display_name": "Python 3 (ipykernel)",
   "language": "python",
   "name": "python3"
  },
  "language_info": {
   "codemirror_mode": {
    "name": "ipython",
    "version": 3
   },
   "file_extension": ".py",
   "mimetype": "text/x-python",
   "name": "python",
   "nbconvert_exporter": "python",
   "pygments_lexer": "ipython3",
   "version": "3.9.7"
  }
 },
 "nbformat": 4,
 "nbformat_minor": 5
}
